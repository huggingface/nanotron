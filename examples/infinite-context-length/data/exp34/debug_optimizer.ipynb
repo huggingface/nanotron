{
 "cells": [
  {
   "cell_type": "code",
   "execution_count": 5,
   "metadata": {},
   "outputs": [],
   "source": [
    "import torch\n",
    "from safetensors import safe_open\n",
    "import torch.nn.functional as F"
   ]
  },
  {
   "cell_type": "code",
   "execution_count": 6,
   "metadata": {},
   "outputs": [],
   "source": [
    "def read_tensor(path):\n",
    "    tensors = {}\n",
    "    with safe_open(path, framework=\"pt\", device=\"cpu\") as f:\n",
    "        for key in f.keys():\n",
    "            tensors[key] = f.get_tensor(key)\n",
    "        \n",
    "    return tensors[\"data\"]"
   ]
  },
  {
   "cell_type": "code",
   "execution_count": 7,
   "metadata": {},
   "outputs": [],
   "source": [
    "OPTIM_STATE_RANK_0 = \"/fsx/phuc/projects/nanotron/checkpoints/exp33_debug_amplify_gradient_and_lr_0.00015/10/optimizer/optimizer_pp-0-of-1_tp-0-of-2_exp-0-of-1.pt\""
   ]
  },
  {
   "cell_type": "code",
   "execution_count": 9,
   "metadata": {},
   "outputs": [],
   "source": [
    "state_0 =torch.load(OPTIM_STATE_RANK_0)"
   ]
  },
  {
   "cell_type": "code",
   "execution_count": 25,
   "metadata": {},
   "outputs": [
    {
     "data": {
      "text/plain": [
       "{'step': tensor(10., device='cuda:0'),\n",
       " 'exp_avg': tensor([[ 5.6243e-04,  9.4370e-04,  1.2402e-03,  ..., -1.9598e-03,\n",
       "           5.7173e-04, -1.7865e-04],\n",
       "         [-1.9659e-04, -4.0756e-04, -2.8405e-03,  ..., -6.8527e-04,\n",
       "           7.3129e-04,  1.0792e-04],\n",
       "         [ 1.2668e-03,  2.7724e-03, -2.6020e-03,  ...,  1.6569e-03,\n",
       "           6.8592e-05, -4.2270e-04],\n",
       "         ...,\n",
       "         [-2.0183e-03, -1.7859e-03, -2.2009e-03,  ...,  1.4483e-04,\n",
       "           2.1861e-03, -8.0165e-04],\n",
       "         [ 8.2830e-04,  1.4839e-03, -1.2473e-03,  ...,  1.4669e-03,\n",
       "           2.4580e-04,  1.2592e-03],\n",
       "         [-3.2280e-04, -1.1929e-03, -2.7407e-04,  ...,  1.4532e-03,\n",
       "           2.1108e-04, -2.0424e-04]], device='cuda:0'),\n",
       " 'exp_avg_sq': tensor([[8.4348e-06, 5.7223e-05, 6.9194e-05,  ..., 2.0413e-05, 3.2337e-05,\n",
       "          1.3685e-05],\n",
       "         [3.4449e-06, 1.3048e-05, 1.6789e-05,  ..., 9.1836e-06, 1.3101e-05,\n",
       "          8.8387e-06],\n",
       "         [9.1353e-06, 4.0784e-05, 2.4419e-05,  ..., 5.5688e-06, 2.0166e-05,\n",
       "          1.6151e-06],\n",
       "         ...,\n",
       "         [4.8291e-05, 5.9701e-05, 2.8450e-04,  ..., 3.3562e-05, 5.6101e-05,\n",
       "          3.1701e-05],\n",
       "         [1.5886e-05, 1.7301e-05, 2.2958e-05,  ..., 1.1100e-05, 1.4909e-05,\n",
       "          1.2523e-05],\n",
       "         [5.9345e-06, 1.2095e-05, 5.7877e-06,  ..., 4.6964e-06, 1.5451e-05,\n",
       "          2.7295e-06]], device='cuda:0')}"
      ]
     },
     "execution_count": 25,
     "metadata": {},
     "output_type": "execute_result"
    }
   ],
   "source": [
    "state_0[\"state\"][6]"
   ]
  },
  {
   "cell_type": "code",
   "execution_count": 27,
   "metadata": {},
   "outputs": [
    {
     "data": {
      "text/plain": [
       "{0: 'model.token_position_embeddings.pp_block.token_embedding.weight',\n",
       " 1: 'model.decoder.0.pp_block.input_layernorm.weight',\n",
       " 2: 'model.decoder.0.pp_block.attn.balance_factors',\n",
       " 3: 'model.decoder.0.pp_block.attn.qkv_proj.weight',\n",
       " 4: 'model.decoder.0.pp_block.attn.o_proj.weight',\n",
       " 5: 'model.decoder.0.pp_block.post_attention_layernorm.weight',\n",
       " 6: 'model.decoder.0.pp_block.mlp.gate_up_proj.weight',\n",
       " 7: 'model.decoder.0.pp_block.mlp.down_proj.weight',\n",
       " 8: 'model.decoder.1.pp_block.input_layernorm.weight',\n",
       " 9: 'model.decoder.1.pp_block.attn.balance_factors',\n",
       " 10: 'model.decoder.1.pp_block.attn.qkv_proj.weight',\n",
       " 11: 'model.decoder.1.pp_block.attn.o_proj.weight',\n",
       " 12: 'model.decoder.1.pp_block.post_attention_layernorm.weight',\n",
       " 13: 'model.decoder.1.pp_block.mlp.gate_up_proj.weight',\n",
       " 14: 'model.decoder.1.pp_block.mlp.down_proj.weight',\n",
       " 15: 'model.final_layer_norm.pp_block.weight',\n",
       " 16: 'model.lm_head.pp_block.weight'}"
      ]
     },
     "execution_count": 27,
     "metadata": {},
     "output_type": "execute_result"
    }
   ],
   "source": [
    "state_0[\"names\"]"
   ]
  },
  {
   "cell_type": "code",
   "execution_count": 28,
   "metadata": {},
   "outputs": [
    {
     "data": {
      "text/plain": [
       "{'step': tensor(10., device='cuda:0'),\n",
       " 'exp_avg': tensor([ 0.0067, -0.0001, -0.0115,  0.0030], device='cuda:0'),\n",
       " 'exp_avg_sq': tensor([0.0002, 0.0001, 0.0004, 0.0002], device='cuda:0')}"
      ]
     },
     "execution_count": 28,
     "metadata": {},
     "output_type": "execute_result"
    }
   ],
   "source": [
    "state_0[\"state\"][2]"
   ]
  },
  {
   "cell_type": "code",
   "execution_count": 31,
   "metadata": {},
   "outputs": [
    {
     "data": {
      "text/plain": [
       "{'lr': 1.0714285714285713e-07,\n",
       " 'betas': (0.9, 0.95),\n",
       " 'eps': 1e-08,\n",
       " 'weight_decay': 0.1,\n",
       " 'amsgrad': False,\n",
       " 'foreach': None,\n",
       " 'maximize': False,\n",
       " 'capturable': False,\n",
       " 'differentiable': False,\n",
       " 'fused': True,\n",
       " 'initial_lr': 0.00015,\n",
       " 'params': [2]}"
      ]
     },
     "execution_count": 31,
     "metadata": {},
     "output_type": "execute_result"
    }
   ],
   "source": [
    "state_0[\"param_groups\"][2]"
   ]
  },
  {
   "cell_type": "code",
   "execution_count": 32,
   "metadata": {},
   "outputs": [
    {
     "data": {
      "text/plain": [
       "{'lr': 1.0714285714285713e-07,\n",
       " 'betas': (0.9, 0.95),\n",
       " 'eps': 1e-08,\n",
       " 'weight_decay': 0.1,\n",
       " 'amsgrad': False,\n",
       " 'foreach': None,\n",
       " 'maximize': False,\n",
       " 'capturable': False,\n",
       " 'differentiable': False,\n",
       " 'fused': True,\n",
       " 'initial_lr': 0.00015,\n",
       " 'params': [1]}"
      ]
     },
     "execution_count": 32,
     "metadata": {},
     "output_type": "execute_result"
    }
   ],
   "source": [
    "state_0[\"param_groups\"][1]"
   ]
  },
  {
   "cell_type": "code",
   "execution_count": null,
   "metadata": {},
   "outputs": [],
   "source": []
  }
 ],
 "metadata": {
  "kernelspec": {
   "display_name": "Python 3 (ipykernel)",
   "language": "python",
   "name": "python3"
  },
  "language_info": {
   "codemirror_mode": {
    "name": "ipython",
    "version": 3
   },
   "file_extension": ".py",
   "mimetype": "text/x-python",
   "name": "python",
   "nbconvert_exporter": "python",
   "pygments_lexer": "ipython3",
   "version": "3.10.13"
  }
 },
 "nbformat": 4,
 "nbformat_minor": 2
}
