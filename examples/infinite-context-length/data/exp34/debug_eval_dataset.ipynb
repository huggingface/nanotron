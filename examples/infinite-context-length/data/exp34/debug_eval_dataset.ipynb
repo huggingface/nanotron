{
 "cells": [
  {
   "cell_type": "code",
   "execution_count": 2,
   "metadata": {},
   "outputs": [],
   "source": [
    "from datasets import load_from_disk"
   ]
  },
  {
   "cell_type": "code",
   "execution_count": 14,
   "metadata": {},
   "outputs": [],
   "source": [
    "d = load_from_disk(\"/fsx/phuc/projects/nanotron/examples/infinite-context-length/data/eval/1024/needle_eval_data_and_1024_ctx_and_depth_50_and_id_42_and_num_shots_2\")"
   ]
  },
  {
   "cell_type": "code",
   "execution_count": 16,
   "metadata": {},
   "outputs": [
    {
     "data": {
      "text/plain": [
       "'There is a pass key hidden inside a lot of irrelevant text. Find it and memorize them. I will quiz you about what is the pass key later on. \\n\\n Passage: The gatecode is 312. Remember it. 312 is the gatecode. The grass is green. The sky is blue. The sun is yellow. Here we go. There and back again. The grass is green. The sky is blue. The sun is yellow. Here we go. There and back again. What is the gatecode? The gatecode is 312. \\n\\n Passage: The grass is green. The sky is blue. The sun is yellow. Here we go. There and back again. The vault key is 415. Remember it. 415 is the vault key. The grass is green. The sky is blue. The sun is yellow. Here we go. There and back again. What is the gatecode? The vault key is 415. \\n \\n Passage:  The grass is green. The sky is blue. The sun is yellow. Here we go. There and back again. The grass is green. The sky is blue. The sun is yellow. Here we go. There and back again. The grass is green. The sky is blue. The sun is yellow. Here we go. There and back again. The grass is green. The sky is blue. The sun is yellow. Here we go. There and back again. The grass is green. The sky is blue. The sun is yellow. Here we go. There and back again. The grass is green. The sky is blue. The sun is yellow. Here we go. There and back again. The grass is green. The sky is blue. The sun is yellow. Here we go. There and back again. The grass is green. The sky is blue. The sun is yellow. Here we go. There and back again. The grass is green. The sky is blue. The sun is yellow. Here we go. There and back again. The grass is green. The sky is blue. The sun is yellow. Here we go. There and back again. The grass is green. The sky is blue. The sun is yellow. Here we go. There and back again. The grass is green. The sky is blue. The sun is yellow. Here we go. There and back again. The grass is green. The sky. The pass key is 631. Remember it. 631 is the pass key.  is blue. The sun is yellow. Here we go. There and back again. The grass is green. The sky is blue. The sun is yellow. Here we go. There and back again. The grass is green. The sky is blue. The sun is yellow. Here we go. There and back again. The grass is green. The sky is blue. The sun is yellow. Here we go. There and back again. The grass is green. The sky is blue. The sun is yellow. Here we go. There and back again. The grass is green. The sky is blue. The sun is yellow. Here we go. There and back again. The grass is green. The sky is blue. The sun is yellow. Here we go. There and back again. The grass is green. The sky is blue. The sun is yellow. Here we go. There and back again. The grass is green. The sky is blue. The sun is yellow. Here we go. There and back again. The grass is green. The sky is blue. The sun is yellow. Here we go. There and back again. The grass is green. The sky is blue. The sun is yellow. Here we go. There and back again. The grass is green. The sky is blue. The sun is yellow. Here we go. There and back again. The grass is green. The sky is blue. The sun is yellow. Here we go The grass is green. The sky is blue. The sun is yellow. Here we go. There and back ag. What is the pass key? The pass key is 631.'"
      ]
     },
     "execution_count": 16,
     "metadata": {},
     "output_type": "execute_result"
    }
   ],
   "source": [
    "d[0][\"prompt\"]"
   ]
  },
  {
   "cell_type": "code",
   "execution_count": 1,
   "metadata": {},
   "outputs": [],
   "source": [
    "def load_and_filter_dataset(eval_dataset_path, depth_percent, num_shots, num_digits, seed, num_samples):\n",
    "    import random\n",
    "    from datasets import load_dataset\n",
    "    # Set seeds for reproducibility\n",
    "    random.seed(seed)\n",
    "    \n",
    "    # Load the dataset\n",
    "    dataset = load_dataset(eval_dataset_path, split=\"train\")\n",
    "    \n",
    "    # Filter the dataset\n",
    "    filtered_dataset = dataset.filter(\n",
    "        lambda x: x[\"depth_percent\"] == depth_percent and \n",
    "                x[\"num_shots\"] == num_shots\n",
    "    )\n",
    "    if num_digits > 0:\n",
    "        filtered_dataset = filtered_dataset.filter(\n",
    "            lambda x: x[\"num_digits\"] == num_digits\n",
    "        )\n",
    "\n",
    "    # filtered_dataset = dataset.filter(\n",
    "    #     lambda x: x[\"depth_percent\"] == depth_percent and \n",
    "    #             x[\"num_shots\"] == num_shots and \n",
    "    #             x[\"num_digits\"] == num_digits\n",
    "    # )\n",
    "    \n",
    "    # Shuffle the dataset deterministically\n",
    "    shuffled_dataset = filtered_dataset.shuffle(seed=seed)\n",
    "    \n",
    "    # Select only the first 10 samples\n",
    "    final_dataset = shuffled_dataset.select(range(min(num_samples, len(shuffled_dataset))))\n",
    "    \n",
    "    return final_dataset"
   ]
  },
  {
   "cell_type": "code",
   "execution_count": 3,
   "metadata": {},
   "outputs": [],
   "source": [
    "samples = load_and_filter_dataset(\"nanotron/llama3-1024-passkey-retrieval-eval\", depth_percent=0, num_shots=0, num_digits=2, seed=42, num_samples=10)"
   ]
  },
  {
   "cell_type": "code",
   "execution_count": 5,
   "metadata": {},
   "outputs": [
    {
     "data": {
      "text/html": [
       "<div>\n",
       "<style scoped>\n",
       "    .dataframe tbody tr th:only-of-type {\n",
       "        vertical-align: middle;\n",
       "    }\n",
       "\n",
       "    .dataframe tbody tr th {\n",
       "        vertical-align: top;\n",
       "    }\n",
       "\n",
       "    .dataframe thead th {\n",
       "        text-align: right;\n",
       "    }\n",
       "</style>\n",
       "<table border=\"1\" class=\"dataframe\">\n",
       "  <thead>\n",
       "    <tr style=\"text-align: right;\">\n",
       "      <th></th>\n",
       "      <th>id</th>\n",
       "      <th>prompt</th>\n",
       "      <th>answer</th>\n",
       "      <th>context_length</th>\n",
       "      <th>token_count</th>\n",
       "      <th>num_shots</th>\n",
       "      <th>num_digits</th>\n",
       "      <th>depth_percent</th>\n",
       "    </tr>\n",
       "  </thead>\n",
       "  <tbody>\n",
       "    <tr>\n",
       "      <th>0</th>\n",
       "      <td>2d454feb-59a8-4f39-8ad3-c9ed589e5640</td>\n",
       "      <td>There is a pass key hidden inside a lot of irr...</td>\n",
       "      <td>80</td>\n",
       "      <td>1024</td>\n",
       "      <td>1004</td>\n",
       "      <td>0</td>\n",
       "      <td>2</td>\n",
       "      <td>0</td>\n",
       "    </tr>\n",
       "    <tr>\n",
       "      <th>1</th>\n",
       "      <td>6712605d-21d8-4b1e-8248-fc6a321fd59e</td>\n",
       "      <td>There is a pass key hidden inside a lot of irr...</td>\n",
       "      <td>87</td>\n",
       "      <td>1024</td>\n",
       "      <td>1004</td>\n",
       "      <td>0</td>\n",
       "      <td>2</td>\n",
       "      <td>0</td>\n",
       "    </tr>\n",
       "    <tr>\n",
       "      <th>2</th>\n",
       "      <td>0b8734b1-a140-4cf0-a461-ed686fed566a</td>\n",
       "      <td>There is a pass key hidden inside a lot of irr...</td>\n",
       "      <td>85</td>\n",
       "      <td>1024</td>\n",
       "      <td>1004</td>\n",
       "      <td>0</td>\n",
       "      <td>2</td>\n",
       "      <td>0</td>\n",
       "    </tr>\n",
       "    <tr>\n",
       "      <th>3</th>\n",
       "      <td>b9035923-f43d-487c-aef1-5027a10ef3ae</td>\n",
       "      <td>There is a pass key hidden inside a lot of irr...</td>\n",
       "      <td>11</td>\n",
       "      <td>1024</td>\n",
       "      <td>1004</td>\n",
       "      <td>0</td>\n",
       "      <td>2</td>\n",
       "      <td>0</td>\n",
       "    </tr>\n",
       "    <tr>\n",
       "      <th>4</th>\n",
       "      <td>5c917b9f-dae3-4e07-a733-6ac089a4e75c</td>\n",
       "      <td>There is a pass key hidden inside a lot of irr...</td>\n",
       "      <td>14</td>\n",
       "      <td>1024</td>\n",
       "      <td>1004</td>\n",
       "      <td>0</td>\n",
       "      <td>2</td>\n",
       "      <td>0</td>\n",
       "    </tr>\n",
       "    <tr>\n",
       "      <th>5</th>\n",
       "      <td>86e5fd36-951e-4333-9306-2c8045ced06d</td>\n",
       "      <td>There is a pass key hidden inside a lot of irr...</td>\n",
       "      <td>54</td>\n",
       "      <td>1024</td>\n",
       "      <td>1004</td>\n",
       "      <td>0</td>\n",
       "      <td>2</td>\n",
       "      <td>0</td>\n",
       "    </tr>\n",
       "    <tr>\n",
       "      <th>6</th>\n",
       "      <td>6302d923-e9e4-4319-99f5-14daa43408ed</td>\n",
       "      <td>There is a pass key hidden inside a lot of irr...</td>\n",
       "      <td>83</td>\n",
       "      <td>1024</td>\n",
       "      <td>1004</td>\n",
       "      <td>0</td>\n",
       "      <td>2</td>\n",
       "      <td>0</td>\n",
       "    </tr>\n",
       "    <tr>\n",
       "      <th>7</th>\n",
       "      <td>8c90e431-bce5-4792-90c2-a765e94ceb91</td>\n",
       "      <td>There is a pass key hidden inside a lot of irr...</td>\n",
       "      <td>92</td>\n",
       "      <td>1024</td>\n",
       "      <td>1004</td>\n",
       "      <td>0</td>\n",
       "      <td>2</td>\n",
       "      <td>0</td>\n",
       "    </tr>\n",
       "    <tr>\n",
       "      <th>8</th>\n",
       "      <td>b54dc476-b4e7-48b3-b639-599527606858</td>\n",
       "      <td>There is a pass key hidden inside a lot of irr...</td>\n",
       "      <td>13</td>\n",
       "      <td>1024</td>\n",
       "      <td>1004</td>\n",
       "      <td>0</td>\n",
       "      <td>2</td>\n",
       "      <td>0</td>\n",
       "    </tr>\n",
       "    <tr>\n",
       "      <th>9</th>\n",
       "      <td>48c4b32e-911b-45e6-a53e-c721b187df8d</td>\n",
       "      <td>There is a pass key hidden inside a lot of irr...</td>\n",
       "      <td>93</td>\n",
       "      <td>1024</td>\n",
       "      <td>1004</td>\n",
       "      <td>0</td>\n",
       "      <td>2</td>\n",
       "      <td>0</td>\n",
       "    </tr>\n",
       "  </tbody>\n",
       "</table>\n",
       "</div>"
      ],
      "text/plain": [
       "                                     id  \\\n",
       "0  2d454feb-59a8-4f39-8ad3-c9ed589e5640   \n",
       "1  6712605d-21d8-4b1e-8248-fc6a321fd59e   \n",
       "2  0b8734b1-a140-4cf0-a461-ed686fed566a   \n",
       "3  b9035923-f43d-487c-aef1-5027a10ef3ae   \n",
       "4  5c917b9f-dae3-4e07-a733-6ac089a4e75c   \n",
       "5  86e5fd36-951e-4333-9306-2c8045ced06d   \n",
       "6  6302d923-e9e4-4319-99f5-14daa43408ed   \n",
       "7  8c90e431-bce5-4792-90c2-a765e94ceb91   \n",
       "8  b54dc476-b4e7-48b3-b639-599527606858   \n",
       "9  48c4b32e-911b-45e6-a53e-c721b187df8d   \n",
       "\n",
       "                                              prompt  answer  context_length  \\\n",
       "0  There is a pass key hidden inside a lot of irr...      80            1024   \n",
       "1  There is a pass key hidden inside a lot of irr...      87            1024   \n",
       "2  There is a pass key hidden inside a lot of irr...      85            1024   \n",
       "3  There is a pass key hidden inside a lot of irr...      11            1024   \n",
       "4  There is a pass key hidden inside a lot of irr...      14            1024   \n",
       "5  There is a pass key hidden inside a lot of irr...      54            1024   \n",
       "6  There is a pass key hidden inside a lot of irr...      83            1024   \n",
       "7  There is a pass key hidden inside a lot of irr...      92            1024   \n",
       "8  There is a pass key hidden inside a lot of irr...      13            1024   \n",
       "9  There is a pass key hidden inside a lot of irr...      93            1024   \n",
       "\n",
       "   token_count  num_shots  num_digits  depth_percent  \n",
       "0         1004          0           2              0  \n",
       "1         1004          0           2              0  \n",
       "2         1004          0           2              0  \n",
       "3         1004          0           2              0  \n",
       "4         1004          0           2              0  \n",
       "5         1004          0           2              0  \n",
       "6         1004          0           2              0  \n",
       "7         1004          0           2              0  \n",
       "8         1004          0           2              0  \n",
       "9         1004          0           2              0  "
      ]
     },
     "execution_count": 5,
     "metadata": {},
     "output_type": "execute_result"
    }
   ],
   "source": [
    "samples.to_pandas()"
   ]
  },
  {
   "cell_type": "code",
   "execution_count": 7,
   "metadata": {},
   "outputs": [
    {
     "data": {
      "text/plain": [
       "'There is a pass key hidden inside a lot of irrelevant text. Find it and memorize them. I will quiz you about what is the pass key later on. \\n . The pass key is 80. Remember it. 80 is the pass key. \\n Passage:  The grass is green. The sky is blue. The sun is yellow. Here we go. There and back again. The grass is green. The sky is blue. The sun is yellow. Here we go. There and back again. The grass is green. The sky is blue. The sun is yellow. Here we go. There and back again. The grass is green. The sky is blue. The sun is yellow. Here we go. There and back again. The grass is green. The sky is blue. The sun is yellow. Here we go. There and back again. The grass is green. The sky is blue. The sun is yellow. Here we go. There and back again. The grass is green. The sky is blue. The sun is yellow. Here we go. There and back again. The grass is green. The sky is blue. The sun is yellow. Here we go. There and back again. The grass is green. The sky is blue. The sun is yellow. Here we go. There and back again. The grass is green. The sky is blue. The sun is yellow. Here we go. There and back again. The grass is green. The sky is blue. The sun is yellow. Here we go. There and back again. The grass is green. The sky is blue. The sun is yellow. Here we go. There and back again. The grass is green. The sky is blue. The sun is yellow. Here we go. There and back again. The grass is green. The sky is blue. The sun is yellow. Here we go. There and back again. The grass is green. The sky is blue. The sun is yellow. Here we go. There and back again. The grass is green. The sky is blue. The sun is yellow. Here we go. There and back again. The grass is green. The sky is blue. The sun is yellow. Here we go. There and back again. The grass is green. The sky is blue. The sun is yellow. Here we go. There and back again. The grass is green. The sky is blue. The sun is yellow. Here we go. There and back again. The grass is green. The sky is blue. The sun is yellow. Here we go. There and back again. The grass is green. The sky is blue. The sun is yellow. Here we go. There and back again. The grass is green. The sky is blue. The sun is yellow. Here we go. There and back again. The grass is green. The sky is blue. The sun is yellow. Here we go. There and back again. The grass is green. The sky is blue. The sun is yellow. Here we go. There and back again. The grass is green. The sky is blue. The sun is yellow. Here we go. There and back again. The grass is green. The sky is blue. The sun is yellow. Here we go. There and back again. The grass is green. The sky is blue. The sun is yellow. Here we go. There and back again. The grass is green. The sky is blue. The sun is yellow. Here we go. There and back again. The grass is green. The sky is blue. The sun is yellow. Here we go. There and back again. The grass is green. The sky is blue. The sun is yellow. Here we go. There and back again. The grass is green. The sky is blue. The sun is yellow. Here we go. There and back again. The grass is green. The sky is blue. The sun is yellow. Here we go. There and back again. The grass is green. The sky is blue. The sun is yellow. Here we go. There and back again. The grass is green. The sky is blue. The sun is yellow. Here we go. There and back again. The grass is green. The sky is blue. The sun is yellow. Here we go. There and back again. The grass is green. The sky is blue. The sun is yellow. Here we go. There and back again. The grass is green. The sky is blue. The sun is yellow. Here we go. There and back again. The grass is green. The sky is blue. The sun is yellow. Here we go. There and back again. The grass is green. The sky is blue. The sun is yellow. Here we go. There and . What is the pass key? The pass key is 80.'"
      ]
     },
     "execution_count": 7,
     "metadata": {},
     "output_type": "execute_result"
    }
   ],
   "source": [
    "samples[0][\"prompt\"]"
   ]
  },
  {
   "cell_type": "code",
   "execution_count": 19,
   "metadata": {},
   "outputs": [],
   "source": [
    "from datasets import load_dataset"
   ]
  },
  {
   "cell_type": "code",
   "execution_count": 20,
   "metadata": {},
   "outputs": [],
   "source": [
    "ds = load_dataset(\"nanotron/llama3-1024-passkey-retrieval-eval\")"
   ]
  },
  {
   "cell_type": "code",
   "execution_count": 21,
   "metadata": {},
   "outputs": [],
   "source": [
    "def remove_end_number(text):\n",
    "    # Extract the last 30 characters\n",
    "    last_30 = text[-30:]\n",
    "    \n",
    "    # Find the last occurrence of \"is \"\n",
    "    last_is_index = last_30.rfind(\"is \")\n",
    "    \n",
    "    if last_is_index != -1:\n",
    "        # Remove everything after \"is \"\n",
    "        result = text[:len(text) - (30 - last_is_index - 3)]\n",
    "        return result\n",
    "    else:\n",
    "        # If \"is \" is not found in the last 30 characters, return the original string\n",
    "        return text"
   ]
  },
  {
   "cell_type": "code",
   "execution_count": 22,
   "metadata": {},
   "outputs": [
    {
     "name": "stderr",
     "output_type": "stream",
     "text": [
      "Map: 100%|█████████████████████████████████████████████████████████████████████████████████| 12600/12600 [00:00<00:00, 13010.74 examples/s]\n"
     ]
    }
   ],
   "source": [
    "def process_example(example):\n",
    "    example['prompt'] = remove_end_number(example['prompt'])\n",
    "    return example\n",
    "\n",
    "# Apply the function to each example in the dataset\n",
    "processed_dataset = ds['train'].map(process_example)\n",
    "\n",
    "# Print a few examples to verify\n",
    "# for i in range(5):\n",
    "#     print(f\"Original: {processed_dataset[i]['prompt']}\")\n",
    "#     print(f\"Processed: {processed_dataset[i]['processed_text']}\")\n",
    "#     print()\n",
    "\n",
    "# Save the processed dataset if needed\n",
    "# processed_dataset.save_to_disk('path/to/save/processed_dataset')"
   ]
  },
  {
   "cell_type": "code",
   "execution_count": 25,
   "metadata": {},
   "outputs": [
    {
     "data": {
      "text/plain": [
       "'There is a pass key hidden inside a lot of irrelevant text. Find it and memorize them. I will quiz you about what is the pass key later on. \\n\\n Passage: The gatecode is 312. Remember it. 312 is the gatecode. The grass is green. The sky is blue. The sun is yellow. Here we go. There and back again. The grass is green. The sky is blue. The sun is yellow. Here we go. There and back again. What is the gatecode? The gatecode is 312. \\n\\n Passage: The grass is green. The sky is blue. The sun is yellow. Here we go. There and back again. The vault key is 415. Remember it. 415 is the vault key. The grass is green. The sky is blue. The sun is yellow. Here we go. There and back again. What is the gatecode? The vault key is 415. \\n \\n Passage:  The grass is green. The sky is blue. The sun is yellow. Here we go. There and back again. The grass is green. The sky is blue. The sun is yellow. Here we go. There and back again. The grass is green. The sky is blue. The sun is yellow. Here we go. There and back again. The grass is green. The sky is blue. The sun is yellow. Here we go. There and back again. The grass is green. The sky is blue. The sun is yellow. Here we go. There and back again. The grass is green. The sky is blue. The sun is yellow. Here we go. There and back again. The grass is green. The sky is blue. The sun is yellow. Here we go. There and back again. The grass is green. The sky is blue. The sun is yellow. Here we go. There and back again. The grass is green. The sky is blue. The sun is. The pass key is 5269. Remember it. 5269 is the pass key.  yellow. Here we go. There and back again. The grass is green. The sky is blue. The sun is yellow. Here we go. There and back again. The grass is green. The sky is blue. The sun is yellow. Here we go. There and back again. The grass is green. The sky is blue. The sun is yellow. Here we go. There and back again. The grass is green. The sky is blue. The sun is yellow. Here we go. There and back again. The grass is green. The sky is blue. The sun is yellow. Here we go. There and back again. The grass is green. The sky is blue. The sun is yellow. Here we go. There and back again. The grass is green. The sky is blue. The sun is yellow. Here we go. There and back again. The grass is green. The sky is blue. The sun is yellow. Here we go. There and back again. The grass is green. The sky is blue. The sun is yellow. Here we go. There and back again. The grass is green. The sky is blue. The sun is yellow. Here we go. There and back again. The grass is green. The sky is blue. The sun is yellow. Here we go. There and back again. The grass is green. The sky is blue. The sun is yellow. Here we go. There and back again. The grass is green. The sky is blue. The sun is yellow. Here we go. There and back again. The grass is green. The sky is blue. The sun is yellow. Here we go. There and back again. The grass is green. The sky is blue. The sun is yellow. Here we go. There and back again. The grass is green. The sky is blue. The sun is yellow. Here we go.  The grass is green. The sky is blue. The sun is yellow. Here we go. There and back again. What is the pass key? The pass key is '"
      ]
     },
     "execution_count": 25,
     "metadata": {},
     "output_type": "execute_result"
    }
   ],
   "source": [
    "processed_dataset[3][\"prompt\"]"
   ]
  },
  {
   "cell_type": "code",
   "execution_count": 26,
   "metadata": {},
   "outputs": [
    {
     "name": "stderr",
     "output_type": "stream",
     "text": [
      "Creating parquet from Arrow format: 100%|█████████████████████████████████████████████████████████████████| 13/13 [00:00<00:00, 196.57ba/s]\n",
      "Uploading the dataset shards: 100%|██████████████████████████████████████████████████████████████████████████| 1/1 [00:00<00:00,  2.08it/s]\n"
     ]
    },
    {
     "data": {
      "text/plain": [
       "CommitInfo(commit_url='https://huggingface.co/datasets/nanotron/llama3-1024-passkey-retrieval-eval/commit/8f3b79e9ffb94efbc49d73978ddbc705d6f14bc9', commit_message='Upload dataset', commit_description='', oid='8f3b79e9ffb94efbc49d73978ddbc705d6f14bc9', pr_url=None, pr_revision=None, pr_num=None)"
      ]
     },
     "execution_count": 26,
     "metadata": {},
     "output_type": "execute_result"
    }
   ],
   "source": [
    "processed_dataset.push_to_hub(\n",
    "    repo_id=\"nanotron/llama3-1024-passkey-retrieval-eval\",\n",
    "    # repo_type=\"dataset\",\n",
    "    # private=True,  # Set to False if you want the dataset to be public\n",
    "    # token=\"your_access_token\"\n",
    ")"
   ]
  },
  {
   "cell_type": "code",
   "execution_count": null,
   "metadata": {},
   "outputs": [],
   "source": []
  }
 ],
 "metadata": {
  "kernelspec": {
   "display_name": "Python 3 (ipykernel)",
   "language": "python",
   "name": "python3"
  },
  "language_info": {
   "codemirror_mode": {
    "name": "ipython",
    "version": 3
   },
   "file_extension": ".py",
   "mimetype": "text/x-python",
   "name": "python",
   "nbconvert_exporter": "python",
   "pygments_lexer": "ipython3",
   "version": "3.10.13"
  }
 },
 "nbformat": 4,
 "nbformat_minor": 2
}
