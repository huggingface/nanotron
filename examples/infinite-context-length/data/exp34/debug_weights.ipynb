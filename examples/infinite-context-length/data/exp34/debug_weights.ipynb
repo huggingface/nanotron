{
 "cells": [
  {
   "cell_type": "code",
   "execution_count": 1,
   "metadata": {},
   "outputs": [],
   "source": [
    "import torch\n",
    "from safetensors import safe_open\n",
    "import torch.nn.functional as F"
   ]
  },
  {
   "cell_type": "code",
   "execution_count": 2,
   "metadata": {},
   "outputs": [],
   "source": [
    "def read_tensor(path):\n",
    "    tensors = {}\n",
    "    with safe_open(path, framework=\"pt\", device=\"cpu\") as f:\n",
    "        for key in f.keys():\n",
    "            tensors[key] = f.get_tensor(key)\n",
    "        \n",
    "    return tensors[\"data\"]"
   ]
  },
  {
   "cell_type": "code",
   "execution_count": 30,
   "metadata": {},
   "outputs": [],
   "source": [
    "PATHS = [\n",
    "    \"/fsx/phuc/new_workspace/experiments/infini_attention_8b_llama/exp35_8b_llama_16384_ctx_length_and_8192_segment_length_and_2m_bs_and_needle_finetuning/checkpoints/663/model/model/decoder/3/pp_block/attn/model_balance_factors_pp-rank-0-of-1_tp-rank-0-of-4.safetensors\",\n",
    "    \"/fsx/phuc/new_workspace/experiments/infini_attention_8b_llama/exp35_8b_llama_16384_ctx_length_and_8192_segment_length_and_2m_bs_and_needle_finetuning/checkpoints/1326/model/model/decoder/3/pp_block/attn/qkv_proj/model_weight_pp-rank-0-of-1_tp-rank-2-of-4.safetensors\",\n",
    "    \"/fsx/phuc/new_workspace/experiments/infini_attention_8b_llama/exp35_8b_llama_16384_ctx_length_and_8192_segment_length_and_2m_bs_and_needle_finetuning/checkpoints/1326/model/model/decoder/3/pp_block/attn/model_balance_factors_pp-rank-0-of-1_tp-rank-2-of-4.safetensors\",\n",
    "    \"/fsx/phuc/new_workspace/experiments/infini_attention_8b_llama/exp32_200m_infini_llama2_256_ctx_length_and_64_segment_length_and_2m_bs/checkpoints/5000/model/model/decoder/0/pp_block/attn/model_balance_factors_pp-rank-0-of-1_tp-rank-0-of-2.safetensors\",\n",
    "]"
   ]
  },
  {
   "cell_type": "code",
   "execution_count": 32,
   "metadata": {},
   "outputs": [
    {
     "data": {
      "text/plain": [
       "{'data': tensor([0.0156, 0.0156, 0.0156, 0.0156], dtype=torch.bfloat16)}"
      ]
     },
     "execution_count": 32,
     "metadata": {},
     "output_type": "execute_result"
    }
   ],
   "source": [
    "tensors"
   ]
  },
  {
   "cell_type": "code",
   "execution_count": 33,
   "metadata": {},
   "outputs": [
    {
     "data": {
      "text/plain": [
       "tensor([0.5039, 0.5039, 0.5039, 0.5039], dtype=torch.bfloat16)"
      ]
     },
     "execution_count": 33,
     "metadata": {},
     "output_type": "execute_result"
    }
   ],
   "source": [
    "F.sigmoid(tensors[\"data\"])"
   ]
  },
  {
   "cell_type": "code",
   "execution_count": 12,
   "metadata": {},
   "outputs": [
    {
     "ename": "NameError",
     "evalue": "name 'tensors' is not defined",
     "output_type": "error",
     "traceback": [
      "\u001b[0;31m---------------------------------------------------------------------------\u001b[0m",
      "\u001b[0;31mNameError\u001b[0m                                 Traceback (most recent call last)",
      "Cell \u001b[0;32mIn[12], line 1\u001b[0m\n\u001b[0;32m----> 1\u001b[0m \u001b[43mtensors\u001b[49m[\u001b[38;5;124m\"\u001b[39m\u001b[38;5;124mdata\u001b[39m\u001b[38;5;124m\"\u001b[39m]\n",
      "\u001b[0;31mNameError\u001b[0m: name 'tensors' is not defined"
     ]
    }
   ],
   "source": [
    "tensors[\"data\"]"
   ]
  },
  {
   "cell_type": "code",
   "execution_count": 3,
   "metadata": {},
   "outputs": [],
   "source": [
    "weights = read_tensor(\"/fsx/phuc/projects/nanotron/checkpoints/exp33_debug/20/model/model/decoder/1/pp_block/attn/model_balance_factors_pp-rank-0-of-1_tp-rank-1-of-2.safetensors\")"
   ]
  },
  {
   "cell_type": "code",
   "execution_count": 4,
   "metadata": {},
   "outputs": [
    {
     "data": {
      "text/plain": [
       "tensor([-1.6764e-06,  1.6019e-06, -1.7881e-06,  1.5944e-06],\n",
       "       dtype=torch.bfloat16)"
      ]
     },
     "execution_count": 4,
     "metadata": {},
     "output_type": "execute_result"
    }
   ],
   "source": [
    "weights"
   ]
  },
  {
   "cell_type": "code",
   "execution_count": 5,
   "metadata": {},
   "outputs": [
    {
     "data": {
      "text/plain": [
       "tensor([-1.6797,  1.6016, -1.7891,  1.5938], dtype=torch.bfloat16)"
      ]
     },
     "execution_count": 5,
     "metadata": {},
     "output_type": "execute_result"
    }
   ],
   "source": [
    "weights * 10**6"
   ]
  },
  {
   "cell_type": "code",
   "execution_count": 6,
   "metadata": {},
   "outputs": [
    {
     "data": {
      "text/plain": [
       "tensor([0.5000, 0.5000, 0.5000, 0.5000], dtype=torch.bfloat16)"
      ]
     },
     "execution_count": 6,
     "metadata": {},
     "output_type": "execute_result"
    }
   ],
   "source": [
    "F.sigmoid(weights)"
   ]
  },
  {
   "cell_type": "code",
   "execution_count": 8,
   "metadata": {},
   "outputs": [
    {
     "data": {
      "text/plain": [
       "tensor(0.3945, dtype=torch.bfloat16)"
      ]
     },
     "execution_count": 8,
     "metadata": {},
     "output_type": "execute_result"
    }
   ],
   "source": [
    "F.sigmoid(weights * 10**6)"
   ]
  },
  {
   "cell_type": "markdown",
   "metadata": {},
   "source": [
    "### Gradients"
   ]
  },
  {
   "cell_type": "code",
   "execution_count": 12,
   "metadata": {},
   "outputs": [],
   "source": [
    "import os\n",
    "import torch\n",
    "import numpy as np\n",
    "import matplotlib.pyplot as plt"
   ]
  },
  {
   "cell_type": "code",
   "execution_count": 13,
   "metadata": {},
   "outputs": [],
   "source": [
    "root_dir = '/fsx/phuc/projects/nanotron/debug/runs/exp33_debug_normalize_grad_of_balances_and_divide_by_10_and_lr_0.00015'  # replace with your actual root directory\n",
    "\n",
    "grad_means = {}\n",
    "grad_vars = {}"
   ]
  },
  {
   "cell_type": "code",
   "execution_count": 14,
   "metadata": {},
   "outputs": [],
   "source": [
    "for train_step in sorted(os.listdir(root_dir)):\n",
    "    train_step_dir = os.path.join(root_dir, train_step)\n",
    "    if not os.path.isdir(train_step_dir):\n",
    "        continue\n",
    "\n",
    "    for grad_file in os.listdir(train_step_dir):\n",
    "        if grad_file.endswith('.pt'):\n",
    "            tensor_name = grad_file[:-3]  # remove the '.pt' extension\n",
    "            grad_path = os.path.join(train_step_dir, grad_file)\n",
    "            \n",
    "            # Load the tensor\n",
    "            grad_tensor = torch.load(grad_path)\n",
    "            \n",
    "            # Ensure tensor is on CPU and numpy\n",
    "            grad_tensor_np = grad_tensor.cpu().numpy()\n",
    "            \n",
    "            # Calculate mean and variance\n",
    "            mean = np.mean(grad_tensor_np)\n",
    "            variance = np.var(grad_tensor_np)\n",
    "            \n",
    "            if tensor_name not in grad_means:\n",
    "                grad_means[tensor_name] = []\n",
    "                grad_vars[tensor_name] = []\n",
    "            \n",
    "            grad_means[tensor_name].append(mean)\n",
    "            grad_vars[tensor_name].append(variance)"
   ]
  },
  {
   "cell_type": "code",
   "execution_count": 15,
   "metadata": {},
   "outputs": [
    {
     "ename": "StopIteration",
     "evalue": "",
     "output_type": "error",
     "traceback": [
      "\u001b[0;31m---------------------------------------------------------------------------\u001b[0m",
      "\u001b[0;31mStopIteration\u001b[0m                             Traceback (most recent call last)",
      "Cell \u001b[0;32mIn[15], line 1\u001b[0m\n\u001b[0;32m----> 1\u001b[0m steps \u001b[38;5;241m=\u001b[39m \u001b[38;5;28mrange\u001b[39m(\u001b[38;5;28mlen\u001b[39m(\u001b[38;5;28;43mnext\u001b[39;49m\u001b[43m(\u001b[49m\u001b[38;5;28;43miter\u001b[39;49m\u001b[43m(\u001b[49m\u001b[43mgrad_means\u001b[49m\u001b[38;5;241;43m.\u001b[39;49m\u001b[43mvalues\u001b[49m\u001b[43m(\u001b[49m\u001b[43m)\u001b[49m\u001b[43m)\u001b[49m\u001b[43m)\u001b[49m))  \u001b[38;5;66;03m# assume same number of steps for all tensors\u001b[39;00m\n\u001b[1;32m      3\u001b[0m plt\u001b[38;5;241m.\u001b[39mfigure(figsize\u001b[38;5;241m=\u001b[39m(\u001b[38;5;241m10\u001b[39m, \u001b[38;5;241m6\u001b[39m))\n\u001b[1;32m      5\u001b[0m \u001b[38;5;28;01mfor\u001b[39;00m tensor_name \u001b[38;5;129;01min\u001b[39;00m grad_means:\n",
      "\u001b[0;31mStopIteration\u001b[0m: "
     ]
    }
   ],
   "source": [
    "steps = range(len(next(iter(grad_means.values()))))  # assume same number of steps for all tensors\n",
    "\n",
    "plt.figure(figsize=(10, 6))\n",
    "\n",
    "for tensor_name in grad_means:\n",
    "    means = grad_means[tensor_name]\n",
    "    vars = grad_vars[tensor_name]\n",
    "    \n",
    "    lower_bound = [m - np.sqrt(v) for m, v in zip(means, vars)]\n",
    "    upper_bound = [m + np.sqrt(v) for m, v in zip(means, vars)]\n",
    "    \n",
    "    plt.plot(steps, means, label=tensor_name)\n",
    "    plt.fill_between(steps, lower_bound, upper_bound, alpha=0.3)\n",
    "\n",
    "plt.xlabel('Training Step')\n",
    "plt.ylabel('Mean of Gradients')\n",
    "plt.title('Gradient Means and Variances over Training Steps')\n",
    "plt.legend()\n",
    "plt.grid(True)\n",
    "plt.show()"
   ]
  },
  {
   "cell_type": "code",
   "execution_count": 18,
   "metadata": {},
   "outputs": [
    {
     "data": {
      "image/png": "[encoded data removed]",
      "text/plain": [
       "<Figure size 1200x600 with 1 Axes>"
      ]
     },
     "metadata": {},
     "output_type": "display_data"
    }
   ],
   "source": [
    "import os\n",
    "import torch\n",
    "import matplotlib.pyplot as plt\n",
    "import numpy as np\n",
    "\n",
    "def load_and_plot_gradients(root_dir):\n",
    "    # Dictionary to store gradients for each tensor across steps\n",
    "    gradients = {}\n",
    "\n",
    "    # Walk through the directory structure\n",
    "    for step_dir in sorted(os.listdir(root_dir), key=lambda x: int(x)):\n",
    "        step = int(step_dir)\n",
    "        grad_dir = os.path.join(root_dir, step_dir, 'grads')\n",
    "        \n",
    "        if os.path.isdir(grad_dir):\n",
    "            for tensor_file in os.listdir(grad_dir):\n",
    "                tensor_name = os.path.splitext(tensor_file)[0]\n",
    "                tensor_path = os.path.join(grad_dir, tensor_file)\n",
    "                \n",
    "                # Load the tensor\n",
    "                tensor = torch.load(tensor_path)\n",
    "                \n",
    "                # Calculate mean and standard deviation\n",
    "                mean = tensor.mean().item()\n",
    "                std = tensor.std().item()\n",
    "                \n",
    "                if tensor_name not in gradients:\n",
    "                    gradients[tensor_name] = {'steps': [], 'means': [], 'stds': []}\n",
    "                \n",
    "                gradients[tensor_name]['steps'].append(step)\n",
    "                gradients[tensor_name]['means'].append(mean)\n",
    "                gradients[tensor_name]['stds'].append(std)\n",
    "\n",
    "    # Plotting\n",
    "    plt.figure(figsize=(12, 6))\n",
    "    \n",
    "    for tensor_name, data in gradients.items():\n",
    "        steps = np.array(data['steps'])\n",
    "        means = np.array(data['means'])\n",
    "        stds = np.array(data['stds'])\n",
    "        \n",
    "        plt.plot(steps, means, label=tensor_name)\n",
    "        plt.fill_between(steps, means - stds, means + stds, alpha=0.2)\n",
    "\n",
    "    plt.xlabel('Training Step')\n",
    "    plt.ylabel('Mean of Gradients')\n",
    "    plt.title('Gradient Means and Variances Across Training Steps')\n",
    "    plt.legend()\n",
    "    plt.grid(True)\n",
    "    plt.show()\n",
    "\n",
    "# Usage\n",
    "root_directory = '/fsx/phuc/projects/nanotron/debug/runs/exp33_debug_normalize_grad_of_balances_and_divide_by_10_and_lr_0.00015'"
   ]
  },
  {
   "cell_type": "code",
   "execution_count": 19,
   "metadata": {},
   "outputs": [
    {
     "ename": "ModuleNotFoundError",
     "evalue": "No module named 'plotly'",
     "output_type": "error",
     "traceback": [
      "\u001b[0;31m---------------------------------------------------------------------------\u001b[0m",
      "\u001b[0;31mModuleNotFoundError\u001b[0m                       Traceback (most recent call last)",
      "Cell \u001b[0;32mIn[19], line 3\u001b[0m\n\u001b[1;32m      1\u001b[0m \u001b[38;5;28;01mimport\u001b[39;00m \u001b[38;5;21;01mos\u001b[39;00m\n\u001b[1;32m      2\u001b[0m \u001b[38;5;28;01mimport\u001b[39;00m \u001b[38;5;21;01mtorch\u001b[39;00m\n\u001b[0;32m----> 3\u001b[0m \u001b[38;5;28;01mimport\u001b[39;00m \u001b[38;5;21;01mplotly\u001b[39;00m\u001b[38;5;21;01m.\u001b[39;00m\u001b[38;5;21;01mgraph_objects\u001b[39;00m \u001b[38;5;28;01mas\u001b[39;00m \u001b[38;5;21;01mgo\u001b[39;00m\n\u001b[1;32m      4\u001b[0m \u001b[38;5;28;01mfrom\u001b[39;00m \u001b[38;5;21;01mplotly\u001b[39;00m\u001b[38;5;21;01m.\u001b[39;00m\u001b[38;5;21;01msubplots\u001b[39;00m \u001b[38;5;28;01mimport\u001b[39;00m make_subplots\n\u001b[1;32m      6\u001b[0m \u001b[38;5;28;01mdef\u001b[39;00m \u001b[38;5;21mload_and_plot_gradients\u001b[39m(root_dir):\n",
      "\u001b[0;31mModuleNotFoundError\u001b[0m: No module named 'plotly'"
     ]
    }
   ],
   "source": [
    "import os\n",
    "import torch\n",
    "import plotly.graph_objects as go\n",
    "from plotly.subplots import make_subplots\n",
    "\n",
    "def load_and_plot_gradients(root_dir):\n",
    "    gradients = {}\n",
    "\n",
    "    # Walk through the directory structure\n",
    "    for step_dir in sorted(os.listdir(root_dir), key=lambda x: int(x)):\n",
    "        step = int(step_dir)\n",
    "        grad_dir = os.path.join(root_dir, step_dir, 'grads')\n",
    "        \n",
    "        if os.path.isdir(grad_dir):\n",
    "            for tensor_file in os.listdir(grad_dir):\n",
    "                tensor_name = os.path.splitext(tensor_file)[0]\n",
    "                tensor_path = os.path.join(grad_dir, tensor_file)\n",
    "                \n",
    "                # Load the tensor\n",
    "                tensor = torch.load(tensor_path)\n",
    "                \n",
    "                # Calculate mean and standard deviation\n",
    "                mean = tensor.mean().item()\n",
    "                std = tensor.std().item()\n",
    "                \n",
    "                if tensor_name not in gradients:\n",
    "                    gradients[tensor_name] = {'steps': [], 'means': [], 'stds': []}\n",
    "                \n",
    "                gradients[tensor_name]['steps'].append(step)\n",
    "                gradients[tensor_name]['means'].append(mean)\n",
    "                gradients[tensor_name]['stds'].append(std)\n",
    "\n",
    "    # Create subplots\n",
    "    fig = make_subplots(rows=1, cols=1, shared_xaxes=True)\n",
    "\n",
    "    # Add traces for each tensor\n",
    "    for tensor_name, data in gradients.items():\n",
    "        steps = data['steps']\n",
    "        means = data['means']\n",
    "        stds = data['stds']\n",
    "\n",
    "        # Add line trace\n",
    "        fig.add_trace(\n",
    "            go.Scatter(\n",
    "                x=steps,\n",
    "                y=means,\n",
    "                mode='lines',\n",
    "                name=tensor_name,\n",
    "                line=dict(width=2)\n",
    "            )\n",
    "        )\n",
    "\n",
    "        # Add fill for standard deviation\n",
    "        fig.add_trace(\n",
    "            go.Scatter(\n",
    "                x=steps + steps[::-1],\n",
    "                y=[m + s for m, s in zip(means, stds)] + [m - s for m, s in zip(means[::-1], stds[::-1])],\n",
    "                fill='toself',\n",
    "                fillcolor='rgba(0,100,80,0.2)',\n",
    "                line=dict(color='rgba(255,255,255,0)'),\n",
    "                hoverinfo=\"skip\",\n",
    "                showlegend=False,\n",
    "                name=tensor_name + ' Std Dev'\n",
    "            )\n",
    "        )\n",
    "\n",
    "    # Update layout\n",
    "    fig.update_layout(\n",
    "        title='Gradient Means and Variances Across Training Steps',\n",
    "        xaxis_title='Training Step',\n",
    "        yaxis_title='Mean of Gradients',\n",
    "        hovermode='x unified',\n",
    "        legend_title='Tensor Names',\n",
    "    )\n",
    "\n",
    "    # Show the plot\n",
    "    fig.show()\n",
    "\n",
    "# Usage\n",
    "root_directory = 'path/to/your/root/directory'\n",
    "load_and_plot_gradients(root_directory)"
   ]
  },
  {
   "cell_type": "code",
   "execution_count": 39,
   "metadata": {},
   "outputs": [],
   "source": [
    "import os\n",
    "import torch\n",
    "import plotly.graph_objects as go\n",
    "from plotly.subplots import make_subplots\n",
    "\n",
    "def load_and_plot_gradients(root_dir):\n",
    "    gradients = {}\n",
    "\n",
    "    # Walk through the directory structure\n",
    "    for step_dir in sorted(os.listdir(root_dir), key=lambda x: int(x)):\n",
    "        step = int(step_dir)\n",
    "        grad_dir = os.path.join(root_dir, step_dir, 'grads')\n",
    "        \n",
    "        if os.path.isdir(grad_dir):\n",
    "            for tensor_file in os.listdir(grad_dir):\n",
    "                tensor_name = os.path.splitext(tensor_file)[0]\n",
    "                tensor_path = os.path.join(grad_dir, tensor_file)\n",
    "                \n",
    "                # Load the tensor\n",
    "                tensor = torch.load(tensor_path)\n",
    "                \n",
    "                # Calculate mean and standard deviation\n",
    "                mean = tensor.mean().item()\n",
    "                std = tensor.std().item()\n",
    "                \n",
    "                if tensor_name not in gradients:\n",
    "                    gradients[tensor_name] = {'steps': [], 'means': [], 'stds': []}\n",
    "                \n",
    "                gradients[tensor_name]['steps'].append(step)\n",
    "                gradients[tensor_name]['means'].append(mean)\n",
    "                gradients[tensor_name]['stds'].append(std)\n",
    "\n",
    "    # Create subplots\n",
    "    fig = make_subplots(rows=1, cols=1, shared_xaxes=True)\n",
    "\n",
    "    # Add traces for each tensor\n",
    "    for tensor_name, data in gradients.items():\n",
    "        steps = data['steps']\n",
    "        means = data['means']\n",
    "        stds = data['stds']\n",
    "\n",
    "        # Add line trace\n",
    "        fig.add_trace(\n",
    "            go.Scatter(\n",
    "                x=steps,\n",
    "                y=means,\n",
    "                mode='lines',\n",
    "                name=tensor_name,\n",
    "                line=dict(width=2)\n",
    "            )\n",
    "        )\n",
    "\n",
    "        # Add fill for standard deviation\n",
    "        fig.add_trace(\n",
    "            go.Scatter(\n",
    "                x=steps + steps[::-1],\n",
    "                y=[m + s for m, s in zip(means, stds)] + [m - s for m, s in zip(means[::-1], stds[::-1])],\n",
    "                fill='toself',\n",
    "                fillcolor='rgba(0,100,80,0.2)',\n",
    "                line=dict(color='rgba(255,255,255,0)'),\n",
    "                hoverinfo=\"skip\",\n",
    "                showlegend=False,\n",
    "                name=tensor_name + ' Std Dev'\n",
    "            )\n",
    "        )\n",
    "\n",
    "    # Update layout\n",
    "    fig.update_layout(\n",
    "        title='Gradient Means and Variances Across Training Steps',\n",
    "        xaxis_title='Training Step',\n",
    "        yaxis_title='Mean of Gradients',\n",
    "        hovermode='x unified',\n",
    "        legend_title='Tensor Names',\n",
    "    )\n",
    "\n",
    "    # Show the plot\n",
    "    # fig.show()\n",
    "    return fig, gradients\n",
    "\n",
    "# Usage\n",
    "root_directory = '/fsx/phuc/projects/nanotron/debug/runs/exp33_debug_normalize_grad_of_balances_and_divide_by_10_and_lr_0.00015'\n",
    "fig, gradients = load_and_plot_gradients(root_directory)"
   ]
  },
  {
   "cell_type": "code",
   "execution_count": 40,
   "metadata": {},
   "outputs": [
    {
     "data": {
      "application/vnd.plotly.v1+json": {
       "config": {
        "plotlyServerURL": "https://plot.ly"
       },
       "data": [
        {
         "line": {
          "width": 2
         },
         "mode": "lines",
         "name": "model.final_layer_norm.pp_block.weight.grad",
         "type": "scatter",
         "x": [
          1,
          2,
          3,
          4,
          5
         ],
         "y": [
          0.002198129892349243,
          0.0021066665649414062,
          0.0008701086044311523,
          0.0015106797218322754,
          -0.00011205673217773438
         ]
        },
        {
         "fill": "toself",
         "fillcolor": "rgba(0,100,80,0.2)",
         "hoverinfo": "skip",
         "line": {
          "color": "rgba(255,255,255,0)"
         },
         "name": "model.final_layer_norm.pp_block.weight.grad Std Dev",
         "showlegend": false,
         "type": "scatter",
         "x": [
          1,
          2,
          3,
          4,
          5,
          5,
          4,
          3,
          2,
          1
         ],
         "y": [
          0.007082977797836065,
          0.00813433900475502,
          0.005468044430017471,
          0.004966680658981204,
          0.0032637217082083225,
          -0.0034878351725637913,
          -0.0019453212153166533,
          -0.0037278272211551666,
          -0.003921005874872208,
          -0.002686718013137579
         ]
        },
        {
         "line": {
          "width": 2
         },
         "mode": "lines",
         "name": "model.decoder.1.pp_block.input_layernorm.weight.grad",
         "type": "scatter",
         "x": [
          1,
          2,
          3,
          4,
          5
         ],
         "y": [
          -0.00007554888725280762,
          0.000012159347534179688,
          -0.00006566941738128662,
          0.00003664568066596985,
          0.000025913119316101074
         ]
        },
        {
         "fill": "toself",
         "fillcolor": "rgba(0,100,80,0.2)",
         "hoverinfo": "skip",
         "line": {
          "color": "rgba(255,255,255,0)"
         },
         "name": "model.decoder.1.pp_block.input_layernorm.weight.grad Std Dev",
         "showlegend": false,
         "type": "scatter",
         "x": [
          1,
          2,
          3,
          4,
          5,
          5,
          4,
          3,
          2,
          1
         ],
         "y": [
          0.00027068256167694926,
          0.00043601234210655093,
          0.0002786800905596465,
          0.00038932161987759173,
          0.00025601279048714787,
          -0.00020418655185494572,
          -0.00031603025854565203,
          -0.00041001892532221973,
          -0.00041169364703819156,
          -0.0004217803361825645
         ]
        },
        {
         "line": {
          "width": 2
         },
         "mode": "lines",
         "name": "model.decoder.1.pp_block.mlp.gate_up_proj.weight.grad",
         "type": "scatter",
         "x": [
          1,
          2,
          3,
          4,
          5
         ],
         "y": [
          -0.000003262020072725136,
          -0.000029552000341936946,
          -0.0000062779618019703776,
          -3.9994483813643456e-7,
          -2.093311195494607e-7
         ]
        },
        {
         "fill": "toself",
         "fillcolor": "rgba(0,100,80,0.2)",
         "hoverinfo": "skip",
         "line": {
          "color": "rgba(255,255,255,0)"
         },
         "name": "model.decoder.1.pp_block.mlp.gate_up_proj.weight.grad Std Dev",
         "showlegend": false,
         "type": "scatter",
         "x": [
          1,
          2,
          3,
          4,
          5,
          5,
          4,
          3,
          2,
          1
         ],
         "y": [
          0.0005418256578195724,
          0.000466384255560115,
          0.0005196819802222308,
          0.00043358420953154564,
          0.00045861526268708985,
          -0.0004590339249261888,
          -0.0004343840992078185,
          -0.0005322379038261715,
          -0.0005254882562439889,
          -0.0005483496979650226
         ]
        },
        {
         "line": {
          "width": 2
         },
         "mode": "lines",
         "name": "model.decoder.1.pp_block.attn.qkv_proj.weight.grad",
         "type": "scatter",
         "x": [
          1,
          2,
          3,
          4,
          5
         ],
         "y": [
          -0.000019893303033313714,
          -0.00007509818533435464,
          -0.00008135275857057422,
          0.00002751210195128806,
          0.000007729327990091406
         ]
        },
        {
         "fill": "toself",
         "fillcolor": "rgba(0,100,80,0.2)",
         "hoverinfo": "skip",
         "line": {
          "color": "rgba(255,255,255,0)"
         },
         "name": "model.decoder.1.pp_block.attn.qkv_proj.weight.grad Std Dev",
         "showlegend": false,
         "type": "scatter",
         "x": [
          1,
          2,
          3,
          4,
          5,
          5,
          4,
          3,
          2,
          1
         ],
         "y": [
          0.0013296976485435152,
          0.001402517140377313,
          0.001018972383462824,
          0.0009958900809579063,
          0.0007986696346051758,
          -0.000783210978624993,
          -0.0009408658770553302,
          -0.0011816779006039724,
          -0.0015527135110460222,
          -0.0013694842546101427
         ]
        },
        {
         "line": {
          "width": 2
         },
         "mode": "lines",
         "name": "model.decoder.0.pp_block.attn.qkv_proj.weight.grad",
         "type": "scatter",
         "x": [
          1,
          2,
          3,
          4,
          5
         ],
         "y": [
          -0.00009807215974433348,
          0.00012267599231563509,
          0.00005988371412968263,
          -0.0000236338146351045,
          0.00003453333556535654
         ]
        },
        {
         "fill": "toself",
         "fillcolor": "rgba(0,100,80,0.2)",
         "hoverinfo": "skip",
         "line": {
          "color": "rgba(255,255,255,0)"
         },
         "name": "model.decoder.0.pp_block.attn.qkv_proj.weight.grad Std Dev",
         "showlegend": false,
         "type": "scatter",
         "x": [
          1,
          2,
          3,
          4,
          5,
          5,
          4,
          3,
          2,
          1
         ],
         "y": [
          0.0013592619870905764,
          0.001465613575419411,
          0.001127638177422341,
          0.0010535859128140146,
          0.001023725500999717,
          -0.000954658829869004,
          -0.0011008535420842236,
          -0.0010078707491629757,
          -0.001220261590788141,
          -0.0015554063065792434
         ]
        },
        {
         "line": {
          "width": 2
         },
         "mode": "lines",
         "name": "model.decoder.0.pp_block.post_attention_layernorm.weight.grad",
         "type": "scatter",
         "x": [
          1,
          2,
          3,
          4,
          5
         ],
         "y": [
          0.0001437664031982422,
          0.00018288195133209229,
          -0.00007216259837150574,
          -0.00018101930618286133,
          0.00018277764320373535
         ]
        },
        {
         "fill": "toself",
         "fillcolor": "rgba(0,100,80,0.2)",
         "hoverinfo": "skip",
         "line": {
          "color": "rgba(255,255,255,0)"
         },
         "name": "model.decoder.0.pp_block.post_attention_layernorm.weight.grad Std Dev",
         "showlegend": false,
         "type": "scatter",
         "x": [
          1,
          2,
          3,
          4,
          5,
          5,
          4,
          3,
          2,
          1
         ],
         "y": [
          0.0004035377933178097,
          0.0004997444921173155,
          0.0001882568176370114,
          0.00007293169619515538,
          0.0004796491120941937,
          -0.000114093825686723,
          -0.00043497030856087804,
          -0.0003325820143800229,
          -0.00013398058945313096,
          -0.00011600498692132533
         ]
        },
        {
         "line": {
          "width": 2
         },
         "mode": "lines",
         "name": "model.decoder.0.pp_block.input_layernorm.weight.grad",
         "type": "scatter",
         "x": [
          1,
          2,
          3,
          4,
          5
         ],
         "y": [
          0.0000713123008608818,
          -0.00003910064697265625,
          -0.0000029280781745910645,
          0.00008285790681838989,
          0.000018924474716186523
         ]
        },
        {
         "fill": "toself",
         "fillcolor": "rgba(0,100,80,0.2)",
         "hoverinfo": "skip",
         "line": {
          "color": "rgba(255,255,255,0)"
         },
         "name": "model.decoder.0.pp_block.input_layernorm.weight.grad Std Dev",
         "showlegend": false,
         "type": "scatter",
         "x": [
          1,
          2,
          3,
          4,
          5,
          5,
          4,
          3,
          2,
          1
         ],
         "y": [
          0.0005026485305279493,
          0.00027448905166238546,
          0.00023909594165161252,
          0.0003632560546975583,
          0.0002120095450663939,
          -0.00017416059563402086,
          -0.0001975402410607785,
          -0.00024495209800079465,
          -0.00035269034560769796,
          -0.0003600239288061857
         ]
        },
        {
         "line": {
          "width": 2
         },
         "mode": "lines",
         "name": "model.decoder.0.pp_block.mlp.down_proj.weight.grad",
         "type": "scatter",
         "x": [
          1,
          2,
          3,
          4,
          5
         ],
         "y": [
          -0.000035567820305004716,
          -0.00010004517389461398,
          0.000009103445336222649,
          0.00000152749998960644,
          0.000021241081412881613
         ]
        },
        {
         "fill": "toself",
         "fillcolor": "rgba(0,100,80,0.2)",
         "hoverinfo": "skip",
         "line": {
          "color": "rgba(255,255,255,0)"
         },
         "name": "model.decoder.0.pp_block.mlp.down_proj.weight.grad Std Dev",
         "showlegend": false,
         "type": "scatter",
         "x": [
          1,
          2,
          3,
          4,
          5,
          5,
          4,
          3,
          2,
          1
         ],
         "y": [
          0.0010479049233254045,
          0.0011488441959954798,
          0.001135421684011817,
          0.0010538919741520658,
          0.0010336725390516222,
          -0.000991190376225859,
          -0.001050836974172853,
          -0.0011172147933393717,
          -0.0013489345437847078,
          -0.001119040563935414
         ]
        },
        {
         "line": {
          "width": 2
         },
         "mode": "lines",
         "name": "model.decoder.1.pp_block.mlp.down_proj.weight.grad",
         "type": "scatter",
         "x": [
          1,
          2,
          3,
          4,
          5
         ],
         "y": [
          0.000020260762539692223,
          0.000024348206352442503,
          0.00003906200436176732,
          -0.00001029292616294697,
          -0.0000021571177057921886
         ]
        },
        {
         "fill": "toself",
         "fillcolor": "rgba(0,100,80,0.2)",
         "hoverinfo": "skip",
         "line": {
          "color": "rgba(255,255,255,0)"
         },
         "name": "model.decoder.1.pp_block.mlp.down_proj.weight.grad Std Dev",
         "showlegend": false,
         "type": "scatter",
         "x": [
          1,
          2,
          3,
          4,
          5,
          5,
          4,
          3,
          2,
          1
         ],
         "y": [
          0.001155012592789717,
          0.0010924921953119338,
          0.0011122663345304318,
          0.0008695767537574284,
          0.0008067959570325911,
          -0.0008111101924441755,
          -0.0008901626060833223,
          -0.0010341423258068971,
          -0.0010437957826070487,
          -0.0011144910677103326
         ]
        },
        {
         "line": {
          "width": 2
         },
         "mode": "lines",
         "name": "model.decoder.1.pp_block.attn.o_proj.weight.grad",
         "type": "scatter",
         "x": [
          1,
          2,
          3,
          4,
          5
         ],
         "y": [
          0.00040972232818603516,
          -0.000264984555542469,
          0.00006173807196319103,
          -0.0005156630650162697,
          -0.00019942596554756165
         ]
        },
        {
         "fill": "toself",
         "fillcolor": "rgba(0,100,80,0.2)",
         "hoverinfo": "skip",
         "line": {
          "color": "rgba(255,255,255,0)"
         },
         "name": "model.decoder.1.pp_block.attn.o_proj.weight.grad Std Dev",
         "showlegend": false,
         "type": "scatter",
         "x": [
          1,
          2,
          3,
          4,
          5,
          5,
          4,
          3,
          2,
          1
         ],
         "y": [
          0.0046989344991743565,
          0.0036927000619471073,
          0.003142212750390172,
          0.0027088948991149664,
          0.0026285804342478514,
          -0.0030274323653429747,
          -0.0037402210291475058,
          -0.00301873660646379,
          -0.004222669173032045,
          -0.003879489842802286
         ]
        },
        {
         "line": {
          "width": 2
         },
         "mode": "lines",
         "name": "model.token_position_embeddings.pp_block.token_embedding.weight.grad",
         "type": "scatter",
         "x": [
          1,
          2,
          3,
          4,
          5
         ],
         "y": [
          -8.04212845650909e-7,
          -0.0000021271421246638056,
          0.0000024151413526851684,
          6.843426376690331e-7,
          8.726783562451601e-8
         ]
        },
        {
         "fill": "toself",
         "fillcolor": "rgba(0,100,80,0.2)",
         "hoverinfo": "skip",
         "line": {
          "color": "rgba(255,255,255,0)"
         },
         "name": "model.token_position_embeddings.pp_block.token_embedding.weight.grad Std Dev",
         "showlegend": false,
         "type": "scatter",
         "x": [
          1,
          2,
          3,
          4,
          5,
          5,
          4,
          3,
          2,
          1
         ],
         "y": [
          0.0008795044692533338,
          0.0008495641509398411,
          0.000796735334006371,
          0.000767548156261455,
          0.0007648306927876547,
          -0.0007646561571164057,
          -0.0007661794709861169,
          -0.0007919050513010006,
          -0.0008538184351891687,
          -0.0008811128949446356
         ]
        },
        {
         "line": {
          "width": 2
         },
         "mode": "lines",
         "name": "model.lm_head.pp_block.weight.grad",
         "type": "scatter",
         "x": [
          1,
          2,
          3,
          4,
          5
         ],
         "y": [
          1.2801820048480295e-7,
          -3.8747495523239195e-7,
          2.449887404054607e-7,
          -3.7114006090632756e-7,
          3.2651161063768086e-7
         ]
        },
        {
         "fill": "toself",
         "fillcolor": "rgba(0,100,80,0.2)",
         "hoverinfo": "skip",
         "line": {
          "color": "rgba(255,255,255,0)"
         },
         "name": "model.lm_head.pp_block.weight.grad Std Dev",
         "showlegend": false,
         "type": "scatter",
         "x": [
          1,
          2,
          3,
          4,
          5,
          5,
          4,
          3,
          2,
          1
         ],
         "y": [
          0.0008499983428009728,
          0.0008608746127549693,
          0.0008068004317181021,
          0.0007549875219297064,
          0.0007691299209113822,
          -0.0007684768976901069,
          -0.0007557298020515191,
          -0.0008063104542372912,
          -0.0008616495626654341,
          -0.0008497423064000031
         ]
        },
        {
         "line": {
          "width": 2
         },
         "mode": "lines",
         "name": "model.decoder.0.pp_block.attn.o_proj.weight.grad",
         "type": "scatter",
         "x": [
          1,
          2,
          3,
          4,
          5
         ],
         "y": [
          0.0004978431388735771,
          0.0004920652136206627,
          0.00000626780092716217,
          -0.0003082635812461376,
          0.0000658784992992878
         ]
        },
        {
         "fill": "toself",
         "fillcolor": "rgba(0,100,80,0.2)",
         "hoverinfo": "skip",
         "line": {
          "color": "rgba(255,255,255,0)"
         },
         "name": "model.decoder.0.pp_block.attn.o_proj.weight.grad Std Dev",
         "showlegend": false,
         "type": "scatter",
         "x": [
          1,
          2,
          3,
          4,
          5,
          5,
          4,
          3,
          2,
          1
         ],
         "y": [
          0.003778938204050064,
          0.004228800069540739,
          0.0030188877135515213,
          0.0025075047742575407,
          0.0024150535464286804,
          -0.002283296547830105,
          -0.003124031936749816,
          -0.003006352111697197,
          -0.0032446696422994137,
          -0.00278325192630291
         ]
        },
        {
         "line": {
          "width": 2
         },
         "mode": "lines",
         "name": "model.decoder.0.pp_block.mlp.gate_up_proj.weight.grad",
         "type": "scatter",
         "x": [
          1,
          2,
          3,
          4,
          5
         ],
         "y": [
          -0.0000192889419849962,
          0.000004385730790090747,
          -5.527399480342865e-7,
          -7.215039659058675e-7,
          0.000008949356924858876
         ]
        },
        {
         "fill": "toself",
         "fillcolor": "rgba(0,100,80,0.2)",
         "hoverinfo": "skip",
         "line": {
          "color": "rgba(255,255,255,0)"
         },
         "name": "model.decoder.0.pp_block.mlp.gate_up_proj.weight.grad Std Dev",
         "showlegend": false,
         "type": "scatter",
         "x": [
          1,
          2,
          3,
          4,
          5,
          5,
          4,
          3,
          2,
          1
         ],
         "y": [
          0.0005691324186045676,
          0.0005819777306896867,
          0.0005219283048063517,
          0.000508927778355428,
          0.0005151660170668038,
          -0.000497267303217086,
          -0.0005103707862872398,
          -0.0005230337847024202,
          -0.0005732062691095052,
          -0.00060771030257456
         ]
        },
        {
         "line": {
          "width": 2
         },
         "mode": "lines",
         "name": "model.decoder.0.pp_block.attn.balance_factors.grad",
         "type": "scatter",
         "x": [
          1,
          2,
          3,
          4,
          5
         ],
         "y": [
          -0.022059202194213867,
          0.0292510986328125,
          0.00128173828125,
          -0.02606964111328125,
          -0.00794219970703125
         ]
        },
        {
         "fill": "toself",
         "fillcolor": "rgba(0,100,80,0.2)",
         "hoverinfo": "skip",
         "line": {
          "color": "rgba(255,255,255,0)"
         },
         "name": "model.decoder.0.pp_block.attn.balance_factors.grad Std Dev",
         "showlegend": false,
         "type": "scatter",
         "x": [
          1,
          2,
          3,
          4,
          5,
          5,
          4,
          3,
          2,
          1
         ],
         "y": [
          0.029811076819896698,
          0.07617643848061562,
          0.05894214287400246,
          0.02324569970369339,
          0.04914530739188194,
          -0.06502970680594444,
          -0.07538498193025589,
          -0.05637866631150246,
          -0.017674241214990616,
          -0.07392948120832443
         ]
        },
        {
         "line": {
          "width": 2
         },
         "mode": "lines",
         "name": "model.decoder.1.pp_block.post_attention_layernorm.weight.grad",
         "type": "scatter",
         "x": [
          1,
          2,
          3,
          4,
          5
         ],
         "y": [
          0.00021371245384216309,
          0.00009015947580337524,
          0.00008095055818557739,
          0.00010886043310165405,
          0.00004680454730987549
         ]
        },
        {
         "fill": "toself",
         "fillcolor": "rgba(0,100,80,0.2)",
         "hoverinfo": "skip",
         "line": {
          "color": "rgba(255,255,255,0)"
         },
         "name": "model.decoder.1.pp_block.post_attention_layernorm.weight.grad Std Dev",
         "showlegend": false,
         "type": "scatter",
         "x": [
          1,
          2,
          3,
          4,
          5,
          5,
          4,
          3,
          2,
          1
         ],
         "y": [
          0.0005066160229034722,
          0.00036516631371341646,
          0.0003272670728620142,
          0.00039845777791924775,
          0.00034502430935390294,
          -0.00025141521473415196,
          -0.00018073691171593964,
          -0.0001653659564908594,
          -0.00018484736210666597,
          -0.00007919111521914601
         ]
        },
        {
         "line": {
          "width": 2
         },
         "mode": "lines",
         "name": "model.decoder.1.pp_block.attn.balance_factors.grad",
         "type": "scatter",
         "x": [
          1,
          2,
          3,
          4,
          5
         ],
         "y": [
          0.02516937255859375,
          -0.0030670166015625,
          0.01318359375,
          -0.042507171630859375,
          -0.011112213134765625
         ]
        },
        {
         "fill": "toself",
         "fillcolor": "rgba(0,100,80,0.2)",
         "hoverinfo": "skip",
         "line": {
          "color": "rgba(255,255,255,0)"
         },
         "name": "model.decoder.1.pp_block.attn.balance_factors.grad Std Dev",
         "showlegend": false,
         "type": "scatter",
         "x": [
          1,
          2,
          3,
          4,
          5,
          5,
          4,
          3,
          2,
          1
         ],
         "y": [
          0.07515736296772957,
          0.05449230596423149,
          0.06896872445940971,
          -0.012038985267281532,
          0.04510023817420006,
          -0.06732466444373131,
          -0.07297535799443722,
          -0.042601536959409714,
          -0.06062633916735649,
          -0.02481861785054207
         ]
        }
       ],
       "layout": {
        "hovermode": "x unified",
        "legend": {
         "title": {
          "text": "Tensor Names"
         }
        },
        "template": {
         "data": {
          "bar": [
           {
            "error_x": {
             "color": "#2a3f5f"
            },
            "error_y": {
             "color": "#2a3f5f"
            },
            "marker": {
             "line": {
              "color": "#E5ECF6",
              "width": 0.5
             },
             "pattern": {
              "fillmode": "overlay",
              "size": 10,
              "solidity": 0.2
             }
            },
            "type": "bar"
           }
          ],
          "barpolar": [
           {
            "marker": {
             "line": {
              "color": "#E5ECF6",
              "width": 0.5
             },
             "pattern": {
              "fillmode": "overlay",
              "size": 10,
              "solidity": 0.2
             }
            },
            "type": "barpolar"
           }
          ],
          "carpet": [
           {
            "aaxis": {
             "endlinecolor": "#2a3f5f",
             "gridcolor": "white",
             "linecolor": "white",
             "minorgridcolor": "white",
             "startlinecolor": "#2a3f5f"
            },
            "baxis": {
             "endlinecolor": "#2a3f5f",
             "gridcolor": "white",
             "linecolor": "white",
             "minorgridcolor": "white",
             "startlinecolor": "#2a3f5f"
            },
            "type": "carpet"
           }
          ],
          "choropleth": [
           {
            "colorbar": {
             "outlinewidth": 0,
             "ticks": ""
            },
            "type": "choropleth"
           }
          ],
          "contour": [
           {
            "colorbar": {
             "outlinewidth": 0,
             "ticks": ""
            },
            "colorscale": [
             [
              0,
              "#0d0887"
             ],
             [
              0.1111111111111111,
              "#46039f"
             ],
             [
              0.2222222222222222,
              "#7201a8"
             ],
             [
              0.3333333333333333,
              "#9c179e"
             ],
             [
              0.4444444444444444,
              "#bd3786"
             ],
             [
              0.5555555555555556,
              "#d8576b"
             ],
             [
              0.6666666666666666,
              "#ed7953"
             ],
             [
              0.7777777777777778,
              "#fb9f3a"
             ],
             [
              0.8888888888888888,
              "#fdca26"
             ],
             [
              1,
              "#f0f921"
             ]
            ],
            "type": "contour"
           }
          ],
          "contourcarpet": [
           {
            "colorbar": {
             "outlinewidth": 0,
             "ticks": ""
            },
            "type": "contourcarpet"
           }
          ],
          "heatmap": [
           {
            "colorbar": {
             "outlinewidth": 0,
             "ticks": ""
            },
            "colorscale": [
             [
              0,
              "#0d0887"
             ],
             [
              0.1111111111111111,
              "#46039f"
             ],
             [
              0.2222222222222222,
              "#7201a8"
             ],
             [
              0.3333333333333333,
              "#9c179e"
             ],
             [
              0.4444444444444444,
              "#bd3786"
             ],
             [
              0.5555555555555556,
              "#d8576b"
             ],
             [
              0.6666666666666666,
              "#ed7953"
             ],
             [
              0.7777777777777778,
              "#fb9f3a"
             ],
             [
              0.8888888888888888,
              "#fdca26"
             ],
             [
              1,
              "#f0f921"
             ]
            ],
            "type": "heatmap"
           }
          ],
          "heatmapgl": [
           {
            "colorbar": {
             "outlinewidth": 0,
             "ticks": ""
            },
            "colorscale": [
             [
              0,
              "#0d0887"
             ],
             [
              0.1111111111111111,
              "#46039f"
             ],
             [
              0.2222222222222222,
              "#7201a8"
             ],
             [
              0.3333333333333333,
              "#9c179e"
             ],
             [
              0.4444444444444444,
              "#bd3786"
             ],
             [
              0.5555555555555556,
              "#d8576b"
             ],
             [
              0.6666666666666666,
              "#ed7953"
             ],
             [
              0.7777777777777778,
              "#fb9f3a"
             ],
             [
              0.8888888888888888,
              "#fdca26"
             ],
             [
              1,
              "#f0f921"
             ]
            ],
            "type": "heatmapgl"
           }
          ],
          "histogram": [
           {
            "marker": {
             "pattern": {
              "fillmode": "overlay",
              "size": 10,
              "solidity": 0.2
             }
            },
            "type": "histogram"
           }
          ],
          "histogram2d": [
           {
            "colorbar": {
             "outlinewidth": 0,
             "ticks": ""
            },
            "colorscale": [
             [
              0,
              "#0d0887"
             ],
             [
              0.1111111111111111,
              "#46039f"
             ],
             [
              0.2222222222222222,
              "#7201a8"
             ],
             [
              0.3333333333333333,
              "#9c179e"
             ],
             [
              0.4444444444444444,
              "#bd3786"
             ],
             [
              0.5555555555555556,
              "#d8576b"
             ],
             [
              0.6666666666666666,
              "#ed7953"
             ],
             [
              0.7777777777777778,
              "#fb9f3a"
             ],
             [
              0.8888888888888888,
              "#fdca26"
             ],
             [
              1,
              "#f0f921"
             ]
            ],
            "type": "histogram2d"
           }
          ],
          "histogram2dcontour": [
           {
            "colorbar": {
             "outlinewidth": 0,
             "ticks": ""
            },
            "colorscale": [
             [
              0,
              "#0d0887"
             ],
             [
              0.1111111111111111,
              "#46039f"
             ],
             [
              0.2222222222222222,
              "#7201a8"
             ],
             [
              0.3333333333333333,
              "#9c179e"
             ],
             [
              0.4444444444444444,
              "#bd3786"
             ],
             [
              0.5555555555555556,
              "#d8576b"
             ],
             [
              0.6666666666666666,
              "#ed7953"
             ],
             [
              0.7777777777777778,
              "#fb9f3a"
             ],
             [
              0.8888888888888888,
              "#fdca26"
             ],
             [
              1,
              "#f0f921"
             ]
            ],
            "type": "histogram2dcontour"
           }
          ],
          "mesh3d": [
           {
            "colorbar": {
             "outlinewidth": 0,
             "ticks": ""
            },
            "type": "mesh3d"
           }
          ],
          "parcoords": [
           {
            "line": {
             "colorbar": {
              "outlinewidth": 0,
              "ticks": ""
             }
            },
            "type": "parcoords"
           }
          ],
          "pie": [
           {
            "automargin": true,
            "type": "pie"
           }
          ],
          "scatter": [
           {
            "fillpattern": {
             "fillmode": "overlay",
             "size": 10,
             "solidity": 0.2
            },
            "type": "scatter"
           }
          ],
          "scatter3d": [
           {
            "line": {
             "colorbar": {
              "outlinewidth": 0,
              "ticks": ""
             }
            },
            "marker": {
             "colorbar": {
              "outlinewidth": 0,
              "ticks": ""
             }
            },
            "type": "scatter3d"
           }
          ],
          "scattercarpet": [
           {
            "marker": {
             "colorbar": {
              "outlinewidth": 0,
              "ticks": ""
             }
            },
            "type": "scattercarpet"
           }
          ],
          "scattergeo": [
           {
            "marker": {
             "colorbar": {
              "outlinewidth": 0,
              "ticks": ""
             }
            },
            "type": "scattergeo"
           }
          ],
          "scattergl": [
           {
            "marker": {
             "colorbar": {
              "outlinewidth": 0,
              "ticks": ""
             }
            },
            "type": "scattergl"
           }
          ],
          "scattermapbox": [
           {
            "marker": {
             "colorbar": {
              "outlinewidth": 0,
              "ticks": ""
             }
            },
            "type": "scattermapbox"
           }
          ],
          "scatterpolar": [
           {
            "marker": {
             "colorbar": {
              "outlinewidth": 0,
              "ticks": ""
             }
            },
            "type": "scatterpolar"
           }
          ],
          "scatterpolargl": [
           {
            "marker": {
             "colorbar": {
              "outlinewidth": 0,
              "ticks": ""
             }
            },
            "type": "scatterpolargl"
           }
          ],
          "scatterternary": [
           {
            "marker": {
             "colorbar": {
              "outlinewidth": 0,
              "ticks": ""
             }
            },
            "type": "scatterternary"
           }
          ],
          "surface": [
           {
            "colorbar": {
             "outlinewidth": 0,
             "ticks": ""
            },
            "colorscale": [
             [
              0,
              "#0d0887"
             ],
             [
              0.1111111111111111,
              "#46039f"
             ],
             [
              0.2222222222222222,
              "#7201a8"
             ],
             [
              0.3333333333333333,
              "#9c179e"
             ],
             [
              0.4444444444444444,
              "#bd3786"
             ],
             [
              0.5555555555555556,
              "#d8576b"
             ],
             [
              0.6666666666666666,
              "#ed7953"
             ],
             [
              0.7777777777777778,
              "#fb9f3a"
             ],
             [
              0.8888888888888888,
              "#fdca26"
             ],
             [
              1,
              "#f0f921"
             ]
            ],
            "type": "surface"
           }
          ],
          "table": [
           {
            "cells": {
             "fill": {
              "color": "#EBF0F8"
             },
             "line": {
              "color": "white"
             }
            },
            "header": {
             "fill": {
              "color": "#C8D4E3"
             },
             "line": {
              "color": "white"
             }
            },
            "type": "table"
           }
          ]
         },
         "layout": {
          "annotationdefaults": {
           "arrowcolor": "#2a3f5f",
           "arrowhead": 0,
           "arrowwidth": 1
          },
          "autotypenumbers": "strict",
          "coloraxis": {
           "colorbar": {
            "outlinewidth": 0,
            "ticks": ""
           }
          },
          "colorscale": {
           "diverging": [
            [
             0,
             "#8e0152"
            ],
            [
             0.1,
             "#c51b7d"
            ],
            [
             0.2,
             "#de77ae"
            ],
            [
             0.3,
             "#f1b6da"
            ],
            [
             0.4,
             "#fde0ef"
            ],
            [
             0.5,
             "#f7f7f7"
            ],
            [
             0.6,
             "#e6f5d0"
            ],
            [
             0.7,
             "#b8e186"
            ],
            [
             0.8,
             "#7fbc41"
            ],
            [
             0.9,
             "#4d9221"
            ],
            [
             1,
             "#276419"
            ]
           ],
           "sequential": [
            [
             0,
             "#0d0887"
            ],
            [
             0.1111111111111111,
             "#46039f"
            ],
            [
             0.2222222222222222,
             "#7201a8"
            ],
            [
             0.3333333333333333,
             "#9c179e"
            ],
            [
             0.4444444444444444,
             "#bd3786"
            ],
            [
             0.5555555555555556,
             "#d8576b"
            ],
            [
             0.6666666666666666,
             "#ed7953"
            ],
            [
             0.7777777777777778,
             "#fb9f3a"
            ],
            [
             0.8888888888888888,
             "#fdca26"
            ],
            [
             1,
             "#f0f921"
            ]
           ],
           "sequentialminus": [
            [
             0,
             "#0d0887"
            ],
            [
             0.1111111111111111,
             "#46039f"
            ],
            [
             0.2222222222222222,
             "#7201a8"
            ],
            [
             0.3333333333333333,
             "#9c179e"
            ],
            [
             0.4444444444444444,
             "#bd3786"
            ],
            [
             0.5555555555555556,
             "#d8576b"
            ],
            [
             0.6666666666666666,
             "#ed7953"
            ],
            [
             0.7777777777777778,
             "#fb9f3a"
            ],
            [
             0.8888888888888888,
             "#fdca26"
            ],
            [
             1,
             "#f0f921"
            ]
           ]
          },
          "colorway": [
           "#636efa",
           "#EF553B",
           "#00cc96",
           "#ab63fa",
           "#FFA15A",
           "#19d3f3",
           "#FF6692",
           "#B6E880",
           "#FF97FF",
           "#FECB52"
          ],
          "font": {
           "color": "#2a3f5f"
          },
          "geo": {
           "bgcolor": "white",
           "lakecolor": "white",
           "landcolor": "#E5ECF6",
           "showlakes": true,
           "showland": true,
           "subunitcolor": "white"
          },
          "hoverlabel": {
           "align": "left"
          },
          "hovermode": "closest",
          "mapbox": {
           "style": "light"
          },
          "paper_bgcolor": "white",
          "plot_bgcolor": "#E5ECF6",
          "polar": {
           "angularaxis": {
            "gridcolor": "white",
            "linecolor": "white",
            "ticks": ""
           },
           "bgcolor": "#E5ECF6",
           "radialaxis": {
            "gridcolor": "white",
            "linecolor": "white",
            "ticks": ""
           }
          },
          "scene": {
           "xaxis": {
            "backgroundcolor": "#E5ECF6",
            "gridcolor": "white",
            "gridwidth": 2,
            "linecolor": "white",
            "showbackground": true,
            "ticks": "",
            "zerolinecolor": "white"
           },
           "yaxis": {
            "backgroundcolor": "#E5ECF6",
            "gridcolor": "white",
            "gridwidth": 2,
            "linecolor": "white",
            "showbackground": true,
            "ticks": "",
            "zerolinecolor": "white"
           },
           "zaxis": {
            "backgroundcolor": "#E5ECF6",
            "gridcolor": "white",
            "gridwidth": 2,
            "linecolor": "white",
            "showbackground": true,
            "ticks": "",
            "zerolinecolor": "white"
           }
          },
          "shapedefaults": {
           "line": {
            "color": "#2a3f5f"
           }
          },
          "ternary": {
           "aaxis": {
            "gridcolor": "white",
            "linecolor": "white",
            "ticks": ""
           },
           "baxis": {
            "gridcolor": "white",
            "linecolor": "white",
            "ticks": ""
           },
           "bgcolor": "#E5ECF6",
           "caxis": {
            "gridcolor": "white",
            "linecolor": "white",
            "ticks": ""
           }
          },
          "title": {
           "x": 0.05
          },
          "xaxis": {
           "automargin": true,
           "gridcolor": "white",
           "linecolor": "white",
           "ticks": "",
           "title": {
            "standoff": 15
           },
           "zerolinecolor": "white",
           "zerolinewidth": 2
          },
          "yaxis": {
           "automargin": true,
           "gridcolor": "white",
           "linecolor": "white",
           "ticks": "",
           "title": {
            "standoff": 15
           },
           "zerolinecolor": "white",
           "zerolinewidth": 2
          }
         }
        },
        "title": {
         "text": "Gradient Means and Variances Across Training Steps"
        },
        "xaxis": {
         "anchor": "y",
         "domain": [
          0,
          1
         ],
         "title": {
          "text": "Training Step"
         }
        },
        "yaxis": {
         "anchor": "x",
         "domain": [
          0,
          1
         ],
         "title": {
          "text": "Mean of Gradients"
         }
        }
       }
      },
      "text/html": [
       "<div>                            <div id=\"ea81c21c-e721-4577-9ec2-377099983b0a\" class=\"plotly-graph-div\" style=\"height:525px; width:100%;\"></div>            <script type=\"text/javascript\">                require([\"plotly\"], function(Plotly) {                    window.PLOTLYENV=window.PLOTLYENV || {};                                    if (document.getElementById(\"ea81c21c-e721-4577-9ec2-377099983b0a\")) {                    Plotly.newPlot(                        \"ea81c21c-e721-4577-9ec2-377099983b0a\",                        [{\"line\":{\"width\":2},\"mode\":\"lines\",\"name\":\"model.final_layer_norm.pp_block.weight.grad\",\"x\":[1,2,3,4,5],\"y\":[0.002198129892349243,0.0021066665649414062,0.0008701086044311523,0.0015106797218322754,-0.00011205673217773438],\"type\":\"scatter\"},{\"fill\":\"toself\",\"fillcolor\":\"rgba(0,100,80,0.2)\",\"hoverinfo\":\"skip\",\"line\":{\"color\":\"rgba(255,255,255,0)\"},\"name\":\"model.final_layer_norm.pp_block.weight.grad Std Dev\",\"showlegend\":false,\"x\":[1,2,3,4,5,5,4,3,2,1],\"y\":[0.007082977797836065,0.00813433900475502,0.005468044430017471,0.004966680658981204,0.0032637217082083225,-0.0034878351725637913,-0.0019453212153166533,-0.0037278272211551666,-0.003921005874872208,-0.002686718013137579],\"type\":\"scatter\"},{\"line\":{\"width\":2},\"mode\":\"lines\",\"name\":\"model.decoder.1.pp_block.input_layernorm.weight.grad\",\"x\":[1,2,3,4,5],\"y\":[-7.554888725280762e-05,1.2159347534179688e-05,-6.566941738128662e-05,3.664568066596985e-05,2.5913119316101074e-05],\"type\":\"scatter\"},{\"fill\":\"toself\",\"fillcolor\":\"rgba(0,100,80,0.2)\",\"hoverinfo\":\"skip\",\"line\":{\"color\":\"rgba(255,255,255,0)\"},\"name\":\"model.decoder.1.pp_block.input_layernorm.weight.grad Std Dev\",\"showlegend\":false,\"x\":[1,2,3,4,5,5,4,3,2,1],\"y\":[0.00027068256167694926,0.00043601234210655093,0.0002786800905596465,0.00038932161987759173,0.00025601279048714787,-0.00020418655185494572,-0.00031603025854565203,-0.00041001892532221973,-0.00041169364703819156,-0.0004217803361825645],\"type\":\"scatter\"},{\"line\":{\"width\":2},\"mode\":\"lines\",\"name\":\"model.decoder.1.pp_block.mlp.gate_up_proj.weight.grad\",\"x\":[1,2,3,4,5],\"y\":[-3.262020072725136e-06,-2.9552000341936946e-05,-6.2779618019703776e-06,-3.9994483813643456e-07,-2.093311195494607e-07],\"type\":\"scatter\"},{\"fill\":\"toself\",\"fillcolor\":\"rgba(0,100,80,0.2)\",\"hoverinfo\":\"skip\",\"line\":{\"color\":\"rgba(255,255,255,0)\"},\"name\":\"model.decoder.1.pp_block.mlp.gate_up_proj.weight.grad Std Dev\",\"showlegend\":false,\"x\":[1,2,3,4,5,5,4,3,2,1],\"y\":[0.0005418256578195724,0.000466384255560115,0.0005196819802222308,0.00043358420953154564,0.00045861526268708985,-0.0004590339249261888,-0.0004343840992078185,-0.0005322379038261715,-0.0005254882562439889,-0.0005483496979650226],\"type\":\"scatter\"},{\"line\":{\"width\":2},\"mode\":\"lines\",\"name\":\"model.decoder.1.pp_block.attn.qkv_proj.weight.grad\",\"x\":[1,2,3,4,5],\"y\":[-1.9893303033313714e-05,-7.509818533435464e-05,-8.135275857057422e-05,2.751210195128806e-05,7.729327990091406e-06],\"type\":\"scatter\"},{\"fill\":\"toself\",\"fillcolor\":\"rgba(0,100,80,0.2)\",\"hoverinfo\":\"skip\",\"line\":{\"color\":\"rgba(255,255,255,0)\"},\"name\":\"model.decoder.1.pp_block.attn.qkv_proj.weight.grad Std Dev\",\"showlegend\":false,\"x\":[1,2,3,4,5,5,4,3,2,1],\"y\":[0.0013296976485435152,0.001402517140377313,0.001018972383462824,0.0009958900809579063,0.0007986696346051758,-0.000783210978624993,-0.0009408658770553302,-0.0011816779006039724,-0.0015527135110460222,-0.0013694842546101427],\"type\":\"scatter\"},{\"line\":{\"width\":2},\"mode\":\"lines\",\"name\":\"model.decoder.0.pp_block.attn.qkv_proj.weight.grad\",\"x\":[1,2,3,4,5],\"y\":[-9.807215974433348e-05,0.00012267599231563509,5.988371412968263e-05,-2.36338146351045e-05,3.453333556535654e-05],\"type\":\"scatter\"},{\"fill\":\"toself\",\"fillcolor\":\"rgba(0,100,80,0.2)\",\"hoverinfo\":\"skip\",\"line\":{\"color\":\"rgba(255,255,255,0)\"},\"name\":\"model.decoder.0.pp_block.attn.qkv_proj.weight.grad Std Dev\",\"showlegend\":false,\"x\":[1,2,3,4,5,5,4,3,2,1],\"y\":[0.0013592619870905764,0.001465613575419411,0.001127638177422341,0.0010535859128140146,0.001023725500999717,-0.000954658829869004,-0.0011008535420842236,-0.0010078707491629757,-0.001220261590788141,-0.0015554063065792434],\"type\":\"scatter\"},{\"line\":{\"width\":2},\"mode\":\"lines\",\"name\":\"model.decoder.0.pp_block.post_attention_layernorm.weight.grad\",\"x\":[1,2,3,4,5],\"y\":[0.0001437664031982422,0.00018288195133209229,-7.216259837150574e-05,-0.00018101930618286133,0.00018277764320373535],\"type\":\"scatter\"},{\"fill\":\"toself\",\"fillcolor\":\"rgba(0,100,80,0.2)\",\"hoverinfo\":\"skip\",\"line\":{\"color\":\"rgba(255,255,255,0)\"},\"name\":\"model.decoder.0.pp_block.post_attention_layernorm.weight.grad Std Dev\",\"showlegend\":false,\"x\":[1,2,3,4,5,5,4,3,2,1],\"y\":[0.0004035377933178097,0.0004997444921173155,0.0001882568176370114,7.293169619515538e-05,0.0004796491120941937,-0.000114093825686723,-0.00043497030856087804,-0.0003325820143800229,-0.00013398058945313096,-0.00011600498692132533],\"type\":\"scatter\"},{\"line\":{\"width\":2},\"mode\":\"lines\",\"name\":\"model.decoder.0.pp_block.input_layernorm.weight.grad\",\"x\":[1,2,3,4,5],\"y\":[7.13123008608818e-05,-3.910064697265625e-05,-2.9280781745910645e-06,8.285790681838989e-05,1.8924474716186523e-05],\"type\":\"scatter\"},{\"fill\":\"toself\",\"fillcolor\":\"rgba(0,100,80,0.2)\",\"hoverinfo\":\"skip\",\"line\":{\"color\":\"rgba(255,255,255,0)\"},\"name\":\"model.decoder.0.pp_block.input_layernorm.weight.grad Std Dev\",\"showlegend\":false,\"x\":[1,2,3,4,5,5,4,3,2,1],\"y\":[0.0005026485305279493,0.00027448905166238546,0.00023909594165161252,0.0003632560546975583,0.0002120095450663939,-0.00017416059563402086,-0.0001975402410607785,-0.00024495209800079465,-0.00035269034560769796,-0.0003600239288061857],\"type\":\"scatter\"},{\"line\":{\"width\":2},\"mode\":\"lines\",\"name\":\"model.decoder.0.pp_block.mlp.down_proj.weight.grad\",\"x\":[1,2,3,4,5],\"y\":[-3.5567820305004716e-05,-0.00010004517389461398,9.103445336222649e-06,1.52749998960644e-06,2.1241081412881613e-05],\"type\":\"scatter\"},{\"fill\":\"toself\",\"fillcolor\":\"rgba(0,100,80,0.2)\",\"hoverinfo\":\"skip\",\"line\":{\"color\":\"rgba(255,255,255,0)\"},\"name\":\"model.decoder.0.pp_block.mlp.down_proj.weight.grad Std Dev\",\"showlegend\":false,\"x\":[1,2,3,4,5,5,4,3,2,1],\"y\":[0.0010479049233254045,0.0011488441959954798,0.001135421684011817,0.0010538919741520658,0.0010336725390516222,-0.000991190376225859,-0.001050836974172853,-0.0011172147933393717,-0.0013489345437847078,-0.001119040563935414],\"type\":\"scatter\"},{\"line\":{\"width\":2},\"mode\":\"lines\",\"name\":\"model.decoder.1.pp_block.mlp.down_proj.weight.grad\",\"x\":[1,2,3,4,5],\"y\":[2.0260762539692223e-05,2.4348206352442503e-05,3.906200436176732e-05,-1.029292616294697e-05,-2.1571177057921886e-06],\"type\":\"scatter\"},{\"fill\":\"toself\",\"fillcolor\":\"rgba(0,100,80,0.2)\",\"hoverinfo\":\"skip\",\"line\":{\"color\":\"rgba(255,255,255,0)\"},\"name\":\"model.decoder.1.pp_block.mlp.down_proj.weight.grad Std Dev\",\"showlegend\":false,\"x\":[1,2,3,4,5,5,4,3,2,1],\"y\":[0.001155012592789717,0.0010924921953119338,0.0011122663345304318,0.0008695767537574284,0.0008067959570325911,-0.0008111101924441755,-0.0008901626060833223,-0.0010341423258068971,-0.0010437957826070487,-0.0011144910677103326],\"type\":\"scatter\"},{\"line\":{\"width\":2},\"mode\":\"lines\",\"name\":\"model.decoder.1.pp_block.attn.o_proj.weight.grad\",\"x\":[1,2,3,4,5],\"y\":[0.00040972232818603516,-0.000264984555542469,6.173807196319103e-05,-0.0005156630650162697,-0.00019942596554756165],\"type\":\"scatter\"},{\"fill\":\"toself\",\"fillcolor\":\"rgba(0,100,80,0.2)\",\"hoverinfo\":\"skip\",\"line\":{\"color\":\"rgba(255,255,255,0)\"},\"name\":\"model.decoder.1.pp_block.attn.o_proj.weight.grad Std Dev\",\"showlegend\":false,\"x\":[1,2,3,4,5,5,4,3,2,1],\"y\":[0.0046989344991743565,0.0036927000619471073,0.003142212750390172,0.0027088948991149664,0.0026285804342478514,-0.0030274323653429747,-0.0037402210291475058,-0.00301873660646379,-0.004222669173032045,-0.003879489842802286],\"type\":\"scatter\"},{\"line\":{\"width\":2},\"mode\":\"lines\",\"name\":\"model.token_position_embeddings.pp_block.token_embedding.weight.grad\",\"x\":[1,2,3,4,5],\"y\":[-8.04212845650909e-07,-2.1271421246638056e-06,2.4151413526851684e-06,6.843426376690331e-07,8.726783562451601e-08],\"type\":\"scatter\"},{\"fill\":\"toself\",\"fillcolor\":\"rgba(0,100,80,0.2)\",\"hoverinfo\":\"skip\",\"line\":{\"color\":\"rgba(255,255,255,0)\"},\"name\":\"model.token_position_embeddings.pp_block.token_embedding.weight.grad Std Dev\",\"showlegend\":false,\"x\":[1,2,3,4,5,5,4,3,2,1],\"y\":[0.0008795044692533338,0.0008495641509398411,0.000796735334006371,0.000767548156261455,0.0007648306927876547,-0.0007646561571164057,-0.0007661794709861169,-0.0007919050513010006,-0.0008538184351891687,-0.0008811128949446356],\"type\":\"scatter\"},{\"line\":{\"width\":2},\"mode\":\"lines\",\"name\":\"model.lm_head.pp_block.weight.grad\",\"x\":[1,2,3,4,5],\"y\":[1.2801820048480295e-07,-3.8747495523239195e-07,2.449887404054607e-07,-3.7114006090632756e-07,3.2651161063768086e-07],\"type\":\"scatter\"},{\"fill\":\"toself\",\"fillcolor\":\"rgba(0,100,80,0.2)\",\"hoverinfo\":\"skip\",\"line\":{\"color\":\"rgba(255,255,255,0)\"},\"name\":\"model.lm_head.pp_block.weight.grad Std Dev\",\"showlegend\":false,\"x\":[1,2,3,4,5,5,4,3,2,1],\"y\":[0.0008499983428009728,0.0008608746127549693,0.0008068004317181021,0.0007549875219297064,0.0007691299209113822,-0.0007684768976901069,-0.0007557298020515191,-0.0008063104542372912,-0.0008616495626654341,-0.0008497423064000031],\"type\":\"scatter\"},{\"line\":{\"width\":2},\"mode\":\"lines\",\"name\":\"model.decoder.0.pp_block.attn.o_proj.weight.grad\",\"x\":[1,2,3,4,5],\"y\":[0.0004978431388735771,0.0004920652136206627,6.26780092716217e-06,-0.0003082635812461376,6.58784992992878e-05],\"type\":\"scatter\"},{\"fill\":\"toself\",\"fillcolor\":\"rgba(0,100,80,0.2)\",\"hoverinfo\":\"skip\",\"line\":{\"color\":\"rgba(255,255,255,0)\"},\"name\":\"model.decoder.0.pp_block.attn.o_proj.weight.grad Std Dev\",\"showlegend\":false,\"x\":[1,2,3,4,5,5,4,3,2,1],\"y\":[0.003778938204050064,0.004228800069540739,0.0030188877135515213,0.0025075047742575407,0.0024150535464286804,-0.002283296547830105,-0.003124031936749816,-0.003006352111697197,-0.0032446696422994137,-0.00278325192630291],\"type\":\"scatter\"},{\"line\":{\"width\":2},\"mode\":\"lines\",\"name\":\"model.decoder.0.pp_block.mlp.gate_up_proj.weight.grad\",\"x\":[1,2,3,4,5],\"y\":[-1.92889419849962e-05,4.385730790090747e-06,-5.527399480342865e-07,-7.215039659058675e-07,8.949356924858876e-06],\"type\":\"scatter\"},{\"fill\":\"toself\",\"fillcolor\":\"rgba(0,100,80,0.2)\",\"hoverinfo\":\"skip\",\"line\":{\"color\":\"rgba(255,255,255,0)\"},\"name\":\"model.decoder.0.pp_block.mlp.gate_up_proj.weight.grad Std Dev\",\"showlegend\":false,\"x\":[1,2,3,4,5,5,4,3,2,1],\"y\":[0.0005691324186045676,0.0005819777306896867,0.0005219283048063517,0.000508927778355428,0.0005151660170668038,-0.000497267303217086,-0.0005103707862872398,-0.0005230337847024202,-0.0005732062691095052,-0.00060771030257456],\"type\":\"scatter\"},{\"line\":{\"width\":2},\"mode\":\"lines\",\"name\":\"model.decoder.0.pp_block.attn.balance_factors.grad\",\"x\":[1,2,3,4,5],\"y\":[-0.022059202194213867,0.0292510986328125,0.00128173828125,-0.02606964111328125,-0.00794219970703125],\"type\":\"scatter\"},{\"fill\":\"toself\",\"fillcolor\":\"rgba(0,100,80,0.2)\",\"hoverinfo\":\"skip\",\"line\":{\"color\":\"rgba(255,255,255,0)\"},\"name\":\"model.decoder.0.pp_block.attn.balance_factors.grad Std Dev\",\"showlegend\":false,\"x\":[1,2,3,4,5,5,4,3,2,1],\"y\":[0.029811076819896698,0.07617643848061562,0.05894214287400246,0.02324569970369339,0.04914530739188194,-0.06502970680594444,-0.07538498193025589,-0.05637866631150246,-0.017674241214990616,-0.07392948120832443],\"type\":\"scatter\"},{\"line\":{\"width\":2},\"mode\":\"lines\",\"name\":\"model.decoder.1.pp_block.post_attention_layernorm.weight.grad\",\"x\":[1,2,3,4,5],\"y\":[0.00021371245384216309,9.015947580337524e-05,8.095055818557739e-05,0.00010886043310165405,4.680454730987549e-05],\"type\":\"scatter\"},{\"fill\":\"toself\",\"fillcolor\":\"rgba(0,100,80,0.2)\",\"hoverinfo\":\"skip\",\"line\":{\"color\":\"rgba(255,255,255,0)\"},\"name\":\"model.decoder.1.pp_block.post_attention_layernorm.weight.grad Std Dev\",\"showlegend\":false,\"x\":[1,2,3,4,5,5,4,3,2,1],\"y\":[0.0005066160229034722,0.00036516631371341646,0.0003272670728620142,0.00039845777791924775,0.00034502430935390294,-0.00025141521473415196,-0.00018073691171593964,-0.0001653659564908594,-0.00018484736210666597,-7.919111521914601e-05],\"type\":\"scatter\"},{\"line\":{\"width\":2},\"mode\":\"lines\",\"name\":\"model.decoder.1.pp_block.attn.balance_factors.grad\",\"x\":[1,2,3,4,5],\"y\":[0.02516937255859375,-0.0030670166015625,0.01318359375,-0.042507171630859375,-0.011112213134765625],\"type\":\"scatter\"},{\"fill\":\"toself\",\"fillcolor\":\"rgba(0,100,80,0.2)\",\"hoverinfo\":\"skip\",\"line\":{\"color\":\"rgba(255,255,255,0)\"},\"name\":\"model.decoder.1.pp_block.attn.balance_factors.grad Std Dev\",\"showlegend\":false,\"x\":[1,2,3,4,5,5,4,3,2,1],\"y\":[0.07515736296772957,0.05449230596423149,0.06896872445940971,-0.012038985267281532,0.04510023817420006,-0.06732466444373131,-0.07297535799443722,-0.042601536959409714,-0.06062633916735649,-0.02481861785054207],\"type\":\"scatter\"}],                        {\"template\":{\"data\":{\"histogram2dcontour\":[{\"type\":\"histogram2dcontour\",\"colorbar\":{\"outlinewidth\":0,\"ticks\":\"\"},\"colorscale\":[[0.0,\"#0d0887\"],[0.1111111111111111,\"#46039f\"],[0.2222222222222222,\"#7201a8\"],[0.3333333333333333,\"#9c179e\"],[0.4444444444444444,\"#bd3786\"],[0.5555555555555556,\"#d8576b\"],[0.6666666666666666,\"#ed7953\"],[0.7777777777777778,\"#fb9f3a\"],[0.8888888888888888,\"#fdca26\"],[1.0,\"#f0f921\"]]}],\"choropleth\":[{\"type\":\"choropleth\",\"colorbar\":{\"outlinewidth\":0,\"ticks\":\"\"}}],\"histogram2d\":[{\"type\":\"histogram2d\",\"colorbar\":{\"outlinewidth\":0,\"ticks\":\"\"},\"colorscale\":[[0.0,\"#0d0887\"],[0.1111111111111111,\"#46039f\"],[0.2222222222222222,\"#7201a8\"],[0.3333333333333333,\"#9c179e\"],[0.4444444444444444,\"#bd3786\"],[0.5555555555555556,\"#d8576b\"],[0.6666666666666666,\"#ed7953\"],[0.7777777777777778,\"#fb9f3a\"],[0.8888888888888888,\"#fdca26\"],[1.0,\"#f0f921\"]]}],\"heatmap\":[{\"type\":\"heatmap\",\"colorbar\":{\"outlinewidth\":0,\"ticks\":\"\"},\"colorscale\":[[0.0,\"#0d0887\"],[0.1111111111111111,\"#46039f\"],[0.2222222222222222,\"#7201a8\"],[0.3333333333333333,\"#9c179e\"],[0.4444444444444444,\"#bd3786\"],[0.5555555555555556,\"#d8576b\"],[0.6666666666666666,\"#ed7953\"],[0.7777777777777778,\"#fb9f3a\"],[0.8888888888888888,\"#fdca26\"],[1.0,\"#f0f921\"]]}],\"heatmapgl\":[{\"type\":\"heatmapgl\",\"colorbar\":{\"outlinewidth\":0,\"ticks\":\"\"},\"colorscale\":[[0.0,\"#0d0887\"],[0.1111111111111111,\"#46039f\"],[0.2222222222222222,\"#7201a8\"],[0.3333333333333333,\"#9c179e\"],[0.4444444444444444,\"#bd3786\"],[0.5555555555555556,\"#d8576b\"],[0.6666666666666666,\"#ed7953\"],[0.7777777777777778,\"#fb9f3a\"],[0.8888888888888888,\"#fdca26\"],[1.0,\"#f0f921\"]]}],\"contourcarpet\":[{\"type\":\"contourcarpet\",\"colorbar\":{\"outlinewidth\":0,\"ticks\":\"\"}}],\"contour\":[{\"type\":\"contour\",\"colorbar\":{\"outlinewidth\":0,\"ticks\":\"\"},\"colorscale\":[[0.0,\"#0d0887\"],[0.1111111111111111,\"#46039f\"],[0.2222222222222222,\"#7201a8\"],[0.3333333333333333,\"#9c179e\"],[0.4444444444444444,\"#bd3786\"],[0.5555555555555556,\"#d8576b\"],[0.6666666666666666,\"#ed7953\"],[0.7777777777777778,\"#fb9f3a\"],[0.8888888888888888,\"#fdca26\"],[1.0,\"#f0f921\"]]}],\"surface\":[{\"type\":\"surface\",\"colorbar\":{\"outlinewidth\":0,\"ticks\":\"\"},\"colorscale\":[[0.0,\"#0d0887\"],[0.1111111111111111,\"#46039f\"],[0.2222222222222222,\"#7201a8\"],[0.3333333333333333,\"#9c179e\"],[0.4444444444444444,\"#bd3786\"],[0.5555555555555556,\"#d8576b\"],[0.6666666666666666,\"#ed7953\"],[0.7777777777777778,\"#fb9f3a\"],[0.8888888888888888,\"#fdca26\"],[1.0,\"#f0f921\"]]}],\"mesh3d\":[{\"type\":\"mesh3d\",\"colorbar\":{\"outlinewidth\":0,\"ticks\":\"\"}}],\"scatter\":[{\"fillpattern\":{\"fillmode\":\"overlay\",\"size\":10,\"solidity\":0.2},\"type\":\"scatter\"}],\"parcoords\":[{\"type\":\"parcoords\",\"line\":{\"colorbar\":{\"outlinewidth\":0,\"ticks\":\"\"}}}],\"scatterpolargl\":[{\"type\":\"scatterpolargl\",\"marker\":{\"colorbar\":{\"outlinewidth\":0,\"ticks\":\"\"}}}],\"bar\":[{\"error_x\":{\"color\":\"#2a3f5f\"},\"error_y\":{\"color\":\"#2a3f5f\"},\"marker\":{\"line\":{\"color\":\"#E5ECF6\",\"width\":0.5},\"pattern\":{\"fillmode\":\"overlay\",\"size\":10,\"solidity\":0.2}},\"type\":\"bar\"}],\"scattergeo\":[{\"type\":\"scattergeo\",\"marker\":{\"colorbar\":{\"outlinewidth\":0,\"ticks\":\"\"}}}],\"scatterpolar\":[{\"type\":\"scatterpolar\",\"marker\":{\"colorbar\":{\"outlinewidth\":0,\"ticks\":\"\"}}}],\"histogram\":[{\"marker\":{\"pattern\":{\"fillmode\":\"overlay\",\"size\":10,\"solidity\":0.2}},\"type\":\"histogram\"}],\"scattergl\":[{\"type\":\"scattergl\",\"marker\":{\"colorbar\":{\"outlinewidth\":0,\"ticks\":\"\"}}}],\"scatter3d\":[{\"type\":\"scatter3d\",\"line\":{\"colorbar\":{\"outlinewidth\":0,\"ticks\":\"\"}},\"marker\":{\"colorbar\":{\"outlinewidth\":0,\"ticks\":\"\"}}}],\"scattermapbox\":[{\"type\":\"scattermapbox\",\"marker\":{\"colorbar\":{\"outlinewidth\":0,\"ticks\":\"\"}}}],\"scatterternary\":[{\"type\":\"scatterternary\",\"marker\":{\"colorbar\":{\"outlinewidth\":0,\"ticks\":\"\"}}}],\"scattercarpet\":[{\"type\":\"scattercarpet\",\"marker\":{\"colorbar\":{\"outlinewidth\":0,\"ticks\":\"\"}}}],\"carpet\":[{\"aaxis\":{\"endlinecolor\":\"#2a3f5f\",\"gridcolor\":\"white\",\"linecolor\":\"white\",\"minorgridcolor\":\"white\",\"startlinecolor\":\"#2a3f5f\"},\"baxis\":{\"endlinecolor\":\"#2a3f5f\",\"gridcolor\":\"white\",\"linecolor\":\"white\",\"minorgridcolor\":\"white\",\"startlinecolor\":\"#2a3f5f\"},\"type\":\"carpet\"}],\"table\":[{\"cells\":{\"fill\":{\"color\":\"#EBF0F8\"},\"line\":{\"color\":\"white\"}},\"header\":{\"fill\":{\"color\":\"#C8D4E3\"},\"line\":{\"color\":\"white\"}},\"type\":\"table\"}],\"barpolar\":[{\"marker\":{\"line\":{\"color\":\"#E5ECF6\",\"width\":0.5},\"pattern\":{\"fillmode\":\"overlay\",\"size\":10,\"solidity\":0.2}},\"type\":\"barpolar\"}],\"pie\":[{\"automargin\":true,\"type\":\"pie\"}]},\"layout\":{\"autotypenumbers\":\"strict\",\"colorway\":[\"#636efa\",\"#EF553B\",\"#00cc96\",\"#ab63fa\",\"#FFA15A\",\"#19d3f3\",\"#FF6692\",\"#B6E880\",\"#FF97FF\",\"#FECB52\"],\"font\":{\"color\":\"#2a3f5f\"},\"hovermode\":\"closest\",\"hoverlabel\":{\"align\":\"left\"},\"paper_bgcolor\":\"white\",\"plot_bgcolor\":\"#E5ECF6\",\"polar\":{\"bgcolor\":\"#E5ECF6\",\"angularaxis\":{\"gridcolor\":\"white\",\"linecolor\":\"white\",\"ticks\":\"\"},\"radialaxis\":{\"gridcolor\":\"white\",\"linecolor\":\"white\",\"ticks\":\"\"}},\"ternary\":{\"bgcolor\":\"#E5ECF6\",\"aaxis\":{\"gridcolor\":\"white\",\"linecolor\":\"white\",\"ticks\":\"\"},\"baxis\":{\"gridcolor\":\"white\",\"linecolor\":\"white\",\"ticks\":\"\"},\"caxis\":{\"gridcolor\":\"white\",\"linecolor\":\"white\",\"ticks\":\"\"}},\"coloraxis\":{\"colorbar\":{\"outlinewidth\":0,\"ticks\":\"\"}},\"colorscale\":{\"sequential\":[[0.0,\"#0d0887\"],[0.1111111111111111,\"#46039f\"],[0.2222222222222222,\"#7201a8\"],[0.3333333333333333,\"#9c179e\"],[0.4444444444444444,\"#bd3786\"],[0.5555555555555556,\"#d8576b\"],[0.6666666666666666,\"#ed7953\"],[0.7777777777777778,\"#fb9f3a\"],[0.8888888888888888,\"#fdca26\"],[1.0,\"#f0f921\"]],\"sequentialminus\":[[0.0,\"#0d0887\"],[0.1111111111111111,\"#46039f\"],[0.2222222222222222,\"#7201a8\"],[0.3333333333333333,\"#9c179e\"],[0.4444444444444444,\"#bd3786\"],[0.5555555555555556,\"#d8576b\"],[0.6666666666666666,\"#ed7953\"],[0.7777777777777778,\"#fb9f3a\"],[0.8888888888888888,\"#fdca26\"],[1.0,\"#f0f921\"]],\"diverging\":[[0,\"#8e0152\"],[0.1,\"#c51b7d\"],[0.2,\"#de77ae\"],[0.3,\"#f1b6da\"],[0.4,\"#fde0ef\"],[0.5,\"#f7f7f7\"],[0.6,\"#e6f5d0\"],[0.7,\"#b8e186\"],[0.8,\"#7fbc41\"],[0.9,\"#4d9221\"],[1,\"#276419\"]]},\"xaxis\":{\"gridcolor\":\"white\",\"linecolor\":\"white\",\"ticks\":\"\",\"title\":{\"standoff\":15},\"zerolinecolor\":\"white\",\"automargin\":true,\"zerolinewidth\":2},\"yaxis\":{\"gridcolor\":\"white\",\"linecolor\":\"white\",\"ticks\":\"\",\"title\":{\"standoff\":15},\"zerolinecolor\":\"white\",\"automargin\":true,\"zerolinewidth\":2},\"scene\":{\"xaxis\":{\"backgroundcolor\":\"#E5ECF6\",\"gridcolor\":\"white\",\"linecolor\":\"white\",\"showbackground\":true,\"ticks\":\"\",\"zerolinecolor\":\"white\",\"gridwidth\":2},\"yaxis\":{\"backgroundcolor\":\"#E5ECF6\",\"gridcolor\":\"white\",\"linecolor\":\"white\",\"showbackground\":true,\"ticks\":\"\",\"zerolinecolor\":\"white\",\"gridwidth\":2},\"zaxis\":{\"backgroundcolor\":\"#E5ECF6\",\"gridcolor\":\"white\",\"linecolor\":\"white\",\"showbackground\":true,\"ticks\":\"\",\"zerolinecolor\":\"white\",\"gridwidth\":2}},\"shapedefaults\":{\"line\":{\"color\":\"#2a3f5f\"}},\"annotationdefaults\":{\"arrowcolor\":\"#2a3f5f\",\"arrowhead\":0,\"arrowwidth\":1},\"geo\":{\"bgcolor\":\"white\",\"landcolor\":\"#E5ECF6\",\"subunitcolor\":\"white\",\"showland\":true,\"showlakes\":true,\"lakecolor\":\"white\"},\"title\":{\"x\":0.05},\"mapbox\":{\"style\":\"light\"}}},\"xaxis\":{\"anchor\":\"y\",\"domain\":[0.0,1.0],\"title\":{\"text\":\"Training Step\"}},\"yaxis\":{\"anchor\":\"x\",\"domain\":[0.0,1.0],\"title\":{\"text\":\"Mean of Gradients\"}},\"title\":{\"text\":\"Gradient Means and Variances Across Training Steps\"},\"hovermode\":\"x unified\",\"legend\":{\"title\":{\"text\":\"Tensor Names\"}}},                        {\"responsive\": true}                    ).then(function(){\n",
       "                            \n",
       "var gd = document.getElementById('ea81c21c-e721-4577-9ec2-377099983b0a');\n",
       "var x = new MutationObserver(function (mutations, observer) {{\n",
       "        var display = window.getComputedStyle(gd).display;\n",
       "        if (!display || display === 'none') {{\n",
       "            console.log([gd, 'removed!']);\n",
       "            Plotly.purge(gd);\n",
       "            observer.disconnect();\n",
       "        }}\n",
       "}});\n",
       "\n",
       "// Listen for the removal of the full notebook cells\n",
       "var notebookContainer = gd.closest('#notebook-container');\n",
       "if (notebookContainer) {{\n",
       "    x.observe(notebookContainer, {childList: true});\n",
       "}}\n",
       "\n",
       "// Listen for the clearing of the current output cell\n",
       "var outputEl = gd.closest('.output');\n",
       "if (outputEl) {{\n",
       "    x.observe(outputEl, {childList: true});\n",
       "}}\n",
       "\n",
       "                        })                };                });            </script>        </div>"
      ]
     },
     "metadata": {},
     "output_type": "display_data"
    }
   ],
   "source": [
    "fig.show()"
   ]
  },
  {
   "cell_type": "code",
   "execution_count": 35,
   "metadata": {},
   "outputs": [],
   "source": [
    "from plotly.offline import init_notebook_mode, iplot\n"
   ]
  },
  {
   "cell_type": "code",
   "execution_count": 41,
   "metadata": {},
   "outputs": [
    {
     "data": {
      "application/vnd.plotly.v1+json": {
       "config": {
        "linkText": "Export to plot.ly",
        "plotlyServerURL": "https://plot.ly",
        "showLink": false
       },
       "data": [
        {
         "line": {
          "width": 2
         },
         "mode": "lines",
         "name": "model.final_layer_norm.pp_block.weight.grad",
         "type": "scatter",
         "x": [
          1,
          2,
          3,
          4,
          5
         ],
         "y": [
          0.002198129892349243,
          0.0021066665649414062,
          0.0008701086044311523,
          0.0015106797218322754,
          -0.00011205673217773438
         ]
        },
        {
         "fill": "toself",
         "fillcolor": "rgba(0,100,80,0.2)",
         "hoverinfo": "skip",
         "line": {
          "color": "rgba(255,255,255,0)"
         },
         "name": "model.final_layer_norm.pp_block.weight.grad Std Dev",
         "showlegend": false,
         "type": "scatter",
         "x": [
          1,
          2,
          3,
          4,
          5,
          5,
          4,
          3,
          2,
          1
         ],
         "y": [
          0.007082977797836065,
          0.00813433900475502,
          0.005468044430017471,
          0.004966680658981204,
          0.0032637217082083225,
          -0.0034878351725637913,
          -0.0019453212153166533,
          -0.0037278272211551666,
          -0.003921005874872208,
          -0.002686718013137579
         ]
        },
        {
         "line": {
          "width": 2
         },
         "mode": "lines",
         "name": "model.decoder.1.pp_block.input_layernorm.weight.grad",
         "type": "scatter",
         "x": [
          1,
          2,
          3,
          4,
          5
         ],
         "y": [
          -0.00007554888725280762,
          0.000012159347534179688,
          -0.00006566941738128662,
          0.00003664568066596985,
          0.000025913119316101074
         ]
        },
        {
         "fill": "toself",
         "fillcolor": "rgba(0,100,80,0.2)",
         "hoverinfo": "skip",
         "line": {
          "color": "rgba(255,255,255,0)"
         },
         "name": "model.decoder.1.pp_block.input_layernorm.weight.grad Std Dev",
         "showlegend": false,
         "type": "scatter",
         "x": [
          1,
          2,
          3,
          4,
          5,
          5,
          4,
          3,
          2,
          1
         ],
         "y": [
          0.00027068256167694926,
          0.00043601234210655093,
          0.0002786800905596465,
          0.00038932161987759173,
          0.00025601279048714787,
          -0.00020418655185494572,
          -0.00031603025854565203,
          -0.00041001892532221973,
          -0.00041169364703819156,
          -0.0004217803361825645
         ]
        },
        {
         "line": {
          "width": 2
         },
         "mode": "lines",
         "name": "model.decoder.1.pp_block.mlp.gate_up_proj.weight.grad",
         "type": "scatter",
         "x": [
          1,
          2,
          3,
          4,
          5
         ],
         "y": [
          -0.000003262020072725136,
          -0.000029552000341936946,
          -0.0000062779618019703776,
          -3.9994483813643456e-7,
          -2.093311195494607e-7
         ]
        },
        {
         "fill": "toself",
         "fillcolor": "rgba(0,100,80,0.2)",
         "hoverinfo": "skip",
         "line": {
          "color": "rgba(255,255,255,0)"
         },
         "name": "model.decoder.1.pp_block.mlp.gate_up_proj.weight.grad Std Dev",
         "showlegend": false,
         "type": "scatter",
         "x": [
          1,
          2,
          3,
          4,
          5,
          5,
          4,
          3,
          2,
          1
         ],
         "y": [
          0.0005418256578195724,
          0.000466384255560115,
          0.0005196819802222308,
          0.00043358420953154564,
          0.00045861526268708985,
          -0.0004590339249261888,
          -0.0004343840992078185,
          -0.0005322379038261715,
          -0.0005254882562439889,
          -0.0005483496979650226
         ]
        },
        {
         "line": {
          "width": 2
         },
         "mode": "lines",
         "name": "model.decoder.1.pp_block.attn.qkv_proj.weight.grad",
         "type": "scatter",
         "x": [
          1,
          2,
          3,
          4,
          5
         ],
         "y": [
          -0.000019893303033313714,
          -0.00007509818533435464,
          -0.00008135275857057422,
          0.00002751210195128806,
          0.000007729327990091406
         ]
        },
        {
         "fill": "toself",
         "fillcolor": "rgba(0,100,80,0.2)",
         "hoverinfo": "skip",
         "line": {
          "color": "rgba(255,255,255,0)"
         },
         "name": "model.decoder.1.pp_block.attn.qkv_proj.weight.grad Std Dev",
         "showlegend": false,
         "type": "scatter",
         "x": [
          1,
          2,
          3,
          4,
          5,
          5,
          4,
          3,
          2,
          1
         ],
         "y": [
          0.0013296976485435152,
          0.001402517140377313,
          0.001018972383462824,
          0.0009958900809579063,
          0.0007986696346051758,
          -0.000783210978624993,
          -0.0009408658770553302,
          -0.0011816779006039724,
          -0.0015527135110460222,
          -0.0013694842546101427
         ]
        },
        {
         "line": {
          "width": 2
         },
         "mode": "lines",
         "name": "model.decoder.0.pp_block.attn.qkv_proj.weight.grad",
         "type": "scatter",
         "x": [
          1,
          2,
          3,
          4,
          5
         ],
         "y": [
          -0.00009807215974433348,
          0.00012267599231563509,
          0.00005988371412968263,
          -0.0000236338146351045,
          0.00003453333556535654
         ]
        },
        {
         "fill": "toself",
         "fillcolor": "rgba(0,100,80,0.2)",
         "hoverinfo": "skip",
         "line": {
          "color": "rgba(255,255,255,0)"
         },
         "name": "model.decoder.0.pp_block.attn.qkv_proj.weight.grad Std Dev",
         "showlegend": false,
         "type": "scatter",
         "x": [
          1,
          2,
          3,
          4,
          5,
          5,
          4,
          3,
          2,
          1
         ],
         "y": [
          0.0013592619870905764,
          0.001465613575419411,
          0.001127638177422341,
          0.0010535859128140146,
          0.001023725500999717,
          -0.000954658829869004,
          -0.0011008535420842236,
          -0.0010078707491629757,
          -0.001220261590788141,
          -0.0015554063065792434
         ]
        },
        {
         "line": {
          "width": 2
         },
         "mode": "lines",
         "name": "model.decoder.0.pp_block.post_attention_layernorm.weight.grad",
         "type": "scatter",
         "x": [
          1,
          2,
          3,
          4,
          5
         ],
         "y": [
          0.0001437664031982422,
          0.00018288195133209229,
          -0.00007216259837150574,
          -0.00018101930618286133,
          0.00018277764320373535
         ]
        },
        {
         "fill": "toself",
         "fillcolor": "rgba(0,100,80,0.2)",
         "hoverinfo": "skip",
         "line": {
          "color": "rgba(255,255,255,0)"
         },
         "name": "model.decoder.0.pp_block.post_attention_layernorm.weight.grad Std Dev",
         "showlegend": false,
         "type": "scatter",
         "x": [
          1,
          2,
          3,
          4,
          5,
          5,
          4,
          3,
          2,
          1
         ],
         "y": [
          0.0004035377933178097,
          0.0004997444921173155,
          0.0001882568176370114,
          0.00007293169619515538,
          0.0004796491120941937,
          -0.000114093825686723,
          -0.00043497030856087804,
          -0.0003325820143800229,
          -0.00013398058945313096,
          -0.00011600498692132533
         ]
        },
        {
         "line": {
          "width": 2
         },
         "mode": "lines",
         "name": "model.decoder.0.pp_block.input_layernorm.weight.grad",
         "type": "scatter",
         "x": [
          1,
          2,
          3,
          4,
          5
         ],
         "y": [
          0.0000713123008608818,
          -0.00003910064697265625,
          -0.0000029280781745910645,
          0.00008285790681838989,
          0.000018924474716186523
         ]
        },
        {
         "fill": "toself",
         "fillcolor": "rgba(0,100,80,0.2)",
         "hoverinfo": "skip",
         "line": {
          "color": "rgba(255,255,255,0)"
         },
         "name": "model.decoder.0.pp_block.input_layernorm.weight.grad Std Dev",
         "showlegend": false,
         "type": "scatter",
         "x": [
          1,
          2,
          3,
          4,
          5,
          5,
          4,
          3,
          2,
          1
         ],
         "y": [
          0.0005026485305279493,
          0.00027448905166238546,
          0.00023909594165161252,
          0.0003632560546975583,
          0.0002120095450663939,
          -0.00017416059563402086,
          -0.0001975402410607785,
          -0.00024495209800079465,
          -0.00035269034560769796,
          -0.0003600239288061857
         ]
        },
        {
         "line": {
          "width": 2
         },
         "mode": "lines",
         "name": "model.decoder.0.pp_block.mlp.down_proj.weight.grad",
         "type": "scatter",
         "x": [
          1,
          2,
          3,
          4,
          5
         ],
         "y": [
          -0.000035567820305004716,
          -0.00010004517389461398,
          0.000009103445336222649,
          0.00000152749998960644,
          0.000021241081412881613
         ]
        },
        {
         "fill": "toself",
         "fillcolor": "rgba(0,100,80,0.2)",
         "hoverinfo": "skip",
         "line": {
          "color": "rgba(255,255,255,0)"
         },
         "name": "model.decoder.0.pp_block.mlp.down_proj.weight.grad Std Dev",
         "showlegend": false,
         "type": "scatter",
         "x": [
          1,
          2,
          3,
          4,
          5,
          5,
          4,
          3,
          2,
          1
         ],
         "y": [
          0.0010479049233254045,
          0.0011488441959954798,
          0.001135421684011817,
          0.0010538919741520658,
          0.0010336725390516222,
          -0.000991190376225859,
          -0.001050836974172853,
          -0.0011172147933393717,
          -0.0013489345437847078,
          -0.001119040563935414
         ]
        },
        {
         "line": {
          "width": 2
         },
         "mode": "lines",
         "name": "model.decoder.1.pp_block.mlp.down_proj.weight.grad",
         "type": "scatter",
         "x": [
          1,
          2,
          3,
          4,
          5
         ],
         "y": [
          0.000020260762539692223,
          0.000024348206352442503,
          0.00003906200436176732,
          -0.00001029292616294697,
          -0.0000021571177057921886
         ]
        },
        {
         "fill": "toself",
         "fillcolor": "rgba(0,100,80,0.2)",
         "hoverinfo": "skip",
         "line": {
          "color": "rgba(255,255,255,0)"
         },
         "name": "model.decoder.1.pp_block.mlp.down_proj.weight.grad Std Dev",
         "showlegend": false,
         "type": "scatter",
         "x": [
          1,
          2,
          3,
          4,
          5,
          5,
          4,
          3,
          2,
          1
         ],
         "y": [
          0.001155012592789717,
          0.0010924921953119338,
          0.0011122663345304318,
          0.0008695767537574284,
          0.0008067959570325911,
          -0.0008111101924441755,
          -0.0008901626060833223,
          -0.0010341423258068971,
          -0.0010437957826070487,
          -0.0011144910677103326
         ]
        },
        {
         "line": {
          "width": 2
         },
         "mode": "lines",
         "name": "model.decoder.1.pp_block.attn.o_proj.weight.grad",
         "type": "scatter",
         "x": [
          1,
          2,
          3,
          4,
          5
         ],
         "y": [
          0.00040972232818603516,
          -0.000264984555542469,
          0.00006173807196319103,
          -0.0005156630650162697,
          -0.00019942596554756165
         ]
        },
        {
         "fill": "toself",
         "fillcolor": "rgba(0,100,80,0.2)",
         "hoverinfo": "skip",
         "line": {
          "color": "rgba(255,255,255,0)"
         },
         "name": "model.decoder.1.pp_block.attn.o_proj.weight.grad Std Dev",
         "showlegend": false,
         "type": "scatter",
         "x": [
          1,
          2,
          3,
          4,
          5,
          5,
          4,
          3,
          2,
          1
         ],
         "y": [
          0.0046989344991743565,
          0.0036927000619471073,
          0.003142212750390172,
          0.0027088948991149664,
          0.0026285804342478514,
          -0.0030274323653429747,
          -0.0037402210291475058,
          -0.00301873660646379,
          -0.004222669173032045,
          -0.003879489842802286
         ]
        },
        {
         "line": {
          "width": 2
         },
         "mode": "lines",
         "name": "model.token_position_embeddings.pp_block.token_embedding.weight.grad",
         "type": "scatter",
         "x": [
          1,
          2,
          3,
          4,
          5
         ],
         "y": [
          -8.04212845650909e-7,
          -0.0000021271421246638056,
          0.0000024151413526851684,
          6.843426376690331e-7,
          8.726783562451601e-8
         ]
        },
        {
         "fill": "toself",
         "fillcolor": "rgba(0,100,80,0.2)",
         "hoverinfo": "skip",
         "line": {
          "color": "rgba(255,255,255,0)"
         },
         "name": "model.token_position_embeddings.pp_block.token_embedding.weight.grad Std Dev",
         "showlegend": false,
         "type": "scatter",
         "x": [
          1,
          2,
          3,
          4,
          5,
          5,
          4,
          3,
          2,
          1
         ],
         "y": [
          0.0008795044692533338,
          0.0008495641509398411,
          0.000796735334006371,
          0.000767548156261455,
          0.0007648306927876547,
          -0.0007646561571164057,
          -0.0007661794709861169,
          -0.0007919050513010006,
          -0.0008538184351891687,
          -0.0008811128949446356
         ]
        },
        {
         "line": {
          "width": 2
         },
         "mode": "lines",
         "name": "model.lm_head.pp_block.weight.grad",
         "type": "scatter",
         "x": [
          1,
          2,
          3,
          4,
          5
         ],
         "y": [
          1.2801820048480295e-7,
          -3.8747495523239195e-7,
          2.449887404054607e-7,
          -3.7114006090632756e-7,
          3.2651161063768086e-7
         ]
        },
        {
         "fill": "toself",
         "fillcolor": "rgba(0,100,80,0.2)",
         "hoverinfo": "skip",
         "line": {
          "color": "rgba(255,255,255,0)"
         },
         "name": "model.lm_head.pp_block.weight.grad Std Dev",
         "showlegend": false,
         "type": "scatter",
         "x": [
          1,
          2,
          3,
          4,
          5,
          5,
          4,
          3,
          2,
          1
         ],
         "y": [
          0.0008499983428009728,
          0.0008608746127549693,
          0.0008068004317181021,
          0.0007549875219297064,
          0.0007691299209113822,
          -0.0007684768976901069,
          -0.0007557298020515191,
          -0.0008063104542372912,
          -0.0008616495626654341,
          -0.0008497423064000031
         ]
        },
        {
         "line": {
          "width": 2
         },
         "mode": "lines",
         "name": "model.decoder.0.pp_block.attn.o_proj.weight.grad",
         "type": "scatter",
         "x": [
          1,
          2,
          3,
          4,
          5
         ],
         "y": [
          0.0004978431388735771,
          0.0004920652136206627,
          0.00000626780092716217,
          -0.0003082635812461376,
          0.0000658784992992878
         ]
        },
        {
         "fill": "toself",
         "fillcolor": "rgba(0,100,80,0.2)",
         "hoverinfo": "skip",
         "line": {
          "color": "rgba(255,255,255,0)"
         },
         "name": "model.decoder.0.pp_block.attn.o_proj.weight.grad Std Dev",
         "showlegend": false,
         "type": "scatter",
         "x": [
          1,
          2,
          3,
          4,
          5,
          5,
          4,
          3,
          2,
          1
         ],
         "y": [
          0.003778938204050064,
          0.004228800069540739,
          0.0030188877135515213,
          0.0025075047742575407,
          0.0024150535464286804,
          -0.002283296547830105,
          -0.003124031936749816,
          -0.003006352111697197,
          -0.0032446696422994137,
          -0.00278325192630291
         ]
        },
        {
         "line": {
          "width": 2
         },
         "mode": "lines",
         "name": "model.decoder.0.pp_block.mlp.gate_up_proj.weight.grad",
         "type": "scatter",
         "x": [
          1,
          2,
          3,
          4,
          5
         ],
         "y": [
          -0.0000192889419849962,
          0.000004385730790090747,
          -5.527399480342865e-7,
          -7.215039659058675e-7,
          0.000008949356924858876
         ]
        },
        {
         "fill": "toself",
         "fillcolor": "rgba(0,100,80,0.2)",
         "hoverinfo": "skip",
         "line": {
          "color": "rgba(255,255,255,0)"
         },
         "name": "model.decoder.0.pp_block.mlp.gate_up_proj.weight.grad Std Dev",
         "showlegend": false,
         "type": "scatter",
         "x": [
          1,
          2,
          3,
          4,
          5,
          5,
          4,
          3,
          2,
          1
         ],
         "y": [
          0.0005691324186045676,
          0.0005819777306896867,
          0.0005219283048063517,
          0.000508927778355428,
          0.0005151660170668038,
          -0.000497267303217086,
          -0.0005103707862872398,
          -0.0005230337847024202,
          -0.0005732062691095052,
          -0.00060771030257456
         ]
        },
        {
         "line": {
          "width": 2
         },
         "mode": "lines",
         "name": "model.decoder.0.pp_block.attn.balance_factors.grad",
         "type": "scatter",
         "x": [
          1,
          2,
          3,
          4,
          5
         ],
         "y": [
          -0.022059202194213867,
          0.0292510986328125,
          0.00128173828125,
          -0.02606964111328125,
          -0.00794219970703125
         ]
        },
        {
         "fill": "toself",
         "fillcolor": "rgba(0,100,80,0.2)",
         "hoverinfo": "skip",
         "line": {
          "color": "rgba(255,255,255,0)"
         },
         "name": "model.decoder.0.pp_block.attn.balance_factors.grad Std Dev",
         "showlegend": false,
         "type": "scatter",
         "x": [
          1,
          2,
          3,
          4,
          5,
          5,
          4,
          3,
          2,
          1
         ],
         "y": [
          0.029811076819896698,
          0.07617643848061562,
          0.05894214287400246,
          0.02324569970369339,
          0.04914530739188194,
          -0.06502970680594444,
          -0.07538498193025589,
          -0.05637866631150246,
          -0.017674241214990616,
          -0.07392948120832443
         ]
        },
        {
         "line": {
          "width": 2
         },
         "mode": "lines",
         "name": "model.decoder.1.pp_block.post_attention_layernorm.weight.grad",
         "type": "scatter",
         "x": [
          1,
          2,
          3,
          4,
          5
         ],
         "y": [
          0.00021371245384216309,
          0.00009015947580337524,
          0.00008095055818557739,
          0.00010886043310165405,
          0.00004680454730987549
         ]
        },
        {
         "fill": "toself",
         "fillcolor": "rgba(0,100,80,0.2)",
         "hoverinfo": "skip",
         "line": {
          "color": "rgba(255,255,255,0)"
         },
         "name": "model.decoder.1.pp_block.post_attention_layernorm.weight.grad Std Dev",
         "showlegend": false,
         "type": "scatter",
         "x": [
          1,
          2,
          3,
          4,
          5,
          5,
          4,
          3,
          2,
          1
         ],
         "y": [
          0.0005066160229034722,
          0.00036516631371341646,
          0.0003272670728620142,
          0.00039845777791924775,
          0.00034502430935390294,
          -0.00025141521473415196,
          -0.00018073691171593964,
          -0.0001653659564908594,
          -0.00018484736210666597,
          -0.00007919111521914601
         ]
        },
        {
         "line": {
          "width": 2
         },
         "mode": "lines",
         "name": "model.decoder.1.pp_block.attn.balance_factors.grad",
         "type": "scatter",
         "x": [
          1,
          2,
          3,
          4,
          5
         ],
         "y": [
          0.02516937255859375,
          -0.0030670166015625,
          0.01318359375,
          -0.042507171630859375,
          -0.011112213134765625
         ]
        },
        {
         "fill": "toself",
         "fillcolor": "rgba(0,100,80,0.2)",
         "hoverinfo": "skip",
         "line": {
          "color": "rgba(255,255,255,0)"
         },
         "name": "model.decoder.1.pp_block.attn.balance_factors.grad Std Dev",
         "showlegend": false,
         "type": "scatter",
         "x": [
          1,
          2,
          3,
          4,
          5,
          5,
          4,
          3,
          2,
          1
         ],
         "y": [
          0.07515736296772957,
          0.05449230596423149,
          0.06896872445940971,
          -0.012038985267281532,
          0.04510023817420006,
          -0.06732466444373131,
          -0.07297535799443722,
          -0.042601536959409714,
          -0.06062633916735649,
          -0.02481861785054207
         ]
        }
       ],
       "layout": {
        "hovermode": "x unified",
        "legend": {
         "title": {
          "text": "Tensor Names"
         }
        },
        "template": {
         "data": {
          "bar": [
           {
            "error_x": {
             "color": "#2a3f5f"
            },
            "error_y": {
             "color": "#2a3f5f"
            },
            "marker": {
             "line": {
              "color": "#E5ECF6",
              "width": 0.5
             },
             "pattern": {
              "fillmode": "overlay",
              "size": 10,
              "solidity": 0.2
             }
            },
            "type": "bar"
           }
          ],
          "barpolar": [
           {
            "marker": {
             "line": {
              "color": "#E5ECF6",
              "width": 0.5
             },
             "pattern": {
              "fillmode": "overlay",
              "size": 10,
              "solidity": 0.2
             }
            },
            "type": "barpolar"
           }
          ],
          "carpet": [
           {
            "aaxis": {
             "endlinecolor": "#2a3f5f",
             "gridcolor": "white",
             "linecolor": "white",
             "minorgridcolor": "white",
             "startlinecolor": "#2a3f5f"
            },
            "baxis": {
             "endlinecolor": "#2a3f5f",
             "gridcolor": "white",
             "linecolor": "white",
             "minorgridcolor": "white",
             "startlinecolor": "#2a3f5f"
            },
            "type": "carpet"
           }
          ],
          "choropleth": [
           {
            "colorbar": {
             "outlinewidth": 0,
             "ticks": ""
            },
            "type": "choropleth"
           }
          ],
          "contour": [
           {
            "colorbar": {
             "outlinewidth": 0,
             "ticks": ""
            },
            "colorscale": [
             [
              0,
              "#0d0887"
             ],
             [
              0.1111111111111111,
              "#46039f"
             ],
             [
              0.2222222222222222,
              "#7201a8"
             ],
             [
              0.3333333333333333,
              "#9c179e"
             ],
             [
              0.4444444444444444,
              "#bd3786"
             ],
             [
              0.5555555555555556,
              "#d8576b"
             ],
             [
              0.6666666666666666,
              "#ed7953"
             ],
             [
              0.7777777777777778,
              "#fb9f3a"
             ],
             [
              0.8888888888888888,
              "#fdca26"
             ],
             [
              1,
              "#f0f921"
             ]
            ],
            "type": "contour"
           }
          ],
          "contourcarpet": [
           {
            "colorbar": {
             "outlinewidth": 0,
             "ticks": ""
            },
            "type": "contourcarpet"
           }
          ],
          "heatmap": [
           {
            "colorbar": {
             "outlinewidth": 0,
             "ticks": ""
            },
            "colorscale": [
             [
              0,
              "#0d0887"
             ],
             [
              0.1111111111111111,
              "#46039f"
             ],
             [
              0.2222222222222222,
              "#7201a8"
             ],
             [
              0.3333333333333333,
              "#9c179e"
             ],
             [
              0.4444444444444444,
              "#bd3786"
             ],
             [
              0.5555555555555556,
              "#d8576b"
             ],
             [
              0.6666666666666666,
              "#ed7953"
             ],
             [
              0.7777777777777778,
              "#fb9f3a"
             ],
             [
              0.8888888888888888,
              "#fdca26"
             ],
             [
              1,
              "#f0f921"
             ]
            ],
            "type": "heatmap"
           }
          ],
          "heatmapgl": [
           {
            "colorbar": {
             "outlinewidth": 0,
             "ticks": ""
            },
            "colorscale": [
             [
              0,
              "#0d0887"
             ],
             [
              0.1111111111111111,
              "#46039f"
             ],
             [
              0.2222222222222222,
              "#7201a8"
             ],
             [
              0.3333333333333333,
              "#9c179e"
             ],
             [
              0.4444444444444444,
              "#bd3786"
             ],
             [
              0.5555555555555556,
              "#d8576b"
             ],
             [
              0.6666666666666666,
              "#ed7953"
             ],
             [
              0.7777777777777778,
              "#fb9f3a"
             ],
             [
              0.8888888888888888,
              "#fdca26"
             ],
             [
              1,
              "#f0f921"
             ]
            ],
            "type": "heatmapgl"
           }
          ],
          "histogram": [
           {
            "marker": {
             "pattern": {
              "fillmode": "overlay",
              "size": 10,
              "solidity": 0.2
             }
            },
            "type": "histogram"
           }
          ],
          "histogram2d": [
           {
            "colorbar": {
             "outlinewidth": 0,
             "ticks": ""
            },
            "colorscale": [
             [
              0,
              "#0d0887"
             ],
             [
              0.1111111111111111,
              "#46039f"
             ],
             [
              0.2222222222222222,
              "#7201a8"
             ],
             [
              0.3333333333333333,
              "#9c179e"
             ],
             [
              0.4444444444444444,
              "#bd3786"
             ],
             [
              0.5555555555555556,
              "#d8576b"
             ],
             [
              0.6666666666666666,
              "#ed7953"
             ],
             [
              0.7777777777777778,
              "#fb9f3a"
             ],
             [
              0.8888888888888888,
              "#fdca26"
             ],
             [
              1,
              "#f0f921"
             ]
            ],
            "type": "histogram2d"
           }
          ],
          "histogram2dcontour": [
           {
            "colorbar": {
             "outlinewidth": 0,
             "ticks": ""
            },
            "colorscale": [
             [
              0,
              "#0d0887"
             ],
             [
              0.1111111111111111,
              "#46039f"
             ],
             [
              0.2222222222222222,
              "#7201a8"
             ],
             [
              0.3333333333333333,
              "#9c179e"
             ],
             [
              0.4444444444444444,
              "#bd3786"
             ],
             [
              0.5555555555555556,
              "#d8576b"
             ],
             [
              0.6666666666666666,
              "#ed7953"
             ],
             [
              0.7777777777777778,
              "#fb9f3a"
             ],
             [
              0.8888888888888888,
              "#fdca26"
             ],
             [
              1,
              "#f0f921"
             ]
            ],
            "type": "histogram2dcontour"
           }
          ],
          "mesh3d": [
           {
            "colorbar": {
             "outlinewidth": 0,
             "ticks": ""
            },
            "type": "mesh3d"
           }
          ],
          "parcoords": [
           {
            "line": {
             "colorbar": {
              "outlinewidth": 0,
              "ticks": ""
             }
            },
            "type": "parcoords"
           }
          ],
          "pie": [
           {
            "automargin": true,
            "type": "pie"
           }
          ],
          "scatter": [
           {
            "fillpattern": {
             "fillmode": "overlay",
             "size": 10,
             "solidity": 0.2
            },
            "type": "scatter"
           }
          ],
          "scatter3d": [
           {
            "line": {
             "colorbar": {
              "outlinewidth": 0,
              "ticks": ""
             }
            },
            "marker": {
             "colorbar": {
              "outlinewidth": 0,
              "ticks": ""
             }
            },
            "type": "scatter3d"
           }
          ],
          "scattercarpet": [
           {
            "marker": {
             "colorbar": {
              "outlinewidth": 0,
              "ticks": ""
             }
            },
            "type": "scattercarpet"
           }
          ],
          "scattergeo": [
           {
            "marker": {
             "colorbar": {
              "outlinewidth": 0,
              "ticks": ""
             }
            },
            "type": "scattergeo"
           }
          ],
          "scattergl": [
           {
            "marker": {
             "colorbar": {
              "outlinewidth": 0,
              "ticks": ""
             }
            },
            "type": "scattergl"
           }
          ],
          "scattermapbox": [
           {
            "marker": {
             "colorbar": {
              "outlinewidth": 0,
              "ticks": ""
             }
            },
            "type": "scattermapbox"
           }
          ],
          "scatterpolar": [
           {
            "marker": {
             "colorbar": {
              "outlinewidth": 0,
              "ticks": ""
             }
            },
            "type": "scatterpolar"
           }
          ],
          "scatterpolargl": [
           {
            "marker": {
             "colorbar": {
              "outlinewidth": 0,
              "ticks": ""
             }
            },
            "type": "scatterpolargl"
           }
          ],
          "scatterternary": [
           {
            "marker": {
             "colorbar": {
              "outlinewidth": 0,
              "ticks": ""
             }
            },
            "type": "scatterternary"
           }
          ],
          "surface": [
           {
            "colorbar": {
             "outlinewidth": 0,
             "ticks": ""
            },
            "colorscale": [
             [
              0,
              "#0d0887"
             ],
             [
              0.1111111111111111,
              "#46039f"
             ],
             [
              0.2222222222222222,
              "#7201a8"
             ],
             [
              0.3333333333333333,
              "#9c179e"
             ],
             [
              0.4444444444444444,
              "#bd3786"
             ],
             [
              0.5555555555555556,
              "#d8576b"
             ],
             [
              0.6666666666666666,
              "#ed7953"
             ],
             [
              0.7777777777777778,
              "#fb9f3a"
             ],
             [
              0.8888888888888888,
              "#fdca26"
             ],
             [
              1,
              "#f0f921"
             ]
            ],
            "type": "surface"
           }
          ],
          "table": [
           {
            "cells": {
             "fill": {
              "color": "#EBF0F8"
             },
             "line": {
              "color": "white"
             }
            },
            "header": {
             "fill": {
              "color": "#C8D4E3"
             },
             "line": {
              "color": "white"
             }
            },
            "type": "table"
           }
          ]
         },
         "layout": {
          "annotationdefaults": {
           "arrowcolor": "#2a3f5f",
           "arrowhead": 0,
           "arrowwidth": 1
          },
          "autotypenumbers": "strict",
          "coloraxis": {
           "colorbar": {
            "outlinewidth": 0,
            "ticks": ""
           }
          },
          "colorscale": {
           "diverging": [
            [
             0,
             "#8e0152"
            ],
            [
             0.1,
             "#c51b7d"
            ],
            [
             0.2,
             "#de77ae"
            ],
            [
             0.3,
             "#f1b6da"
            ],
            [
             0.4,
             "#fde0ef"
            ],
            [
             0.5,
             "#f7f7f7"
            ],
            [
             0.6,
             "#e6f5d0"
            ],
            [
             0.7,
             "#b8e186"
            ],
            [
             0.8,
             "#7fbc41"
            ],
            [
             0.9,
             "#4d9221"
            ],
            [
             1,
             "#276419"
            ]
           ],
           "sequential": [
            [
             0,
             "#0d0887"
            ],
            [
             0.1111111111111111,
             "#46039f"
            ],
            [
             0.2222222222222222,
             "#7201a8"
            ],
            [
             0.3333333333333333,
             "#9c179e"
            ],
            [
             0.4444444444444444,
             "#bd3786"
            ],
            [
             0.5555555555555556,
             "#d8576b"
            ],
            [
             0.6666666666666666,
             "#ed7953"
            ],
            [
             0.7777777777777778,
             "#fb9f3a"
            ],
            [
             0.8888888888888888,
             "#fdca26"
            ],
            [
             1,
             "#f0f921"
            ]
           ],
           "sequentialminus": [
            [
             0,
             "#0d0887"
            ],
            [
             0.1111111111111111,
             "#46039f"
            ],
            [
             0.2222222222222222,
             "#7201a8"
            ],
            [
             0.3333333333333333,
             "#9c179e"
            ],
            [
             0.4444444444444444,
             "#bd3786"
            ],
            [
             0.5555555555555556,
             "#d8576b"
            ],
            [
             0.6666666666666666,
             "#ed7953"
            ],
            [
             0.7777777777777778,
             "#fb9f3a"
            ],
            [
             0.8888888888888888,
             "#fdca26"
            ],
            [
             1,
             "#f0f921"
            ]
           ]
          },
          "colorway": [
           "#636efa",
           "#EF553B",
           "#00cc96",
           "#ab63fa",
           "#FFA15A",
           "#19d3f3",
           "#FF6692",
           "#B6E880",
           "#FF97FF",
           "#FECB52"
          ],
          "font": {
           "color": "#2a3f5f"
          },
          "geo": {
           "bgcolor": "white",
           "lakecolor": "white",
           "landcolor": "#E5ECF6",
           "showlakes": true,
           "showland": true,
           "subunitcolor": "white"
          },
          "hoverlabel": {
           "align": "left"
          },
          "hovermode": "closest",
          "mapbox": {
           "style": "light"
          },
          "paper_bgcolor": "white",
          "plot_bgcolor": "#E5ECF6",
          "polar": {
           "angularaxis": {
            "gridcolor": "white",
            "linecolor": "white",
            "ticks": ""
           },
           "bgcolor": "#E5ECF6",
           "radialaxis": {
            "gridcolor": "white",
            "linecolor": "white",
            "ticks": ""
           }
          },
          "scene": {
           "xaxis": {
            "backgroundcolor": "#E5ECF6",
            "gridcolor": "white",
            "gridwidth": 2,
            "linecolor": "white",
            "showbackground": true,
            "ticks": "",
            "zerolinecolor": "white"
           },
           "yaxis": {
            "backgroundcolor": "#E5ECF6",
            "gridcolor": "white",
            "gridwidth": 2,
            "linecolor": "white",
            "showbackground": true,
            "ticks": "",
            "zerolinecolor": "white"
           },
           "zaxis": {
            "backgroundcolor": "#E5ECF6",
            "gridcolor": "white",
            "gridwidth": 2,
            "linecolor": "white",
            "showbackground": true,
            "ticks": "",
            "zerolinecolor": "white"
           }
          },
          "shapedefaults": {
           "line": {
            "color": "#2a3f5f"
           }
          },
          "ternary": {
           "aaxis": {
            "gridcolor": "white",
            "linecolor": "white",
            "ticks": ""
           },
           "baxis": {
            "gridcolor": "white",
            "linecolor": "white",
            "ticks": ""
           },
           "bgcolor": "#E5ECF6",
           "caxis": {
            "gridcolor": "white",
            "linecolor": "white",
            "ticks": ""
           }
          },
          "title": {
           "x": 0.05
          },
          "xaxis": {
           "automargin": true,
           "gridcolor": "white",
           "linecolor": "white",
           "ticks": "",
           "title": {
            "standoff": 15
           },
           "zerolinecolor": "white",
           "zerolinewidth": 2
          },
          "yaxis": {
           "automargin": true,
           "gridcolor": "white",
           "linecolor": "white",
           "ticks": "",
           "title": {
            "standoff": 15
           },
           "zerolinecolor": "white",
           "zerolinewidth": 2
          }
         }
        },
        "title": {
         "text": "Gradient Means and Variances Across Training Steps"
        },
        "xaxis": {
         "anchor": "y",
         "domain": [
          0,
          1
         ],
         "title": {
          "text": "Training Step"
         }
        },
        "yaxis": {
         "anchor": "x",
         "domain": [
          0,
          1
         ],
         "title": {
          "text": "Mean of Gradients"
         }
        }
       }
      },
      "text/html": [
       "<div>                            <div id=\"739e05f2-ae6f-4e54-b09e-3d4c4f43fc29\" class=\"plotly-graph-div\" style=\"height:525px; width:100%;\"></div>            <script type=\"text/javascript\">                require([\"plotly\"], function(Plotly) {                    window.PLOTLYENV=window.PLOTLYENV || {};                                    if (document.getElementById(\"739e05f2-ae6f-4e54-b09e-3d4c4f43fc29\")) {                    Plotly.newPlot(                        \"739e05f2-ae6f-4e54-b09e-3d4c4f43fc29\",                        [{\"line\":{\"width\":2},\"mode\":\"lines\",\"name\":\"model.final_layer_norm.pp_block.weight.grad\",\"x\":[1,2,3,4,5],\"y\":[0.002198129892349243,0.0021066665649414062,0.0008701086044311523,0.0015106797218322754,-0.00011205673217773438],\"type\":\"scatter\"},{\"fill\":\"toself\",\"fillcolor\":\"rgba(0,100,80,0.2)\",\"hoverinfo\":\"skip\",\"line\":{\"color\":\"rgba(255,255,255,0)\"},\"name\":\"model.final_layer_norm.pp_block.weight.grad Std Dev\",\"showlegend\":false,\"x\":[1,2,3,4,5,5,4,3,2,1],\"y\":[0.007082977797836065,0.00813433900475502,0.005468044430017471,0.004966680658981204,0.0032637217082083225,-0.0034878351725637913,-0.0019453212153166533,-0.0037278272211551666,-0.003921005874872208,-0.002686718013137579],\"type\":\"scatter\"},{\"line\":{\"width\":2},\"mode\":\"lines\",\"name\":\"model.decoder.1.pp_block.input_layernorm.weight.grad\",\"x\":[1,2,3,4,5],\"y\":[-7.554888725280762e-05,1.2159347534179688e-05,-6.566941738128662e-05,3.664568066596985e-05,2.5913119316101074e-05],\"type\":\"scatter\"},{\"fill\":\"toself\",\"fillcolor\":\"rgba(0,100,80,0.2)\",\"hoverinfo\":\"skip\",\"line\":{\"color\":\"rgba(255,255,255,0)\"},\"name\":\"model.decoder.1.pp_block.input_layernorm.weight.grad Std Dev\",\"showlegend\":false,\"x\":[1,2,3,4,5,5,4,3,2,1],\"y\":[0.00027068256167694926,0.00043601234210655093,0.0002786800905596465,0.00038932161987759173,0.00025601279048714787,-0.00020418655185494572,-0.00031603025854565203,-0.00041001892532221973,-0.00041169364703819156,-0.0004217803361825645],\"type\":\"scatter\"},{\"line\":{\"width\":2},\"mode\":\"lines\",\"name\":\"model.decoder.1.pp_block.mlp.gate_up_proj.weight.grad\",\"x\":[1,2,3,4,5],\"y\":[-3.262020072725136e-06,-2.9552000341936946e-05,-6.2779618019703776e-06,-3.9994483813643456e-07,-2.093311195494607e-07],\"type\":\"scatter\"},{\"fill\":\"toself\",\"fillcolor\":\"rgba(0,100,80,0.2)\",\"hoverinfo\":\"skip\",\"line\":{\"color\":\"rgba(255,255,255,0)\"},\"name\":\"model.decoder.1.pp_block.mlp.gate_up_proj.weight.grad Std Dev\",\"showlegend\":false,\"x\":[1,2,3,4,5,5,4,3,2,1],\"y\":[0.0005418256578195724,0.000466384255560115,0.0005196819802222308,0.00043358420953154564,0.00045861526268708985,-0.0004590339249261888,-0.0004343840992078185,-0.0005322379038261715,-0.0005254882562439889,-0.0005483496979650226],\"type\":\"scatter\"},{\"line\":{\"width\":2},\"mode\":\"lines\",\"name\":\"model.decoder.1.pp_block.attn.qkv_proj.weight.grad\",\"x\":[1,2,3,4,5],\"y\":[-1.9893303033313714e-05,-7.509818533435464e-05,-8.135275857057422e-05,2.751210195128806e-05,7.729327990091406e-06],\"type\":\"scatter\"},{\"fill\":\"toself\",\"fillcolor\":\"rgba(0,100,80,0.2)\",\"hoverinfo\":\"skip\",\"line\":{\"color\":\"rgba(255,255,255,0)\"},\"name\":\"model.decoder.1.pp_block.attn.qkv_proj.weight.grad Std Dev\",\"showlegend\":false,\"x\":[1,2,3,4,5,5,4,3,2,1],\"y\":[0.0013296976485435152,0.001402517140377313,0.001018972383462824,0.0009958900809579063,0.0007986696346051758,-0.000783210978624993,-0.0009408658770553302,-0.0011816779006039724,-0.0015527135110460222,-0.0013694842546101427],\"type\":\"scatter\"},{\"line\":{\"width\":2},\"mode\":\"lines\",\"name\":\"model.decoder.0.pp_block.attn.qkv_proj.weight.grad\",\"x\":[1,2,3,4,5],\"y\":[-9.807215974433348e-05,0.00012267599231563509,5.988371412968263e-05,-2.36338146351045e-05,3.453333556535654e-05],\"type\":\"scatter\"},{\"fill\":\"toself\",\"fillcolor\":\"rgba(0,100,80,0.2)\",\"hoverinfo\":\"skip\",\"line\":{\"color\":\"rgba(255,255,255,0)\"},\"name\":\"model.decoder.0.pp_block.attn.qkv_proj.weight.grad Std Dev\",\"showlegend\":false,\"x\":[1,2,3,4,5,5,4,3,2,1],\"y\":[0.0013592619870905764,0.001465613575419411,0.001127638177422341,0.0010535859128140146,0.001023725500999717,-0.000954658829869004,-0.0011008535420842236,-0.0010078707491629757,-0.001220261590788141,-0.0015554063065792434],\"type\":\"scatter\"},{\"line\":{\"width\":2},\"mode\":\"lines\",\"name\":\"model.decoder.0.pp_block.post_attention_layernorm.weight.grad\",\"x\":[1,2,3,4,5],\"y\":[0.0001437664031982422,0.00018288195133209229,-7.216259837150574e-05,-0.00018101930618286133,0.00018277764320373535],\"type\":\"scatter\"},{\"fill\":\"toself\",\"fillcolor\":\"rgba(0,100,80,0.2)\",\"hoverinfo\":\"skip\",\"line\":{\"color\":\"rgba(255,255,255,0)\"},\"name\":\"model.decoder.0.pp_block.post_attention_layernorm.weight.grad Std Dev\",\"showlegend\":false,\"x\":[1,2,3,4,5,5,4,3,2,1],\"y\":[0.0004035377933178097,0.0004997444921173155,0.0001882568176370114,7.293169619515538e-05,0.0004796491120941937,-0.000114093825686723,-0.00043497030856087804,-0.0003325820143800229,-0.00013398058945313096,-0.00011600498692132533],\"type\":\"scatter\"},{\"line\":{\"width\":2},\"mode\":\"lines\",\"name\":\"model.decoder.0.pp_block.input_layernorm.weight.grad\",\"x\":[1,2,3,4,5],\"y\":[7.13123008608818e-05,-3.910064697265625e-05,-2.9280781745910645e-06,8.285790681838989e-05,1.8924474716186523e-05],\"type\":\"scatter\"},{\"fill\":\"toself\",\"fillcolor\":\"rgba(0,100,80,0.2)\",\"hoverinfo\":\"skip\",\"line\":{\"color\":\"rgba(255,255,255,0)\"},\"name\":\"model.decoder.0.pp_block.input_layernorm.weight.grad Std Dev\",\"showlegend\":false,\"x\":[1,2,3,4,5,5,4,3,2,1],\"y\":[0.0005026485305279493,0.00027448905166238546,0.00023909594165161252,0.0003632560546975583,0.0002120095450663939,-0.00017416059563402086,-0.0001975402410607785,-0.00024495209800079465,-0.00035269034560769796,-0.0003600239288061857],\"type\":\"scatter\"},{\"line\":{\"width\":2},\"mode\":\"lines\",\"name\":\"model.decoder.0.pp_block.mlp.down_proj.weight.grad\",\"x\":[1,2,3,4,5],\"y\":[-3.5567820305004716e-05,-0.00010004517389461398,9.103445336222649e-06,1.52749998960644e-06,2.1241081412881613e-05],\"type\":\"scatter\"},{\"fill\":\"toself\",\"fillcolor\":\"rgba(0,100,80,0.2)\",\"hoverinfo\":\"skip\",\"line\":{\"color\":\"rgba(255,255,255,0)\"},\"name\":\"model.decoder.0.pp_block.mlp.down_proj.weight.grad Std Dev\",\"showlegend\":false,\"x\":[1,2,3,4,5,5,4,3,2,1],\"y\":[0.0010479049233254045,0.0011488441959954798,0.001135421684011817,0.0010538919741520658,0.0010336725390516222,-0.000991190376225859,-0.001050836974172853,-0.0011172147933393717,-0.0013489345437847078,-0.001119040563935414],\"type\":\"scatter\"},{\"line\":{\"width\":2},\"mode\":\"lines\",\"name\":\"model.decoder.1.pp_block.mlp.down_proj.weight.grad\",\"x\":[1,2,3,4,5],\"y\":[2.0260762539692223e-05,2.4348206352442503e-05,3.906200436176732e-05,-1.029292616294697e-05,-2.1571177057921886e-06],\"type\":\"scatter\"},{\"fill\":\"toself\",\"fillcolor\":\"rgba(0,100,80,0.2)\",\"hoverinfo\":\"skip\",\"line\":{\"color\":\"rgba(255,255,255,0)\"},\"name\":\"model.decoder.1.pp_block.mlp.down_proj.weight.grad Std Dev\",\"showlegend\":false,\"x\":[1,2,3,4,5,5,4,3,2,1],\"y\":[0.001155012592789717,0.0010924921953119338,0.0011122663345304318,0.0008695767537574284,0.0008067959570325911,-0.0008111101924441755,-0.0008901626060833223,-0.0010341423258068971,-0.0010437957826070487,-0.0011144910677103326],\"type\":\"scatter\"},{\"line\":{\"width\":2},\"mode\":\"lines\",\"name\":\"model.decoder.1.pp_block.attn.o_proj.weight.grad\",\"x\":[1,2,3,4,5],\"y\":[0.00040972232818603516,-0.000264984555542469,6.173807196319103e-05,-0.0005156630650162697,-0.00019942596554756165],\"type\":\"scatter\"},{\"fill\":\"toself\",\"fillcolor\":\"rgba(0,100,80,0.2)\",\"hoverinfo\":\"skip\",\"line\":{\"color\":\"rgba(255,255,255,0)\"},\"name\":\"model.decoder.1.pp_block.attn.o_proj.weight.grad Std Dev\",\"showlegend\":false,\"x\":[1,2,3,4,5,5,4,3,2,1],\"y\":[0.0046989344991743565,0.0036927000619471073,0.003142212750390172,0.0027088948991149664,0.0026285804342478514,-0.0030274323653429747,-0.0037402210291475058,-0.00301873660646379,-0.004222669173032045,-0.003879489842802286],\"type\":\"scatter\"},{\"line\":{\"width\":2},\"mode\":\"lines\",\"name\":\"model.token_position_embeddings.pp_block.token_embedding.weight.grad\",\"x\":[1,2,3,4,5],\"y\":[-8.04212845650909e-07,-2.1271421246638056e-06,2.4151413526851684e-06,6.843426376690331e-07,8.726783562451601e-08],\"type\":\"scatter\"},{\"fill\":\"toself\",\"fillcolor\":\"rgba(0,100,80,0.2)\",\"hoverinfo\":\"skip\",\"line\":{\"color\":\"rgba(255,255,255,0)\"},\"name\":\"model.token_position_embeddings.pp_block.token_embedding.weight.grad Std Dev\",\"showlegend\":false,\"x\":[1,2,3,4,5,5,4,3,2,1],\"y\":[0.0008795044692533338,0.0008495641509398411,0.000796735334006371,0.000767548156261455,0.0007648306927876547,-0.0007646561571164057,-0.0007661794709861169,-0.0007919050513010006,-0.0008538184351891687,-0.0008811128949446356],\"type\":\"scatter\"},{\"line\":{\"width\":2},\"mode\":\"lines\",\"name\":\"model.lm_head.pp_block.weight.grad\",\"x\":[1,2,3,4,5],\"y\":[1.2801820048480295e-07,-3.8747495523239195e-07,2.449887404054607e-07,-3.7114006090632756e-07,3.2651161063768086e-07],\"type\":\"scatter\"},{\"fill\":\"toself\",\"fillcolor\":\"rgba(0,100,80,0.2)\",\"hoverinfo\":\"skip\",\"line\":{\"color\":\"rgba(255,255,255,0)\"},\"name\":\"model.lm_head.pp_block.weight.grad Std Dev\",\"showlegend\":false,\"x\":[1,2,3,4,5,5,4,3,2,1],\"y\":[0.0008499983428009728,0.0008608746127549693,0.0008068004317181021,0.0007549875219297064,0.0007691299209113822,-0.0007684768976901069,-0.0007557298020515191,-0.0008063104542372912,-0.0008616495626654341,-0.0008497423064000031],\"type\":\"scatter\"},{\"line\":{\"width\":2},\"mode\":\"lines\",\"name\":\"model.decoder.0.pp_block.attn.o_proj.weight.grad\",\"x\":[1,2,3,4,5],\"y\":[0.0004978431388735771,0.0004920652136206627,6.26780092716217e-06,-0.0003082635812461376,6.58784992992878e-05],\"type\":\"scatter\"},{\"fill\":\"toself\",\"fillcolor\":\"rgba(0,100,80,0.2)\",\"hoverinfo\":\"skip\",\"line\":{\"color\":\"rgba(255,255,255,0)\"},\"name\":\"model.decoder.0.pp_block.attn.o_proj.weight.grad Std Dev\",\"showlegend\":false,\"x\":[1,2,3,4,5,5,4,3,2,1],\"y\":[0.003778938204050064,0.004228800069540739,0.0030188877135515213,0.0025075047742575407,0.0024150535464286804,-0.002283296547830105,-0.003124031936749816,-0.003006352111697197,-0.0032446696422994137,-0.00278325192630291],\"type\":\"scatter\"},{\"line\":{\"width\":2},\"mode\":\"lines\",\"name\":\"model.decoder.0.pp_block.mlp.gate_up_proj.weight.grad\",\"x\":[1,2,3,4,5],\"y\":[-1.92889419849962e-05,4.385730790090747e-06,-5.527399480342865e-07,-7.215039659058675e-07,8.949356924858876e-06],\"type\":\"scatter\"},{\"fill\":\"toself\",\"fillcolor\":\"rgba(0,100,80,0.2)\",\"hoverinfo\":\"skip\",\"line\":{\"color\":\"rgba(255,255,255,0)\"},\"name\":\"model.decoder.0.pp_block.mlp.gate_up_proj.weight.grad Std Dev\",\"showlegend\":false,\"x\":[1,2,3,4,5,5,4,3,2,1],\"y\":[0.0005691324186045676,0.0005819777306896867,0.0005219283048063517,0.000508927778355428,0.0005151660170668038,-0.000497267303217086,-0.0005103707862872398,-0.0005230337847024202,-0.0005732062691095052,-0.00060771030257456],\"type\":\"scatter\"},{\"line\":{\"width\":2},\"mode\":\"lines\",\"name\":\"model.decoder.0.pp_block.attn.balance_factors.grad\",\"x\":[1,2,3,4,5],\"y\":[-0.022059202194213867,0.0292510986328125,0.00128173828125,-0.02606964111328125,-0.00794219970703125],\"type\":\"scatter\"},{\"fill\":\"toself\",\"fillcolor\":\"rgba(0,100,80,0.2)\",\"hoverinfo\":\"skip\",\"line\":{\"color\":\"rgba(255,255,255,0)\"},\"name\":\"model.decoder.0.pp_block.attn.balance_factors.grad Std Dev\",\"showlegend\":false,\"x\":[1,2,3,4,5,5,4,3,2,1],\"y\":[0.029811076819896698,0.07617643848061562,0.05894214287400246,0.02324569970369339,0.04914530739188194,-0.06502970680594444,-0.07538498193025589,-0.05637866631150246,-0.017674241214990616,-0.07392948120832443],\"type\":\"scatter\"},{\"line\":{\"width\":2},\"mode\":\"lines\",\"name\":\"model.decoder.1.pp_block.post_attention_layernorm.weight.grad\",\"x\":[1,2,3,4,5],\"y\":[0.00021371245384216309,9.015947580337524e-05,8.095055818557739e-05,0.00010886043310165405,4.680454730987549e-05],\"type\":\"scatter\"},{\"fill\":\"toself\",\"fillcolor\":\"rgba(0,100,80,0.2)\",\"hoverinfo\":\"skip\",\"line\":{\"color\":\"rgba(255,255,255,0)\"},\"name\":\"model.decoder.1.pp_block.post_attention_layernorm.weight.grad Std Dev\",\"showlegend\":false,\"x\":[1,2,3,4,5,5,4,3,2,1],\"y\":[0.0005066160229034722,0.00036516631371341646,0.0003272670728620142,0.00039845777791924775,0.00034502430935390294,-0.00025141521473415196,-0.00018073691171593964,-0.0001653659564908594,-0.00018484736210666597,-7.919111521914601e-05],\"type\":\"scatter\"},{\"line\":{\"width\":2},\"mode\":\"lines\",\"name\":\"model.decoder.1.pp_block.attn.balance_factors.grad\",\"x\":[1,2,3,4,5],\"y\":[0.02516937255859375,-0.0030670166015625,0.01318359375,-0.042507171630859375,-0.011112213134765625],\"type\":\"scatter\"},{\"fill\":\"toself\",\"fillcolor\":\"rgba(0,100,80,0.2)\",\"hoverinfo\":\"skip\",\"line\":{\"color\":\"rgba(255,255,255,0)\"},\"name\":\"model.decoder.1.pp_block.attn.balance_factors.grad Std Dev\",\"showlegend\":false,\"x\":[1,2,3,4,5,5,4,3,2,1],\"y\":[0.07515736296772957,0.05449230596423149,0.06896872445940971,-0.012038985267281532,0.04510023817420006,-0.06732466444373131,-0.07297535799443722,-0.042601536959409714,-0.06062633916735649,-0.02481861785054207],\"type\":\"scatter\"}],                        {\"hovermode\":\"x unified\",\"legend\":{\"title\":{\"text\":\"Tensor Names\"}},\"template\":{\"data\":{\"barpolar\":[{\"marker\":{\"line\":{\"color\":\"#E5ECF6\",\"width\":0.5},\"pattern\":{\"fillmode\":\"overlay\",\"size\":10,\"solidity\":0.2}},\"type\":\"barpolar\"}],\"bar\":[{\"error_x\":{\"color\":\"#2a3f5f\"},\"error_y\":{\"color\":\"#2a3f5f\"},\"marker\":{\"line\":{\"color\":\"#E5ECF6\",\"width\":0.5},\"pattern\":{\"fillmode\":\"overlay\",\"size\":10,\"solidity\":0.2}},\"type\":\"bar\"}],\"carpet\":[{\"aaxis\":{\"endlinecolor\":\"#2a3f5f\",\"gridcolor\":\"white\",\"linecolor\":\"white\",\"minorgridcolor\":\"white\",\"startlinecolor\":\"#2a3f5f\"},\"baxis\":{\"endlinecolor\":\"#2a3f5f\",\"gridcolor\":\"white\",\"linecolor\":\"white\",\"minorgridcolor\":\"white\",\"startlinecolor\":\"#2a3f5f\"},\"type\":\"carpet\"}],\"choropleth\":[{\"colorbar\":{\"outlinewidth\":0,\"ticks\":\"\"},\"type\":\"choropleth\"}],\"contourcarpet\":[{\"colorbar\":{\"outlinewidth\":0,\"ticks\":\"\"},\"type\":\"contourcarpet\"}],\"contour\":[{\"colorbar\":{\"outlinewidth\":0,\"ticks\":\"\"},\"colorscale\":[[0.0,\"#0d0887\"],[0.1111111111111111,\"#46039f\"],[0.2222222222222222,\"#7201a8\"],[0.3333333333333333,\"#9c179e\"],[0.4444444444444444,\"#bd3786\"],[0.5555555555555556,\"#d8576b\"],[0.6666666666666666,\"#ed7953\"],[0.7777777777777778,\"#fb9f3a\"],[0.8888888888888888,\"#fdca26\"],[1.0,\"#f0f921\"]],\"type\":\"contour\"}],\"heatmapgl\":[{\"colorbar\":{\"outlinewidth\":0,\"ticks\":\"\"},\"colorscale\":[[0.0,\"#0d0887\"],[0.1111111111111111,\"#46039f\"],[0.2222222222222222,\"#7201a8\"],[0.3333333333333333,\"#9c179e\"],[0.4444444444444444,\"#bd3786\"],[0.5555555555555556,\"#d8576b\"],[0.6666666666666666,\"#ed7953\"],[0.7777777777777778,\"#fb9f3a\"],[0.8888888888888888,\"#fdca26\"],[1.0,\"#f0f921\"]],\"type\":\"heatmapgl\"}],\"heatmap\":[{\"colorbar\":{\"outlinewidth\":0,\"ticks\":\"\"},\"colorscale\":[[0.0,\"#0d0887\"],[0.1111111111111111,\"#46039f\"],[0.2222222222222222,\"#7201a8\"],[0.3333333333333333,\"#9c179e\"],[0.4444444444444444,\"#bd3786\"],[0.5555555555555556,\"#d8576b\"],[0.6666666666666666,\"#ed7953\"],[0.7777777777777778,\"#fb9f3a\"],[0.8888888888888888,\"#fdca26\"],[1.0,\"#f0f921\"]],\"type\":\"heatmap\"}],\"histogram2dcontour\":[{\"colorbar\":{\"outlinewidth\":0,\"ticks\":\"\"},\"colorscale\":[[0.0,\"#0d0887\"],[0.1111111111111111,\"#46039f\"],[0.2222222222222222,\"#7201a8\"],[0.3333333333333333,\"#9c179e\"],[0.4444444444444444,\"#bd3786\"],[0.5555555555555556,\"#d8576b\"],[0.6666666666666666,\"#ed7953\"],[0.7777777777777778,\"#fb9f3a\"],[0.8888888888888888,\"#fdca26\"],[1.0,\"#f0f921\"]],\"type\":\"histogram2dcontour\"}],\"histogram2d\":[{\"colorbar\":{\"outlinewidth\":0,\"ticks\":\"\"},\"colorscale\":[[0.0,\"#0d0887\"],[0.1111111111111111,\"#46039f\"],[0.2222222222222222,\"#7201a8\"],[0.3333333333333333,\"#9c179e\"],[0.4444444444444444,\"#bd3786\"],[0.5555555555555556,\"#d8576b\"],[0.6666666666666666,\"#ed7953\"],[0.7777777777777778,\"#fb9f3a\"],[0.8888888888888888,\"#fdca26\"],[1.0,\"#f0f921\"]],\"type\":\"histogram2d\"}],\"histogram\":[{\"marker\":{\"pattern\":{\"fillmode\":\"overlay\",\"size\":10,\"solidity\":0.2}},\"type\":\"histogram\"}],\"mesh3d\":[{\"colorbar\":{\"outlinewidth\":0,\"ticks\":\"\"},\"type\":\"mesh3d\"}],\"parcoords\":[{\"line\":{\"colorbar\":{\"outlinewidth\":0,\"ticks\":\"\"}},\"type\":\"parcoords\"}],\"pie\":[{\"automargin\":true,\"type\":\"pie\"}],\"scatter3d\":[{\"line\":{\"colorbar\":{\"outlinewidth\":0,\"ticks\":\"\"}},\"marker\":{\"colorbar\":{\"outlinewidth\":0,\"ticks\":\"\"}},\"type\":\"scatter3d\"}],\"scattercarpet\":[{\"marker\":{\"colorbar\":{\"outlinewidth\":0,\"ticks\":\"\"}},\"type\":\"scattercarpet\"}],\"scattergeo\":[{\"marker\":{\"colorbar\":{\"outlinewidth\":0,\"ticks\":\"\"}},\"type\":\"scattergeo\"}],\"scattergl\":[{\"marker\":{\"colorbar\":{\"outlinewidth\":0,\"ticks\":\"\"}},\"type\":\"scattergl\"}],\"scattermapbox\":[{\"marker\":{\"colorbar\":{\"outlinewidth\":0,\"ticks\":\"\"}},\"type\":\"scattermapbox\"}],\"scatterpolargl\":[{\"marker\":{\"colorbar\":{\"outlinewidth\":0,\"ticks\":\"\"}},\"type\":\"scatterpolargl\"}],\"scatterpolar\":[{\"marker\":{\"colorbar\":{\"outlinewidth\":0,\"ticks\":\"\"}},\"type\":\"scatterpolar\"}],\"scatter\":[{\"fillpattern\":{\"fillmode\":\"overlay\",\"size\":10,\"solidity\":0.2},\"type\":\"scatter\"}],\"scatterternary\":[{\"marker\":{\"colorbar\":{\"outlinewidth\":0,\"ticks\":\"\"}},\"type\":\"scatterternary\"}],\"surface\":[{\"colorbar\":{\"outlinewidth\":0,\"ticks\":\"\"},\"colorscale\":[[0.0,\"#0d0887\"],[0.1111111111111111,\"#46039f\"],[0.2222222222222222,\"#7201a8\"],[0.3333333333333333,\"#9c179e\"],[0.4444444444444444,\"#bd3786\"],[0.5555555555555556,\"#d8576b\"],[0.6666666666666666,\"#ed7953\"],[0.7777777777777778,\"#fb9f3a\"],[0.8888888888888888,\"#fdca26\"],[1.0,\"#f0f921\"]],\"type\":\"surface\"}],\"table\":[{\"cells\":{\"fill\":{\"color\":\"#EBF0F8\"},\"line\":{\"color\":\"white\"}},\"header\":{\"fill\":{\"color\":\"#C8D4E3\"},\"line\":{\"color\":\"white\"}},\"type\":\"table\"}]},\"layout\":{\"annotationdefaults\":{\"arrowcolor\":\"#2a3f5f\",\"arrowhead\":0,\"arrowwidth\":1},\"autotypenumbers\":\"strict\",\"coloraxis\":{\"colorbar\":{\"outlinewidth\":0,\"ticks\":\"\"}},\"colorscale\":{\"diverging\":[[0,\"#8e0152\"],[0.1,\"#c51b7d\"],[0.2,\"#de77ae\"],[0.3,\"#f1b6da\"],[0.4,\"#fde0ef\"],[0.5,\"#f7f7f7\"],[0.6,\"#e6f5d0\"],[0.7,\"#b8e186\"],[0.8,\"#7fbc41\"],[0.9,\"#4d9221\"],[1,\"#276419\"]],\"sequential\":[[0.0,\"#0d0887\"],[0.1111111111111111,\"#46039f\"],[0.2222222222222222,\"#7201a8\"],[0.3333333333333333,\"#9c179e\"],[0.4444444444444444,\"#bd3786\"],[0.5555555555555556,\"#d8576b\"],[0.6666666666666666,\"#ed7953\"],[0.7777777777777778,\"#fb9f3a\"],[0.8888888888888888,\"#fdca26\"],[1.0,\"#f0f921\"]],\"sequentialminus\":[[0.0,\"#0d0887\"],[0.1111111111111111,\"#46039f\"],[0.2222222222222222,\"#7201a8\"],[0.3333333333333333,\"#9c179e\"],[0.4444444444444444,\"#bd3786\"],[0.5555555555555556,\"#d8576b\"],[0.6666666666666666,\"#ed7953\"],[0.7777777777777778,\"#fb9f3a\"],[0.8888888888888888,\"#fdca26\"],[1.0,\"#f0f921\"]]},\"colorway\":[\"#636efa\",\"#EF553B\",\"#00cc96\",\"#ab63fa\",\"#FFA15A\",\"#19d3f3\",\"#FF6692\",\"#B6E880\",\"#FF97FF\",\"#FECB52\"],\"font\":{\"color\":\"#2a3f5f\"},\"geo\":{\"bgcolor\":\"white\",\"lakecolor\":\"white\",\"landcolor\":\"#E5ECF6\",\"showlakes\":true,\"showland\":true,\"subunitcolor\":\"white\"},\"hoverlabel\":{\"align\":\"left\"},\"hovermode\":\"closest\",\"mapbox\":{\"style\":\"light\"},\"paper_bgcolor\":\"white\",\"plot_bgcolor\":\"#E5ECF6\",\"polar\":{\"angularaxis\":{\"gridcolor\":\"white\",\"linecolor\":\"white\",\"ticks\":\"\"},\"bgcolor\":\"#E5ECF6\",\"radialaxis\":{\"gridcolor\":\"white\",\"linecolor\":\"white\",\"ticks\":\"\"}},\"scene\":{\"xaxis\":{\"backgroundcolor\":\"#E5ECF6\",\"gridcolor\":\"white\",\"gridwidth\":2,\"linecolor\":\"white\",\"showbackground\":true,\"ticks\":\"\",\"zerolinecolor\":\"white\"},\"yaxis\":{\"backgroundcolor\":\"#E5ECF6\",\"gridcolor\":\"white\",\"gridwidth\":2,\"linecolor\":\"white\",\"showbackground\":true,\"ticks\":\"\",\"zerolinecolor\":\"white\"},\"zaxis\":{\"backgroundcolor\":\"#E5ECF6\",\"gridcolor\":\"white\",\"gridwidth\":2,\"linecolor\":\"white\",\"showbackground\":true,\"ticks\":\"\",\"zerolinecolor\":\"white\"}},\"shapedefaults\":{\"line\":{\"color\":\"#2a3f5f\"}},\"ternary\":{\"aaxis\":{\"gridcolor\":\"white\",\"linecolor\":\"white\",\"ticks\":\"\"},\"baxis\":{\"gridcolor\":\"white\",\"linecolor\":\"white\",\"ticks\":\"\"},\"bgcolor\":\"#E5ECF6\",\"caxis\":{\"gridcolor\":\"white\",\"linecolor\":\"white\",\"ticks\":\"\"}},\"title\":{\"x\":0.05},\"xaxis\":{\"automargin\":true,\"gridcolor\":\"white\",\"linecolor\":\"white\",\"ticks\":\"\",\"title\":{\"standoff\":15},\"zerolinecolor\":\"white\",\"zerolinewidth\":2},\"yaxis\":{\"automargin\":true,\"gridcolor\":\"white\",\"linecolor\":\"white\",\"ticks\":\"\",\"title\":{\"standoff\":15},\"zerolinecolor\":\"white\",\"zerolinewidth\":2}}},\"title\":{\"text\":\"Gradient Means and Variances Across Training Steps\"},\"xaxis\":{\"anchor\":\"y\",\"domain\":[0.0,1.0],\"title\":{\"text\":\"Training Step\"}},\"yaxis\":{\"anchor\":\"x\",\"domain\":[0.0,1.0],\"title\":{\"text\":\"Mean of Gradients\"}}},                        {\"responsive\": true}                    ).then(function(){\n",
       "                            \n",
       "var gd = document.getElementById('739e05f2-ae6f-4e54-b09e-3d4c4f43fc29');\n",
       "var x = new MutationObserver(function (mutations, observer) {{\n",
       "        var display = window.getComputedStyle(gd).display;\n",
       "        if (!display || display === 'none') {{\n",
       "            console.log([gd, 'removed!']);\n",
       "            Plotly.purge(gd);\n",
       "            observer.disconnect();\n",
       "        }}\n",
       "}});\n",
       "\n",
       "// Listen for the removal of the full notebook cells\n",
       "var notebookContainer = gd.closest('#notebook-container');\n",
       "if (notebookContainer) {{\n",
       "    x.observe(notebookContainer, {childList: true});\n",
       "}}\n",
       "\n",
       "// Listen for the clearing of the current output cell\n",
       "var outputEl = gd.closest('.output');\n",
       "if (outputEl) {{\n",
       "    x.observe(outputEl, {childList: true});\n",
       "}}\n",
       "\n",
       "                        })                };                });            </script>        </div>"
      ]
     },
     "metadata": {},
     "output_type": "display_data"
    }
   ],
   "source": [
    "iplot(fig)"
   ]
  },
  {
   "cell_type": "code",
   "execution_count": 37,
   "metadata": {},
   "outputs": [
    {
     "data": {
      "text/html": [
       "        <script type=\"text/javascript\">\n",
       "        window.PlotlyConfig = {MathJaxConfig: 'local'};\n",
       "        if (window.MathJax && window.MathJax.Hub && window.MathJax.Hub.Config) {window.MathJax.Hub.Config({SVG: {font: \"STIX-Web\"}});}\n",
       "        if (typeof require !== 'undefined') {\n",
       "        require.undef(\"plotly\");\n",
       "        requirejs.config({\n",
       "            paths: {\n",
       "                'plotly': ['https://cdn.plot.ly/plotly-2.32.0.min']\n",
       "            }\n",
       "        });\n",
       "        require(['plotly'], function(Plotly) {\n",
       "            window._Plotly = Plotly;\n",
       "        });\n",
       "        }\n",
       "        </script>\n",
       "        "
      ]
     },
     "metadata": {},
     "output_type": "display_data"
    }
   ],
   "source": [
    "init_notebook_mode(connected=True)\n"
   ]
  },
  {
   "cell_type": "code",
   "execution_count": 4,
   "metadata": {},
   "outputs": [
    {
     "data": {
      "text/html": [
       "        <script type=\"text/javascript\">\n",
       "        window.PlotlyConfig = {MathJaxConfig: 'local'};\n",
       "        if (window.MathJax && window.MathJax.Hub && window.MathJax.Hub.Config) {window.MathJax.Hub.Config({SVG: {font: \"STIX-Web\"}});}\n",
       "        if (typeof require !== 'undefined') {\n",
       "        require.undef(\"plotly\");\n",
       "        requirejs.config({\n",
       "            paths: {\n",
       "                'plotly': ['https://cdn.plot.ly/plotly-2.32.0.min']\n",
       "            }\n",
       "        });\n",
       "        require(['plotly'], function(Plotly) {\n",
       "            window._Plotly = Plotly;\n",
       "        });\n",
       "        }\n",
       "        </script>\n",
       "        "
      ]
     },
     "metadata": {},
     "output_type": "display_data"
    }
   ],
   "source": [
    "import plotly.graph_objs as go\n",
    "from plotly.offline import init_notebook_mode, iplot\n",
    "import numpy as np\n",
    "\n",
    "# Initialize plotly for use in the notebook\n",
    "init_notebook_mode(connected=True)\n",
    "\n",
    "# Generate some sample data\n",
    "x = np.linspace(0, 10, 100)\n",
    "y1 = np.sin(x)\n",
    "y2 = np.cos(x)\n",
    "\n",
    "# Create traces\n",
    "trace1 = go.Scatter(\n",
    "    x = x,\n",
    "    y = y1,\n",
    "    mode = 'lines',\n",
    "    name = 'sin(x)'\n",
    ")\n",
    "trace2 = go.Scatter(\n",
    "    x = x,\n",
    "    y = y2,\n",
    "    mode = 'lines',\n",
    "    name = 'cos(x)'\n",
    ")\n",
    "\n",
    "# Create layout\n",
    "layout = go.Layout(\n",
    "    title = 'Simple Interactive Plotly Graph',\n",
    "    xaxis = dict(title = 'X-axis'),\n",
    "    yaxis = dict(title = 'Y-axis')\n",
    ")\n",
    "\n",
    "# Combine trace and layout\n",
    "fig = go.Figure(data=[trace1, trace2], layout=layout)\n",
    "\n",
    "# Plot!"
   ]
  },
  {
   "cell_type": "markdown",
   "metadata": {},
   "source": [
    "### Exp 32"
   ]
  },
  {
   "cell_type": "code",
   "execution_count": 7,
   "metadata": {},
   "outputs": [],
   "source": [
    "exp32_weights = read_tensor(\"/fsx/phuc/new_workspace/experiments/infini_attention_8b_llama/exp32_200m_infini_llama2_256_ctx_length_and_64_segment_length_and_2m_bs/checkpoints/10000/model/model/decoder/2/pp_block/attn/model_balance_factors_pp-rank-0-of-1_tp-rank-0-of-2.safetensors\")"
   ]
  },
  {
   "cell_type": "code",
   "execution_count": 8,
   "metadata": {},
   "outputs": [
    {
     "data": {
      "text/plain": [
       "tensor([0.4961, 0.4922, 0.4941, 0.4922], dtype=torch.bfloat16)"
      ]
     },
     "execution_count": 8,
     "metadata": {},
     "output_type": "execute_result"
    }
   ],
   "source": [
    "F.sigmoid(exp32_weights)"
   ]
  },
  {
   "cell_type": "code",
   "execution_count": 9,
   "metadata": {},
   "outputs": [
    {
     "data": {
      "text/plain": [
       "tensor([0.4961, 0.4922, 0.4941, 0.4922], dtype=torch.bfloat16)"
      ]
     },
     "execution_count": 9,
     "metadata": {},
     "output_type": "execute_result"
    }
   ],
   "source": [
    "F.sigmoid(read_tensor(\"/fsx/phuc/new_workspace/experiments/infini_attention_8b_llama/exp32_200m_infini_llama2_256_ctx_length_and_64_segment_length_and_2m_bs/checkpoints/10000/model/model/decoder/2/pp_block/attn/model_balance_factors_pp-rank-0-of-1_tp-rank-1-of-2.safetensors\"))"
   ]
  },
  {
   "cell_type": "code",
   "execution_count": 10,
   "metadata": {},
   "outputs": [
    {
     "data": {
      "text/plain": [
       "tensor([0.4922, 0.4922, 0.4922, 0.4961], dtype=torch.bfloat16)"
      ]
     },
     "execution_count": 10,
     "metadata": {},
     "output_type": "execute_result"
    }
   ],
   "source": [
    "F.sigmoid(read_tensor(\"/fsx/phuc/new_workspace/experiments/infini_attention_8b_llama/exp32_200m_infini_llama2_256_ctx_length_and_64_segment_length_and_2m_bs/checkpoints/10000/model/model/decoder/0/pp_block/attn/model_balance_factors_pp-rank-0-of-1_tp-rank-1-of-2.safetensors\"))"
   ]
  },
  {
   "cell_type": "code",
   "execution_count": 11,
   "metadata": {},
   "outputs": [
    {
     "data": {
      "text/plain": [
       "tensor([0.4922, 0.4922, 0.4922, 0.4961], dtype=torch.bfloat16)"
      ]
     },
     "execution_count": 11,
     "metadata": {},
     "output_type": "execute_result"
    }
   ],
   "source": [
    "F.sigmoid(read_tensor(\"/fsx/phuc/new_workspace/experiments/infini_attention_8b_llama/exp32_200m_infini_llama2_256_ctx_length_and_64_segment_length_and_2m_bs/checkpoints/10000/model/model/decoder/0/pp_block/attn/model_balance_factors_pp-rank-0-of-1_tp-rank-0-of-2.safetensors\"))"
   ]
  },
  {
   "cell_type": "code",
   "execution_count": null,
   "metadata": {},
   "outputs": [],
   "source": []
  }
 ],
 "metadata": {
  "kernelspec": {
   "display_name": "Python 3 (ipykernel)",
   "language": "python",
   "name": "python3"
  },
  "language_info": {
   "codemirror_mode": {
    "name": "ipython",
    "version": 3
   },
   "file_extension": ".py",
   "mimetype": "text/x-python",
   "name": "python",
   "nbconvert_exporter": "python",
   "pygments_lexer": "ipython3",
   "version": "3.10.13"
  }
 },
 "nbformat": 4,
 "nbformat_minor": 2
}
