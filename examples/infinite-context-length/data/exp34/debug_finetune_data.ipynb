{
 "cells": [
  {
   "cell_type": "code",
   "execution_count": 1,
   "metadata": {},
   "outputs": [
    {
     "name": "stdout",
     "output_type": "stream",
     "text": [
      "[512, 1024, 1536, 2048, 2560, 3072, 3584, 4096, 4608, 5120, 5632, 6144, 6656, 7168, 7680, 8192, 8704, 9216, 9728, 10240, 10752, 11264, 11776, 12288, 12800, 13312, 13824, 14336, 14848, 15360, 15872]\n"
     ]
    }
   ],
   "source": [
    "print([512*x for x in range(1, 32)])"
   ]
  },
  {
   "cell_type": "code",
   "execution_count": 2,
   "metadata": {},
   "outputs": [
    {
     "data": {
      "text/plain": [
       "31"
      ]
     },
     "execution_count": 2,
     "metadata": {},
     "output_type": "execute_result"
    }
   ],
   "source": [
    "len([512*x for x in range(1, 32)])"
   ]
  },
  {
   "cell_type": "code",
   "execution_count": 1,
   "metadata": {},
   "outputs": [
    {
     "name": "stderr",
     "output_type": "stream",
     "text": [
      "/admin/home/phuc_nguyen/miniconda3/envs/nanotron-dev/lib/python3.10/site-packages/tqdm/auto.py:21: TqdmWarning: IProgress not found. Please update jupyter and ipywidgets. See https://ipywidgets.readthedocs.io/en/stable/user_install.html\n",
      "  from .autonotebook import tqdm as notebook_tqdm\n"
     ]
    }
   ],
   "source": [
    "from datasets import load_dataset, load_from_disk"
   ]
  },
  {
   "cell_type": "code",
   "execution_count": 8,
   "metadata": {},
   "outputs": [],
   "source": [
    "data = load_from_disk(\"/fsx/phuc/projects/nanotron/examples/infinite-context-length/data/exp34/finetune_data/needle_eval_and_512_ctx_and_depth_5_and_id_0\")"
   ]
  },
  {
   "cell_type": "code",
   "execution_count": 10,
   "metadata": {},
   "outputs": [
    {
     "data": {
      "text/plain": [
       "{'id': 'cc0e78ca-6d2a-488d-a39e-de75a74584d0',\n",
       " 'prompt': 'There is a pass key hidden inside a lot of irrelevant text. Find it and memorize them. I will quiz you about what is the pass key later on. . The pass key is 455. Remember it. 455 is the pass key.  The grass is green. The sky is blue. The sun is yellow. Here we go. There and back again. The grass is green. The sky is blue. The sun is yellow. Here we go. There and back again. The grass is green. The sky is blue. The sun is yellow. Here we go. There and back again. The grass is green. The sky is blue. The sun is yellow. Here we go. There and back again. The grass is green. The sky is blue. The sun is yellow. Here we go. There and back again. The grass is green. The sky is blue. The sun is yellow. Here we go. There and back again. The grass is green. The sky is blue. The sun is yellow. Here we go. There and back again. The grass is green. The sky is blue. The sun is yellow. Here we go. There and back again. The grass is green. The sky is blue. The sun is yellow. Here we go. There and back again. The grass is green. The sky is blue. The sun is yellow. Here we go. There and back again. The grass is green. The sky is blue. The sun is yellow. Here we go. There and back again. The grass is green. The sky is blue. The sun is yellow. Here we go. There and back again. \\n\\nWhat is the pass key? The pass key is 455.',\n",
       " 'answer': 455,\n",
       " 'context_length': 512,\n",
       " 'num_tokens': 355,\n",
       " 'depth_percent': 5}"
      ]
     },
     "execution_count": 10,
     "metadata": {},
     "output_type": "execute_result"
    }
   ],
   "source": [
    "data[0]"
   ]
  },
  {
   "cell_type": "code",
   "execution_count": null,
   "metadata": {},
   "outputs": [],
   "source": []
  },
  {
   "cell_type": "markdown",
   "metadata": {},
   "source": [
    "### Merge datasets"
   ]
  },
  {
   "cell_type": "code",
   "execution_count": 2,
   "metadata": {},
   "outputs": [],
   "source": [
    "from datasets import load_dataset, DatasetDict, Dataset\n",
    "import os\n",
    "\n",
    "# Specify the path containing the dataset folders\n",
    "# path = \"/fsx/phuc/projects/nanotron/examples/infinite-context-length/data/exp34/finetune_data\"\n",
    "path = \"/fsx/phuc/projects/nanotron/examples/infinite-context-length/data/eval/1024\"\n",
    "\n",
    "# Get a list of all dataset folders\n",
    "dataset_folders = [folder for folder in os.listdir(path) if os.path.isdir(os.path.join(path, folder))]"
   ]
  },
  {
   "cell_type": "code",
   "execution_count": 3,
   "metadata": {},
   "outputs": [
    {
     "data": {
      "text/plain": [
       "252"
      ]
     },
     "execution_count": 3,
     "metadata": {},
     "output_type": "execute_result"
    }
   ],
   "source": [
    "len(dataset_folders)"
   ]
  },
  {
   "cell_type": "code",
   "execution_count": 4,
   "metadata": {},
   "outputs": [],
   "source": [
    "from datasets import load_from_disk\n",
    "\n",
    "datasets = []\n",
    "for folder in dataset_folders:\n",
    "    dataset_path = os.path.join(path, folder)\n",
    "    dataset = load_from_disk(dataset_path)\n",
    "    datasets.append(dataset)"
   ]
  },
  {
   "cell_type": "code",
   "execution_count": 5,
   "metadata": {},
   "outputs": [],
   "source": [
    "from datasets import concatenate_datasets\n",
    "merged_dataset = concatenate_datasets(datasets)"
   ]
  },
  {
   "cell_type": "code",
   "execution_count": 6,
   "metadata": {},
   "outputs": [
    {
     "data": {
      "text/plain": [
       "'There is a pass key hidden inside a lot of irrelevant text. Find it and memorize them. I will quiz you about what is the pass key later on. \\n\\n Passage: The gatecode is 312. Remember it. 312 is the gatecode. The grass is green. The sky is blue. The sun is yellow. Here we go. There and back again. The grass is green. The sky is blue. The sun is yellow. Here we go. There and back again. What is the gatecode? The gatecode is 312. \\n\\n Passage: The grass is green. The sky is blue. The sun is yellow. Here we go. There and back again. The vault key is 415. Remember it. 415 is the vault key. The grass is green. The sky is blue. The sun is yellow. Here we go. There and back again. What is the gatecode? The vault key is 415. \\n\\n Passage: The grass is green. The sky is blue. The sun is yellow. Here we go. There and back again. The grass is green. The sky is blue. The sun is yellow. Here we go. The encrypted message is 34. Remember it. 34 is the encrypted message. There and back again. What is the encrypted message? The encrypted message is 34. \\n \\n Passage:  The grass is green. The sky is blue. The sun is yellow. Here we go. There and back again. The grass is green. The sky is blue. The sun is yellow. Here we go. There and back again. The grass is green. The sky is blue. The sun is yellow. Here we go. There and back again. The grass is green. The sky is blue. The sun is yellow. Here we go. There and back again. The grass is green. The sky is blue. The sun is yellow. Here we go. There and back again. The grass is green. The sky is blue. The sun is yellow. Here we go. There and back again. The grass is green. The sky is blue. The sun is yellow. Here we go. There and back again. The grass is green. The sky is blue. The sun is yellow. Here we go. There and back again. The grass is green. The sky is blue. The sun is yellow. Here we go. There and back again. The grass is green. The sky is blue. The sun is yellow. Here we go. There and back again. The grass is green. The sky is blue. The sun is yellow. Here we go. There and back again. The grass is green. The sky is blue. The sun is yellow. Here we go. There and back again. The grass is green. The sky is blue. The sun is yellow. Here we go. There and back again. The grass is green. The sky is blue. The sun is yellow. Here we go. There and back again. The grass is green. The sky is blue. The sun is yellow. Here we go. There and back again. The grass is green. The sky is blue. The sun is yellow. Here we go. There and back again. The. The pass key is 25. Remember it. 25 is the pass key.  grass is green. The sky is blue. The sun is yellow. Here we go. There and back again. The grass is green. The sky is blue. The sun is yellow. Here we go. There and back again. The grass is green. The sky is blue. The sun is yellow. Here we go. There and back a. What is the pass key? The pass key is 25.'"
      ]
     },
     "execution_count": 6,
     "metadata": {},
     "output_type": "execute_result"
    }
   ],
   "source": [
    "merged_dataset[0][\"prompt\"]"
   ]
  },
  {
   "cell_type": "code",
   "execution_count": 9,
   "metadata": {},
   "outputs": [
    {
     "data": {
      "text/plain": [
       "{'id': 'c010a7e7-9a0e-48f9-a78e-bc106a70192b',\n",
       " 'prompt': 'There is a pass key hidden inside a lot of irrelevant text. Find it and memorize them. I will quiz you about what is the pass key later on. \\n\\n Passage: The gatecode is 312. Remember it. 312 is the gatecode. The grass is green. The sky is blue. The sun is yellow. Here we go. There and back again. The grass is green. The sky is blue. The sun is yellow. Here we go. There and back again. What is the gatecode? The gatecode is 312. \\n \\n Passage:  The grass is green. The sky is blue. The sun is yellow. Here we go. There and back again. The grass is green. The sky is blue. The sun is yellow. Here we go. There and back again. The grass is green. The sky is blue. The sun is. The pass key is 96. Remember it. 96 is the pass key.  yellow. Here we go. There and back again. The grass is green. The sky is blue. The sun is yellow. Here we go. There and back again. The grass is green. The sky is blue. The sun is yellow. Here we go. There and back again. The grass is green. The sky is blue. The sun is yellow. Here we go. There and back again. The grass is green. The sky is blue. The sun is yellow. Here we go. There and back again. The grass is green. The sky is blue. The sun is yellow. Here we go. There and back again. The grass is green. The sky is blue. The sun is yellow. Here we go. There and back again. The grass is green. The sky is blue. The sun is yellow. Here we go. There and back again. The grass is green. The sky is blue. The sun is yellow. Here we go. There and back again. The grass is green. The sky is blue. The sun is yellow. Here we go. There and back again. The grass is green. The sky is blue. The sun is yellow. Here we go. There and back again. The grass is green. The sky is blue. The sun is yellow. Here we go. There and back again. The grass is green. The sky is blue. The sun is yellow. Here we go. There and back again. The grass is green. The sky is blue. The sun is yellow. Here we go. There and back again. The grass is green. The sky is blue. The sun is yellow. Here we go. There and back again. The grass is green. The sky is blue. The sun is yellow. Here we go. There and back again. The grass is green. The sky is blue. The sun is yellow. Here we go. There and back again. The grass is green. The sky is blue. The sun is yellow. Here we go. There and back again. The grass is green. The sky is blue. The sun is yellow. Here we go. There and back again. The grass is green. The sky is blue. The sun is yellow. Here we go. There and back again. The grass is green. The sky is blue. The sun is yellow. Here we go. There and back again. The grass is green. The sky is blue. The sun is yellow. Here we go. There and back again. The grass is green. The sky is blue. The sun is yellow. Here we go. There and back again. The grass is green. The sky is blue. The sun is yellow. Here we go. There and back again. The grass is green. The sky is blue. The sun is yellow. Here we go. There and back again. The grass is green. The sky is blue. The sun is yellow. Here we go. There and back again. The grass is green. The sky is blue. The sun is yellow. Here we go. There and back again. The grass is green. The sky is blue. The sun is yellow. Here we go. There and back again. The grass is green. The sky is blue. The sun is yellow. Here we go. There and back again. The grass is green. The sky is blue. The sun is yellow. Here we go. Ther. What is the pass key? The pass key is 96.',\n",
       " 'answer': 96,\n",
       " 'context_length': 1024,\n",
       " 'token_count': 916,\n",
       " 'num_shots': 1,\n",
       " 'num_digits': 2,\n",
       " 'depth_percent': 10}"
      ]
     },
     "execution_count": 9,
     "metadata": {},
     "output_type": "execute_result"
    }
   ],
   "source": [
    "merged_dataset[-1]"
   ]
  },
  {
   "cell_type": "code",
   "execution_count": 11,
   "metadata": {},
   "outputs": [
    {
     "data": {
      "text/plain": [
       "Dataset({\n",
       "    features: ['id', 'prompt', 'answer', 'context_length', 'token_count', 'num_shots', 'num_digits', 'depth_percent'],\n",
       "    num_rows: 12600\n",
       "})"
      ]
     },
     "execution_count": 11,
     "metadata": {},
     "output_type": "execute_result"
    }
   ],
   "source": [
    "merged_dataset"
   ]
  },
  {
   "cell_type": "code",
   "execution_count": 13,
   "metadata": {},
   "outputs": [
    {
     "name": "stdout",
     "output_type": "stream",
     "text": [
      "               count   mean  std    min    25%    50%    75%    max\n",
      "depth_percent                                                      \n",
      "0                4.0  150.0  0.0  150.0  150.0  150.0  150.0  150.0\n",
      "5                4.0  150.0  0.0  150.0  150.0  150.0  150.0  150.0\n",
      "10               4.0  150.0  0.0  150.0  150.0  150.0  150.0  150.0\n",
      "15               4.0  150.0  0.0  150.0  150.0  150.0  150.0  150.0\n",
      "20               4.0  150.0  0.0  150.0  150.0  150.0  150.0  150.0\n",
      "25               4.0  150.0  0.0  150.0  150.0  150.0  150.0  150.0\n",
      "30               4.0  150.0  0.0  150.0  150.0  150.0  150.0  150.0\n",
      "35               4.0  150.0  0.0  150.0  150.0  150.0  150.0  150.0\n",
      "40               4.0  150.0  0.0  150.0  150.0  150.0  150.0  150.0\n",
      "45               4.0  150.0  0.0  150.0  150.0  150.0  150.0  150.0\n",
      "50               4.0  150.0  0.0  150.0  150.0  150.0  150.0  150.0\n",
      "55               4.0  150.0  0.0  150.0  150.0  150.0  150.0  150.0\n",
      "60               4.0  150.0  0.0  150.0  150.0  150.0  150.0  150.0\n",
      "65               4.0  150.0  0.0  150.0  150.0  150.0  150.0  150.0\n",
      "70               4.0  150.0  0.0  150.0  150.0  150.0  150.0  150.0\n",
      "75               4.0  150.0  0.0  150.0  150.0  150.0  150.0  150.0\n",
      "80               4.0  150.0  0.0  150.0  150.0  150.0  150.0  150.0\n",
      "85               4.0  150.0  0.0  150.0  150.0  150.0  150.0  150.0\n",
      "90               4.0  150.0  0.0  150.0  150.0  150.0  150.0  150.0\n",
      "95               4.0  150.0  0.0  150.0  150.0  150.0  150.0  150.0\n",
      "100              4.0  150.0  0.0  150.0  150.0  150.0  150.0  150.0\n"
     ]
    }
   ],
   "source": [
    "df = merged_dataset.to_pandas()\n",
    "\n",
    "# Group by depth_percent and num_shots, then count samples\n",
    "grouped = df.groupby(['depth_percent', 'num_shots']).size().reset_index(name='sample_count')\n",
    "\n",
    "# Generate summary statistics for each depth_percent\n",
    "summary_stats = grouped.groupby('depth_percent')['sample_count'].describe()\n",
    "\n",
    "print(summary_stats)\n"
   ]
  },
  {
   "cell_type": "code",
   "execution_count": 16,
   "metadata": {},
   "outputs": [
    {
     "name": "stdout",
     "output_type": "stream",
     "text": [
      "Depth 85%:\n",
      "  0 shots: 150 samples\n",
      "  1 shots: 150 samples\n",
      "  2 shots: 150 samples\n",
      "  3 shots: 150 samples\n",
      "Depth 45%:\n",
      "  0 shots: 150 samples\n",
      "  1 shots: 150 samples\n",
      "  2 shots: 150 samples\n",
      "  3 shots: 150 samples\n",
      "Depth 25%:\n",
      "  0 shots: 150 samples\n",
      "  1 shots: 150 samples\n",
      "  2 shots: 150 samples\n",
      "  3 shots: 150 samples\n",
      "Depth 80%:\n",
      "  0 shots: 150 samples\n",
      "  1 shots: 150 samples\n",
      "  2 shots: 150 samples\n",
      "  3 shots: 150 samples\n",
      "Depth 40%:\n",
      "  0 shots: 150 samples\n",
      "  1 shots: 150 samples\n",
      "  2 shots: 150 samples\n",
      "  3 shots: 150 samples\n",
      "Depth 100%:\n",
      "  0 shots: 150 samples\n",
      "  1 shots: 150 samples\n",
      "  2 shots: 150 samples\n",
      "  3 shots: 150 samples\n",
      "Depth 20%:\n",
      "  0 shots: 150 samples\n",
      "  1 shots: 150 samples\n",
      "  2 shots: 150 samples\n",
      "  3 shots: 150 samples\n",
      "Depth 70%:\n",
      "  0 shots: 150 samples\n",
      "  1 shots: 150 samples\n",
      "  2 shots: 150 samples\n",
      "  3 shots: 150 samples\n",
      "Depth 15%:\n",
      "  0 shots: 150 samples\n",
      "  1 shots: 150 samples\n",
      "  2 shots: 150 samples\n",
      "  3 shots: 150 samples\n",
      "Depth 35%:\n",
      "  0 shots: 150 samples\n",
      "  1 shots: 150 samples\n",
      "  2 shots: 150 samples\n",
      "  3 shots: 150 samples\n",
      "Depth 5%:\n",
      "  0 shots: 150 samples\n",
      "  1 shots: 150 samples\n",
      "  2 shots: 150 samples\n",
      "  3 shots: 150 samples\n",
      "Depth 0%:\n",
      "  0 shots: 150 samples\n",
      "  1 shots: 150 samples\n",
      "  2 shots: 150 samples\n",
      "  3 shots: 150 samples\n",
      "Depth 75%:\n",
      "  0 shots: 150 samples\n",
      "  1 shots: 150 samples\n",
      "  2 shots: 150 samples\n",
      "  3 shots: 150 samples\n",
      "Depth 30%:\n",
      "  0 shots: 150 samples\n",
      "  1 shots: 150 samples\n",
      "  2 shots: 150 samples\n",
      "  3 shots: 150 samples\n",
      "Depth 10%:\n",
      "  0 shots: 150 samples\n",
      "  1 shots: 150 samples\n",
      "  2 shots: 150 samples\n",
      "  3 shots: 150 samples\n",
      "Depth 50%:\n",
      "  0 shots: 150 samples\n",
      "  1 shots: 150 samples\n",
      "  2 shots: 150 samples\n",
      "  3 shots: 150 samples\n",
      "Depth 95%:\n",
      "  0 shots: 150 samples\n",
      "  1 shots: 150 samples\n",
      "  2 shots: 150 samples\n",
      "  3 shots: 150 samples\n",
      "Depth 60%:\n",
      "  0 shots: 150 samples\n",
      "  1 shots: 150 samples\n",
      "  2 shots: 150 samples\n",
      "  3 shots: 150 samples\n",
      "Depth 55%:\n",
      "  0 shots: 150 samples\n",
      "  1 shots: 150 samples\n",
      "  2 shots: 150 samples\n",
      "  3 shots: 150 samples\n",
      "Depth 90%:\n",
      "  0 shots: 150 samples\n",
      "  1 shots: 150 samples\n",
      "  2 shots: 150 samples\n",
      "  3 shots: 150 samples\n",
      "Depth 65%:\n",
      "  0 shots: 150 samples\n",
      "  1 shots: 150 samples\n",
      "  2 shots: 150 samples\n",
      "  3 shots: 150 samples\n"
     ]
    }
   ],
   "source": [
    "from collections import defaultdict\n",
    "\n",
    "# Initialize a nested defaultdict to store counts\n",
    "counts = defaultdict(lambda: defaultdict(int))\n",
    "\n",
    "# Iterate through the dataset and count\n",
    "for item in merged_dataset:\n",
    "    depth = item['depth_percent']\n",
    "    shots = item['num_shots']\n",
    "    if shots in [0, 1, 2, 3]:\n",
    "        counts[depth][shots] += 1\n",
    "\n",
    "# Convert to a more readable format\n",
    "result = {depth: dict(shot_counts) for depth, shot_counts in counts.items()}\n",
    "\n",
    "# Print the results\n",
    "for depth, shot_counts in result.items():\n",
    "    print(f\"Depth {depth}%:\")\n",
    "    for shots in [0, 1, 2, 3]:\n",
    "        count = shot_counts.get(shots, 0)\n",
    "        print(f\"  {shots} shots: {count} samples\")"
   ]
  },
  {
   "cell_type": "code",
   "execution_count": 17,
   "metadata": {},
   "outputs": [
    {
     "data": {
      "text/plain": [
       "{'id': '8cc0f8ba-0dc2-4b16-9c18-51401f6898c2',\n",
       " 'prompt': 'There is a pass key hidden inside a lot of irrelevant text. Find it and memorize them. I will quiz you about what is the pass key later on. \\n\\n Passage: The gatecode is 312. Remember it. 312 is the gatecode. The grass is green. The sky is blue. The sun is yellow. Here we go. There and back again. The grass is green. The sky is blue. The sun is yellow. Here we go. There and back again. What is the gatecode? The gatecode is 312. \\n\\n Passage: The grass is green. The sky is blue. The sun is yellow. Here we go. There and back again. The vault key is 415. Remember it. 415 is the vault key. The grass is green. The sky is blue. The sun is yellow. Here we go. There and back again. What is the gatecode? The vault key is 415. \\n\\n Passage: The grass is green. The sky is blue. The sun is yellow. Here we go. There and back again. The grass is green. The sky is blue. The sun is yellow. Here we go. The encrypted message is 34. Remember it. 34 is the encrypted message. There and back again. What is the encrypted message? The encrypted message is 34. \\n \\n Passage:  The grass is green. The sky is blue. The sun is yellow. Here we go. There and back again. The grass is green. The sky is blue. The sun is yellow. Here we go. There and back again. The grass is green. The sky is blue. The sun is yellow. Here we go. There and back again. The grass is green. The sky is blue. The sun is yellow. Here we go. There and back again. The grass is green. The sky is blue. The sun is yellow. Here we go. There and back again. The grass is green. The sky is blue. The sun is yellow. Here we go. There and back again. The grass is green. The sky is blue. The sun is yellow. Here we go. There and back again. The grass is green. The sky is blue. The sun is yellow. Here we go. There and back again. The grass is green. The sky is blue. The sun is yellow. Here we go. There and back again. The grass is green. The sky is blue. The sun is yellow. Here we go. There and back again. The grass is green. The sky is blue. The sun is yellow. Here we go. There and back again. The grass is green. The sky is blue. The sun is yellow. Here we go. There and back again. The grass is green. The sky is blue. The sun is yellow. Here we go. There and back again. The grass is green. The sky is blue. The sun is yellow. Here we go. There and back again. The grass is green. The sky is blue. The sun is yellow. Here we go. There and back again. The grass is green. The sky is blue. The sun is yellow. Here we go. There and back again. The. The pass key is 85. Remember it. 85 is the pass key.  grass is green. The sky is blue. The sun is yellow. Here we go. There and back again. The grass is green. The sky is blue. The sun is yellow. Here we go. There and back again. The grass is green. The sky is blue. The sun is yellow. Here we go. There and back a. What is the pass key? The pass key is 85.',\n",
       " 'answer': 85,\n",
       " 'context_length': 1024,\n",
       " 'token_count': 769,\n",
       " 'num_shots': 3,\n",
       " 'num_digits': 2,\n",
       " 'depth_percent': 85}"
      ]
     },
     "execution_count": 17,
     "metadata": {},
     "output_type": "execute_result"
    }
   ],
   "source": [
    "merged_dataset[20]"
   ]
  },
  {
   "cell_type": "code",
   "execution_count": 18,
   "metadata": {},
   "outputs": [],
   "source": [
    "merged_dataset = merged_dataset.shuffle(seed=91)"
   ]
  },
  {
   "cell_type": "code",
   "execution_count": 19,
   "metadata": {},
   "outputs": [
    {
     "name": "stderr",
     "output_type": "stream",
     "text": [
      "Saving the dataset (1/1 shards): 100%|██████████████████████| 12600/12600 [00:00<00:00, 91676.55 examples/s]\n"
     ]
    }
   ],
   "source": [
    "merged_dataset.save_to_disk(\"/fsx/phuc/projects/nanotron/examples/infinite-context-length/data/eval/merged_1024_passkey_eval_data\")"
   ]
  },
  {
   "cell_type": "code",
   "execution_count": 20,
   "metadata": {},
   "outputs": [],
   "source": [
    "new_data = load_from_disk(\"/fsx/phuc/projects/nanotron/examples/infinite-context-length/data/eval/merged_1024_passkey_eval_data\")"
   ]
  },
  {
   "cell_type": "code",
   "execution_count": 21,
   "metadata": {},
   "outputs": [
    {
     "name": "stderr",
     "output_type": "stream",
     "text": [
      "Creating parquet from Arrow format: 100%|██████████████████████████████████| 13/13 [00:00<00:00, 347.42ba/s]\n",
      "Uploading the dataset shards: 100%|███████████████████████████████████████████| 1/1 [00:00<00:00,  2.32it/s]\n"
     ]
    },
    {
     "data": {
      "text/plain": [
       "CommitInfo(commit_url='https://huggingface.co/datasets/nanotron/llama3-1024-passkey-retrieval-eval/commit/24efd50391fb366ea00c18095a7c7007dd169438', commit_message='Upload dataset', commit_description='', oid='24efd50391fb366ea00c18095a7c7007dd169438', pr_url=None, pr_revision=None, pr_num=None)"
      ]
     },
     "execution_count": 21,
     "metadata": {},
     "output_type": "execute_result"
    }
   ],
   "source": [
    "new_data.push_to_hub(\n",
    "    repo_id=\"nanotron/llama3-1024-passkey-retrieval-eval\",\n",
    "    # repo_type=\"dataset\",\n",
    "    # private=True,  # Set to False if you want the dataset to be public\n",
    "    # token=\"your_access_token\"\n",
    ")"
   ]
  },
  {
   "cell_type": "code",
   "execution_count": 23,
   "metadata": {},
   "outputs": [],
   "source": [
    "d = load_dataset(\"nanotron/llama3-1024-passkey-retrieval-eval\")"
   ]
  },
  {
   "cell_type": "code",
   "execution_count": 47,
   "metadata": {},
   "outputs": [],
   "source": [
    "new = d.filter(lambda x: x['depth_percent'] == 10 and x['num_shots'] == 2)"
   ]
  },
  {
   "cell_type": "code",
   "execution_count": 48,
   "metadata": {},
   "outputs": [
    {
     "data": {
      "text/plain": [
       "{'id': '4f88f0e9-75e7-4b5e-b01f-553810398cd1',\n",
       " 'prompt': 'There is a pass key hidden inside a lot of irrelevant text. Find it and memorize them. I will quiz you about what is the pass key later on. \\n\\n Passage: The gatecode is 312. Remember it. 312 is the gatecode. The grass is green. The sky is blue. The sun is yellow. Here we go. There and back again. The grass is green. The sky is blue. The sun is yellow. Here we go. There and back again. What is the gatecode? The gatecode is 312. \\n\\n Passage: The grass is green. The sky is blue. The sun is yellow. Here we go. There and back again. The vault key is 415. Remember it. 415 is the vault key. The grass is green. The sky is blue. The sun is yellow. Here we go. There and back again. What is the gatecode? The vault key is 415. \\n \\n Passage:  The grass is green. The sky is blue. The sun is yellow. Here we go. There and back again. The grass is green. The sky is blue. The sun is yellow. Here we go. The pass key is 35. Remember it. 35 is the pass key.. There and back again. The grass is green. The sky is blue. The sun is yellow. Here we go. There and back again. The grass is green. The sky is blue. The sun is yellow. Here we go. There and back again. The grass is green. The sky is blue. The sun is yellow. Here we go. There and back again. The grass is green. The sky is blue. The sun is yellow. Here we go. There and back again. The grass is green. The sky is blue. The sun is yellow. Here we go. There and back again. The grass is green. The sky is blue. The sun is yellow. Here we go. There and back again. The grass is green. The sky is blue. The sun is yellow. Here we go. There and back again. The grass is green. The sky is blue. The sun is yellow. Here we go. There and back again. The grass is green. The sky is blue. The sun is yellow. Here we go. There and back again. The grass is green. The sky is blue. The sun is yellow. Here we go. There and back again. The grass is green. The sky is blue. The sun is yellow. Here we go. There and back again. The grass is green. The sky is blue. The sun is yellow. Here we go. There and back again. The grass is green. The sky is blue. The sun is yellow. Here we go. There and back again. The grass is green. The sky is blue. The sun is yellow. Here we go. There and back again. The grass is green. The sky is blue. The sun is yellow. Here we go. There and back again. The grass is green. The sky is blue. The sun is yellow. Here we go. There and back again. The grass is green. The sky is blue. The sun is yellow. Here we go. There and back again. The grass is green. The sky is blue. The sun is yellow. Here we go. There and back again. The grass is green. The sky is blue. The sun is yellow. Here we go. There and back again. The grass is green. The sky is blue. The sun is yellow. Here we go. There and back again. The grass is green. The sky is blue. The sun is yellow. Here we go. There and back again. The grass is green. The sky is blue. The sun is yellow. Here we go. There and back again. The grass is green. The sky is blue. The sun is yellow. Here we go The grass is green. The sky is blue. The sun is yellow. Here we go. There and back ag. What is the pass key? The pass key is 35.',\n",
       " 'answer': 35,\n",
       " 'context_length': 1024,\n",
       " 'token_count': 848,\n",
       " 'num_shots': 2,\n",
       " 'num_digits': 2,\n",
       " 'depth_percent': 10}"
      ]
     },
     "execution_count": 48,
     "metadata": {},
     "output_type": "execute_result"
    }
   ],
   "source": [
    "new[\"train\"][0]"
   ]
  },
  {
   "cell_type": "code",
   "execution_count": 33,
   "metadata": {},
   "outputs": [],
   "source": [
    "from transformers import AutoTokenizer"
   ]
  },
  {
   "cell_type": "code",
   "execution_count": 36,
   "metadata": {},
   "outputs": [
    {
     "name": "stderr",
     "output_type": "stream",
     "text": [
      "Special tokens have been added in the vocabulary, make sure the associated word embeddings are fine-tuned or trained.\n"
     ]
    }
   ],
   "source": [
    "tokenizer = AutoTokenizer.from_pretrained(\"/fsx/haojun/lighteval_evaluation_model/NanotronLlama3-8B\")"
   ]
  },
  {
   "cell_type": "code",
   "execution_count": 41,
   "metadata": {},
   "outputs": [
    {
     "data": {
      "text/plain": [
       "'There is a pass key hidden inside a lot of irrelevant text. Find it and memorize them. I will quiz you about what is the pass key later on. \\n\\n Passage: The gatecode is 312. Remember it. 312 is the gatecode. The grass is green. The sky is blue. The sun is yellow. Here we go. There and back again. The grass is green. The sky is blue. The sun is yellow. Here we go. There and back again. What is the gatecode? The gatecode is 312. \\n\\n Passage: The grass is green. The sky is blue. The sun is yellow. Here we go. There and back again. The vault key is 415. Remember it. 415 is the vault key. The grass is green. The sky is blue. The sun is yellow. Here we go. There and back again. What is the gatecode? The vault key is 415. \\n . The pass key is 666. Remember it. 666 is the pass key. \\n Passage:  The grass is green. The sky is blue. The sun is yellow. Here we go. There and back again. The grass is green. The sky is blue. The sun is yellow. Here we go. There and back again. The grass is green. The sky is blue. The sun is yellow. Here we go. There and back again. The grass is green. The sky is blue. The sun is yellow. Here we go. There and back again. The grass is green. The sky is blue. The sun is yellow. Here we go. There and back again. The grass is green. The sky is blue. The sun is yellow. Here we go. There and back again. The grass is green. The sky is blue. The sun is yellow. Here we go. There and back again. The grass is green. The sky is blue. The sun is yellow. Here we go. There and back again. The grass is green. The sky is blue. The sun is yellow. Here we go. There and back again. The grass is green. The sky is blue. The sun is yellow. Here we go. There and back again. The grass is green. The sky is blue. The sun is yellow. Here we go. There and back again. The grass is green. The sky is blue. The sun is yellow. Here we go. There and back again. The grass is green. The sky is blue. The sun is yellow. Here we go. There and back again. The grass is green. The sky is blue. The sun is yellow. Here we go. There and back again. The grass is green. The sky is blue. The sun is yellow. Here we go. There and back again. The grass is green. The sky is blue. The sun is yellow. Here we go. There and back again. The grass is green. The sky is blue. The sun is yellow. Here we go. There and back again. The grass is green. The sky is blue. The sun is yellow. Here we go. There and back again. The grass is green. The sky is blue. The sun is yellow. Here we go. There and back again. The grass is green. The sky is blue. The sun is yellow. Here we go. There and back again. The grass is green. The sky is blue. The sun is yellow. Here we go. There and back again. The grass is green. The sky is blue. The sun is yellow. Here we go. There and back again. The grass is green. The sky is blue. The sun is yellow. Here we go. There and back again. The grass is green. The sky is blue. The sun is yellow. Here we go. There and back again. The grass is green. The sky is blue. The sun is yellow. Here we go The grass is green. The sky is blue. The sun is yellow. Here we go. There and back ag. What is the pass key? The pass key is 666.'"
      ]
     },
     "execution_count": 41,
     "metadata": {},
     "output_type": "execute_result"
    }
   ],
   "source": [
    "new[\"train\"][0][\"prompt\"]"
   ]
  },
  {
   "cell_type": "code",
   "execution_count": 45,
   "metadata": {},
   "outputs": [
    {
     "data": {
      "text/plain": [
       "216"
      ]
     },
     "execution_count": 45,
     "metadata": {},
     "output_type": "execute_result"
    }
   ],
   "source": [
    "len(tokenizer.encode(\"There is a pass key hidden inside a lot of irrelevant text. Find it and memorize them. I will quiz you about what is the pass key later on. \\n\\n Passage: The gatecode is 312. Remember it. 312 is the gatecode. The grass is green. The sky is blue. The sun is yellow. Here we go. There and back again. The grass is green. The sky is blue. The sun is yellow. Here we go. There and back again. What is the gatecode? The gatecode is 312. \\n\\n Passage: The grass is green. The sky is blue. The sun is yellow. Here we go. There and back again. The vault key is 415. Remember it. 415 is the vault key. The grass is green. The sky is blue. The sun is yellow. Here we go. There and back again. What is the gatecode? The vault key is 415. \\n . The pass key is 666. Remember it. 666 is the pass key. \\n\"))"
   ]
  },
  {
   "cell_type": "code",
   "execution_count": 55,
   "metadata": {},
   "outputs": [
    {
     "name": "stdout",
     "output_type": "stream",
     "text": [
      "This is a long passage. What is the pass key? The pass key is \n"
     ]
    }
   ],
   "source": [
    "def remove_end_number(text):\n",
    "    # Extract the last 30 characters\n",
    "    last_30 = text[-30:]\n",
    "    \n",
    "    # Find the last occurrence of \"is \"\n",
    "    last_is_index = last_30.rfind(\"is \")\n",
    "    \n",
    "    if last_is_index != -1:\n",
    "        # Remove everything after \"is \"\n",
    "        result = text[:len(text) - (30 - last_is_index - 3)]\n",
    "        return result\n",
    "    else:\n",
    "        # If \"is \" is not found in the last 30 characters, return the original string\n",
    "        return text\n",
    "\n",
    "# Test the function\n",
    "test_string = \"This is a long passage. What is the pass key? The pass key is 35.\"\n",
    "result = remove_end_number(test_string)\n",
    "print(result)"
   ]
  },
  {
   "cell_type": "code",
   "execution_count": 56,
   "metadata": {},
   "outputs": [
    {
     "data": {
      "text/plain": [
       "' pass key? The pass key is 35.'"
      ]
     },
     "execution_count": 56,
     "metadata": {},
     "output_type": "execute_result"
    }
   ],
   "source": [
    "test_string[-30:]"
   ]
  },
  {
   "cell_type": "code",
   "execution_count": null,
   "metadata": {},
   "outputs": [],
   "source": []
  },
  {
   "cell_type": "code",
   "execution_count": null,
   "metadata": {},
   "outputs": [],
   "source": []
  }
 ],
 "metadata": {
  "kernelspec": {
   "display_name": "Python 3 (ipykernel)",
   "language": "python",
   "name": "python3"
  },
  "language_info": {
   "codemirror_mode": {
    "name": "ipython",
    "version": 3
   },
   "file_extension": ".py",
   "mimetype": "text/x-python",
   "name": "python",
   "nbconvert_exporter": "python",
   "pygments_lexer": "ipython3",
   "version": "3.10.13"
  }
 },
 "nbformat": 4,
 "nbformat_minor": 2
}
